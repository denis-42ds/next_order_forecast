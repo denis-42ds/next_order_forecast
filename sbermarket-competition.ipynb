{
 "cells": [
  {
   "cell_type": "markdown",
   "id": "64dd898c",
   "metadata": {
    "papermill": {
     "duration": 0.032743,
     "end_time": "2024-03-02T12:55:07.819455",
     "exception": false,
     "start_time": "2024-03-02T12:55:07.786712",
     "status": "completed"
    },
    "tags": []
   },
   "source": [
    "# Построение ML-продукта для предсказания следующего заказа пользователя\n",
    "\n",
    "- **Описание**\n",
    "<br>Сервисы доставки еды уже давно перестали быть просто курьерами, которые привозят заказ. Индустрия e-grocery стремительно идет к аккумулированию и использованию больших данных, чтобы знать о своих пользователях больше и предоставлять более качественные и персонализированные услуги. Одним из шагов к такой персонализации может быть разработка модели, которая понимает привычки и нужды пользователя, и, к примеру, может угадать, что и когда пользователь захочет заказать в следующий раз.\n",
    "\n",
    "Такая модель, будучи разработанной, может принести значительную ценность для клиента - сэкономить время при сборке корзины, помочь ничего не забыть в заказе, убрать необходимость планировать закупки и следить за заканчивающимися запасами продуктов.\n",
    "\n",
    "В данном соревновании участникам предлагается решить задачу предсказания следующего заказа пользователя (безотносительно конкретного момента времени, когда этот заказ произойдет). Заказ пользователя состоит из списка уникальных категорий товаров, вне зависимости от того, сколько продуктов каждой категории он взял.\n",
    "\n",
    "- **Метрика Заказчика: F1-score**\n",
    "\n",
    "- **Описание данных**\n",
    "<br>В качестве тренировочных данных представляется датасет с историей заказов 20000 пользователей вплоть до даты отсечки, которая разделяет тренировочные и тестовые данные по времени.\n",
    "\n",
    "train.csv:\n",
    "- user_id - уникальный id пользователя\n",
    "- order_completed_at - дата заказа\n",
    "- cart - список уникальных категорий (category_id), из которых состоял заказ\n",
    "<br>В качестве прогноза необходимо для каждой пары пользователь-категория из примера сабмита вернуть 1, если категория будет присутствовать в следующем заказе пользователя, или 0 в ином случае. Список категорий для каждого пользователя примере сабмита - это все категории, которые он когда-либо заказывал.\n",
    "\n",
    "sample_submission.csv:\n",
    "Пример сабмита. В тест входят не все пользователи из тренировочных данных, так как некоторые из них так ничего и не заказали после даты отсечки.\n",
    "\n",
    "- id - идентификатор строки - состоит из user_id и category_id, разделенных точкой с запятой: f'{user_id};{category_id}'. Из-за особенностей проверяющей системы Kaggle InClass, использовать колонки user_id, category_id в качестве индекса отдельно невозможно\n",
    "- target - 1 или 0 - будет ли данная категория присутствовать в следующем заказе пользователя\n",
    "\n",
    "<br>План\n",
    "- знакомство с данными\n",
    "- чистка, первичная обработка\n",
    "- исследовательский анализ данных\n",
    "- разделение на выборки\n",
    "- обучение моделей\n",
    "- выбор лучшей модели\n",
    "- тестирование моделей (тестовая выборка - 1 год)\n",
    "- построение прогноза (период выбран годовой, с удалением повторных входов id)"
   ]
  },
  {
   "cell_type": "markdown",
   "id": "22b11b1e",
   "metadata": {
    "papermill": {
     "duration": 0.033033,
     "end_time": "2024-03-02T12:55:07.885727",
     "exception": false,
     "start_time": "2024-03-02T12:55:07.852694",
     "status": "completed"
    },
    "tags": []
   },
   "source": [
    "## Настройка рабочей среды"
   ]
  },
  {
   "cell_type": "code",
   "execution_count": 1,
   "id": "d8aaf6f2",
   "metadata": {
    "execution": {
     "iopub.execute_input": "2024-03-02T12:55:07.954921Z",
     "iopub.status.busy": "2024-03-02T12:55:07.954388Z",
     "iopub.status.idle": "2024-03-02T12:55:11.960625Z",
     "shell.execute_reply": "2024-03-02T12:55:11.959456Z"
    },
    "papermill": {
     "duration": 4.044725,
     "end_time": "2024-03-02T12:55:11.963694",
     "exception": false,
     "start_time": "2024-03-02T12:55:07.918969",
     "status": "completed"
    },
    "tags": []
   },
   "outputs": [],
   "source": [
    "import numpy as np\n",
    "import pandas as pd\n",
    "import seaborn as sns\n",
    "import matplotlib.pyplot as plt\n",
    "\n",
    "# from prophet import Prophet\n",
    "from sklearn.metrics import f1_score\n",
    "from sklearn.pipeline import Pipeline\n",
    "from kaggle_secrets import UserSecretsClient\n",
    "from sklearn.ensemble import RandomForestClassifier\n",
    "from sklearn.linear_model import LogisticRegression\n",
    "from sklearn.model_selection import (cross_validate,\n",
    "                                     StratifiedKFold,\n",
    "                                     train_test_split)\n",
    "from statsmodels.tsa.seasonal import seasonal_decompose\n",
    "from sklearn.preprocessing import StandardScaler, FunctionTransformer"
   ]
  },
  {
   "cell_type": "markdown",
   "id": "fd445729",
   "metadata": {
    "papermill": {
     "duration": 0.032318,
     "end_time": "2024-03-02T12:55:12.029261",
     "exception": false,
     "start_time": "2024-03-02T12:55:11.996943",
     "status": "completed"
    },
    "tags": []
   },
   "source": [
    "Установка констант"
   ]
  },
  {
   "cell_type": "code",
   "execution_count": 2,
   "id": "0e894e2c",
   "metadata": {
    "execution": {
     "iopub.execute_input": "2024-03-02T12:55:12.106669Z",
     "iopub.status.busy": "2024-03-02T12:55:12.104308Z",
     "iopub.status.idle": "2024-03-02T12:55:12.112759Z",
     "shell.execute_reply": "2024-03-02T12:55:12.111383Z"
    },
    "papermill": {
     "duration": 0.055999,
     "end_time": "2024-03-02T12:55:12.117133",
     "exception": false,
     "start_time": "2024-03-02T12:55:12.061134",
     "status": "completed"
    },
    "tags": []
   },
   "outputs": [],
   "source": [
    "RANDOM_STATE=42\n",
    "PRED = 30  # PRED = 120"
   ]
  },
  {
   "cell_type": "markdown",
   "id": "7747015d",
   "metadata": {
    "papermill": {
     "duration": 0.044675,
     "end_time": "2024-03-02T12:55:12.205151",
     "exception": false,
     "start_time": "2024-03-02T12:55:12.160476",
     "status": "completed"
    },
    "tags": []
   },
   "source": [
    "## Загрузка и первичный EDA"
   ]
  },
  {
   "cell_type": "code",
   "execution_count": 3,
   "id": "ad8de451",
   "metadata": {
    "execution": {
     "iopub.execute_input": "2024-03-02T12:55:12.291178Z",
     "iopub.status.busy": "2024-03-02T12:55:12.290302Z",
     "iopub.status.idle": "2024-03-02T12:55:17.578244Z",
     "shell.execute_reply": "2024-03-02T12:55:17.576172Z"
    },
    "papermill": {
     "duration": 5.331234,
     "end_time": "2024-03-02T12:55:17.581227",
     "exception": false,
     "start_time": "2024-03-02T12:55:12.249993",
     "status": "completed"
    },
    "tags": []
   },
   "outputs": [
    {
     "name": "stdout",
     "output_type": "stream",
     "text": [
      "загружено из каталога Kaggle\n"
     ]
    }
   ],
   "source": [
    "try:\n",
    "    df = pd.read_csv(UserSecretsClient().get_secret(\"train_path\"), parse_dates=['order_completed_at'])\n",
    "    sample_sub = pd.read_csv(UserSecretsClient().get_secret(\"sample_submission_path\"))\n",
    "    print('загружено из каталога Kaggle')\n",
    "except:\n",
    "    df = pd.read_csv('data/train.csv')\n",
    "    sample_sub = pd.read_csv('data/sample_submission.csv')\n",
    "    print('загружено из каталога \"data\"')"
   ]
  },
  {
   "cell_type": "markdown",
   "id": "799e981e",
   "metadata": {
    "papermill": {
     "duration": 0.033172,
     "end_time": "2024-03-02T12:55:17.646201",
     "exception": false,
     "start_time": "2024-03-02T12:55:17.613029",
     "status": "completed"
    },
    "tags": []
   },
   "source": [
    "### Импорт выходных и праздничных дней\n",
    "<br>Загружено с сайта [xmlcalendar](https://xmlcalendar.ru/)"
   ]
  },
  {
   "cell_type": "code",
   "execution_count": 4,
   "id": "c120f155",
   "metadata": {
    "execution": {
     "iopub.execute_input": "2024-03-02T12:55:17.714883Z",
     "iopub.status.busy": "2024-03-02T12:55:17.714371Z",
     "iopub.status.idle": "2024-03-02T12:55:23.020893Z",
     "shell.execute_reply": "2024-03-02T12:55:23.018246Z"
    },
    "papermill": {
     "duration": 5.345121,
     "end_time": "2024-03-02T12:55:23.024087",
     "exception": false,
     "start_time": "2024-03-02T12:55:17.678966",
     "status": "completed"
    },
    "tags": []
   },
   "outputs": [
    {
     "name": "stdout",
     "output_type": "stream",
     "text": [
      "данные успешно загружены\n"
     ]
    }
   ],
   "source": [
    "years = [2015, 2016, 2017, 2018, 2019, 2020]\n",
    "holidays_dict = {}\n",
    "\n",
    "for year in years:\n",
    "    url = f\"https://xmlcalendar.ru/data/ru/{year}/calendar.csv\"\n",
    "    holidays_dict[f'{year}'] = pd.read_csv(url)\n",
    "print('данные успешно загружены')"
   ]
  },
  {
   "cell_type": "code",
   "execution_count": 5,
   "id": "082487a8",
   "metadata": {
    "execution": {
     "iopub.execute_input": "2024-03-02T12:55:23.090432Z",
     "iopub.status.busy": "2024-03-02T12:55:23.089936Z",
     "iopub.status.idle": "2024-03-02T12:55:23.100486Z",
     "shell.execute_reply": "2024-03-02T12:55:23.099487Z"
    },
    "papermill": {
     "duration": 0.047319,
     "end_time": "2024-03-02T12:55:23.103322",
     "exception": false,
     "start_time": "2024-03-02T12:55:23.056003",
     "status": "completed"
    },
    "tags": []
   },
   "outputs": [],
   "source": [
    "def date_preparation(data, year):\n",
    "    '''\n",
    "    - на вход принимает датасет с праздниками и год этого датасета\n",
    "    - возвращает обработанный датасет\n",
    "    '''\n",
    "    data = data.reset_index(drop=True).T[:13]\n",
    "    data = data.set_axis(data.iloc[0], axis=1)[1:]\n",
    "    data.insert(0, 'month', range(1, len(data) + 1))\n",
    "    data.insert(0, 'year', year)\n",
    "    data = data.replace(['\\+', '\\*'], '', regex=True)\n",
    "    data[year] = data[year].str.split(',')\n",
    "    data = data.explode(year)\n",
    "    data = data.rename(columns={year: 'day'})\n",
    "    data['date'] = pd.to_datetime(data[['year', 'month', 'day']])\n",
    "    \n",
    "    return data"
   ]
  },
  {
   "cell_type": "code",
   "execution_count": 6,
   "id": "d23c4b8e",
   "metadata": {
    "execution": {
     "iopub.execute_input": "2024-03-02T12:55:23.259651Z",
     "iopub.status.busy": "2024-03-02T12:55:23.259138Z",
     "iopub.status.idle": "2024-03-02T12:55:23.375950Z",
     "shell.execute_reply": "2024-03-02T12:55:23.374253Z"
    },
    "papermill": {
     "duration": 0.242784,
     "end_time": "2024-03-02T12:55:23.379251",
     "exception": false,
     "start_time": "2024-03-02T12:55:23.136467",
     "status": "completed"
    },
    "tags": []
   },
   "outputs": [
    {
     "data": {
      "text/html": [
       "<div>\n",
       "<style scoped>\n",
       "    .dataframe tbody tr th:only-of-type {\n",
       "        vertical-align: middle;\n",
       "    }\n",
       "\n",
       "    .dataframe tbody tr th {\n",
       "        vertical-align: top;\n",
       "    }\n",
       "\n",
       "    .dataframe thead th {\n",
       "        text-align: right;\n",
       "    }\n",
       "</style>\n",
       "<table border=\"1\" class=\"dataframe\">\n",
       "  <thead>\n",
       "    <tr style=\"text-align: right;\">\n",
       "      <th>Год/Месяц</th>\n",
       "      <th>year</th>\n",
       "      <th>month</th>\n",
       "      <th>day</th>\n",
       "      <th>date</th>\n",
       "    </tr>\n",
       "  </thead>\n",
       "  <tbody>\n",
       "    <tr>\n",
       "      <th>341</th>\n",
       "      <td>2017</td>\n",
       "      <td>10</td>\n",
       "      <td>21</td>\n",
       "      <td>2017-10-21</td>\n",
       "    </tr>\n",
       "    <tr>\n",
       "      <th>228</th>\n",
       "      <td>2016</td>\n",
       "      <td>11</td>\n",
       "      <td>6</td>\n",
       "      <td>2016-11-06</td>\n",
       "    </tr>\n",
       "    <tr>\n",
       "      <th>26</th>\n",
       "      <td>2015</td>\n",
       "      <td>3</td>\n",
       "      <td>7</td>\n",
       "      <td>2015-03-07</td>\n",
       "    </tr>\n",
       "    <tr>\n",
       "      <th>220</th>\n",
       "      <td>2016</td>\n",
       "      <td>10</td>\n",
       "      <td>16</td>\n",
       "      <td>2016-10-16</td>\n",
       "    </tr>\n",
       "    <tr>\n",
       "      <th>559</th>\n",
       "      <td>2019</td>\n",
       "      <td>7</td>\n",
       "      <td>6</td>\n",
       "      <td>2019-07-06</td>\n",
       "    </tr>\n",
       "  </tbody>\n",
       "</table>\n",
       "</div>"
      ],
      "text/plain": [
       "Год/Месяц  year  month day       date\n",
       "341        2017     10  21 2017-10-21\n",
       "228        2016     11   6 2016-11-06\n",
       "26         2015      3   7 2015-03-07\n",
       "220        2016     10  16 2016-10-16\n",
       "559        2019      7   6 2019-07-06"
      ]
     },
     "execution_count": 6,
     "metadata": {},
     "output_type": "execute_result"
    }
   ],
   "source": [
    "holidays = pd.DataFrame()\n",
    "\n",
    "for year, year_str in zip(years, holidays_dict.keys()):\n",
    "    holidays_year = date_preparation(holidays_dict[year_str], year)\n",
    "    holidays = pd.concat([holidays, holidays_year], ignore_index=True)\n",
    "\n",
    "holidays.sample(5)"
   ]
  },
  {
   "cell_type": "markdown",
   "id": "6cf330bb",
   "metadata": {
    "papermill": {
     "duration": 0.034163,
     "end_time": "2024-03-02T12:55:23.447919",
     "exception": false,
     "start_time": "2024-03-02T12:55:23.413756",
     "status": "completed"
    },
    "tags": []
   },
   "source": [
    "### Исследование данных"
   ]
  },
  {
   "cell_type": "code",
   "execution_count": 7,
   "id": "1bea5198",
   "metadata": {
    "execution": {
     "iopub.execute_input": "2024-03-02T12:55:23.513414Z",
     "iopub.status.busy": "2024-03-02T12:55:23.512966Z",
     "iopub.status.idle": "2024-03-02T12:55:23.751577Z",
     "shell.execute_reply": "2024-03-02T12:55:23.750386Z"
    },
    "papermill": {
     "duration": 0.275319,
     "end_time": "2024-03-02T12:55:23.754502",
     "exception": false,
     "start_time": "2024-03-02T12:55:23.479183",
     "status": "completed"
    },
    "tags": []
   },
   "outputs": [
    {
     "name": "stdout",
     "output_type": "stream",
     "text": [
      "<class 'pandas.core.frame.DataFrame'>\n",
      "RangeIndex: 3123064 entries, 0 to 3123063\n",
      "Data columns (total 3 columns):\n",
      " #   Column              Dtype         \n",
      "---  ------              -----         \n",
      " 0   user_id             int64         \n",
      " 1   order_completed_at  datetime64[ns]\n",
      " 2   cart                int64         \n",
      "dtypes: datetime64[ns](1), int64(2)\n",
      "memory usage: 71.5 MB\n"
     ]
    },
    {
     "data": {
      "text/html": [
       "<div>\n",
       "<style scoped>\n",
       "    .dataframe tbody tr th:only-of-type {\n",
       "        vertical-align: middle;\n",
       "    }\n",
       "\n",
       "    .dataframe tbody tr th {\n",
       "        vertical-align: top;\n",
       "    }\n",
       "\n",
       "    .dataframe thead th {\n",
       "        text-align: right;\n",
       "    }\n",
       "</style>\n",
       "<table border=\"1\" class=\"dataframe\">\n",
       "  <thead>\n",
       "    <tr style=\"text-align: right;\">\n",
       "      <th></th>\n",
       "      <th>user_id</th>\n",
       "      <th>order_completed_at</th>\n",
       "      <th>cart</th>\n",
       "    </tr>\n",
       "  </thead>\n",
       "  <tbody>\n",
       "    <tr>\n",
       "      <th>68474</th>\n",
       "      <td>1162</td>\n",
       "      <td>2019-05-14 11:59:28</td>\n",
       "      <td>23</td>\n",
       "    </tr>\n",
       "    <tr>\n",
       "      <th>1543835</th>\n",
       "      <td>10571</td>\n",
       "      <td>2020-05-17 14:57:49</td>\n",
       "      <td>95</td>\n",
       "    </tr>\n",
       "    <tr>\n",
       "      <th>733097</th>\n",
       "      <td>2971</td>\n",
       "      <td>2020-01-22 10:49:59</td>\n",
       "      <td>64</td>\n",
       "    </tr>\n",
       "    <tr>\n",
       "      <th>1147461</th>\n",
       "      <td>11525</td>\n",
       "      <td>2020-04-07 04:35:21</td>\n",
       "      <td>410</td>\n",
       "    </tr>\n",
       "    <tr>\n",
       "      <th>2772295</th>\n",
       "      <td>6208</td>\n",
       "      <td>2020-08-11 09:01:33</td>\n",
       "      <td>244</td>\n",
       "    </tr>\n",
       "  </tbody>\n",
       "</table>\n",
       "</div>"
      ],
      "text/plain": [
       "         user_id  order_completed_at  cart\n",
       "68474       1162 2019-05-14 11:59:28    23\n",
       "1543835    10571 2020-05-17 14:57:49    95\n",
       "733097      2971 2020-01-22 10:49:59    64\n",
       "1147461    11525 2020-04-07 04:35:21   410\n",
       "2772295     6208 2020-08-11 09:01:33   244"
      ]
     },
     "execution_count": 7,
     "metadata": {},
     "output_type": "execute_result"
    }
   ],
   "source": [
    "df.info()\n",
    "df.sample(5)"
   ]
  },
  {
   "cell_type": "code",
   "execution_count": 8,
   "id": "30b6548b",
   "metadata": {
    "execution": {
     "iopub.execute_input": "2024-03-02T12:55:23.822923Z",
     "iopub.status.busy": "2024-03-02T12:55:23.822413Z",
     "iopub.status.idle": "2024-03-02T12:55:24.498512Z",
     "shell.execute_reply": "2024-03-02T12:55:24.496729Z"
    },
    "papermill": {
     "duration": 0.715334,
     "end_time": "2024-03-02T12:55:24.502831",
     "exception": false,
     "start_time": "2024-03-02T12:55:23.787497",
     "status": "completed"
    },
    "tags": []
   },
   "outputs": [
    {
     "name": "stdout",
     "output_type": "stream",
     "text": [
      "количество полных дубликатов строк: 0\n"
     ]
    }
   ],
   "source": [
    "print(f\"количество полных дубликатов строк: {df.duplicated().sum()}\")"
   ]
  },
  {
   "cell_type": "code",
   "execution_count": 9,
   "id": "38c6a169",
   "metadata": {
    "execution": {
     "iopub.execute_input": "2024-03-02T12:55:24.574356Z",
     "iopub.status.busy": "2024-03-02T12:55:24.573886Z",
     "iopub.status.idle": "2024-03-02T12:55:24.605112Z",
     "shell.execute_reply": "2024-03-02T12:55:24.603380Z"
    },
    "papermill": {
     "duration": 0.07095,
     "end_time": "2024-03-02T12:55:24.608828",
     "exception": false,
     "start_time": "2024-03-02T12:55:24.537878",
     "status": "completed"
    },
    "tags": []
   },
   "outputs": [
    {
     "name": "stdout",
     "output_type": "stream",
     "text": [
      "начальная дата наблюдений: 2015-03-22 09:25:46\n",
      "конечная дата наблюдений: 2020-09-03 23:45:45\n"
     ]
    }
   ],
   "source": [
    "print(f\"начальная дата наблюдений: {df['order_completed_at'].min()}\")\n",
    "print(f\"конечная дата наблюдений: {df['order_completed_at'].max()}\")"
   ]
  },
  {
   "cell_type": "code",
   "execution_count": 10,
   "id": "62fff39d",
   "metadata": {
    "execution": {
     "iopub.execute_input": "2024-03-02T12:55:24.680122Z",
     "iopub.status.busy": "2024-03-02T12:55:24.679547Z",
     "iopub.status.idle": "2024-03-02T12:55:25.168664Z",
     "shell.execute_reply": "2024-03-02T12:55:25.166735Z"
    },
    "papermill": {
     "duration": 0.529443,
     "end_time": "2024-03-02T12:55:25.171735",
     "exception": false,
     "start_time": "2024-03-02T12:55:24.642292",
     "status": "completed"
    },
    "tags": []
   },
   "outputs": [
    {
     "name": "stdout",
     "output_type": "stream",
     "text": [
      "<class 'pandas.core.frame.DataFrame'>\n",
      "RangeIndex: 790449 entries, 0 to 790448\n",
      "Data columns (total 2 columns):\n",
      " #   Column  Non-Null Count   Dtype \n",
      "---  ------  --------------   ----- \n",
      " 0   id      790449 non-null  object\n",
      " 1   target  790449 non-null  int64 \n",
      "dtypes: int64(1), object(1)\n",
      "memory usage: 12.1+ MB\n"
     ]
    },
    {
     "data": {
      "text/html": [
       "<div>\n",
       "<style scoped>\n",
       "    .dataframe tbody tr th:only-of-type {\n",
       "        vertical-align: middle;\n",
       "    }\n",
       "\n",
       "    .dataframe tbody tr th {\n",
       "        vertical-align: top;\n",
       "    }\n",
       "\n",
       "    .dataframe thead th {\n",
       "        text-align: right;\n",
       "    }\n",
       "</style>\n",
       "<table border=\"1\" class=\"dataframe\">\n",
       "  <thead>\n",
       "    <tr style=\"text-align: right;\">\n",
       "      <th></th>\n",
       "      <th>id</th>\n",
       "      <th>target</th>\n",
       "    </tr>\n",
       "  </thead>\n",
       "  <tbody>\n",
       "    <tr>\n",
       "      <th>0</th>\n",
       "      <td>0;133</td>\n",
       "      <td>0</td>\n",
       "    </tr>\n",
       "    <tr>\n",
       "      <th>1</th>\n",
       "      <td>0;5</td>\n",
       "      <td>1</td>\n",
       "    </tr>\n",
       "    <tr>\n",
       "      <th>2</th>\n",
       "      <td>0;10</td>\n",
       "      <td>0</td>\n",
       "    </tr>\n",
       "    <tr>\n",
       "      <th>3</th>\n",
       "      <td>0;396</td>\n",
       "      <td>1</td>\n",
       "    </tr>\n",
       "    <tr>\n",
       "      <th>4</th>\n",
       "      <td>0;14</td>\n",
       "      <td>0</td>\n",
       "    </tr>\n",
       "  </tbody>\n",
       "</table>\n",
       "</div>"
      ],
      "text/plain": [
       "      id  target\n",
       "0  0;133       0\n",
       "1    0;5       1\n",
       "2   0;10       0\n",
       "3  0;396       1\n",
       "4   0;14       0"
      ]
     },
     "metadata": {},
     "output_type": "display_data"
    },
    {
     "name": "stdout",
     "output_type": "stream",
     "text": [
      "количество уникальных сочетаний id: 790449\n"
     ]
    }
   ],
   "source": [
    "sample_sub.info()\n",
    "display(sample_sub.head())\n",
    "print(f\"количество уникальных сочетаний id: {sample_sub['id'].nunique()}\")"
   ]
  },
  {
   "cell_type": "code",
   "execution_count": 11,
   "id": "3299efed",
   "metadata": {
    "execution": {
     "iopub.execute_input": "2024-03-02T12:55:25.242618Z",
     "iopub.status.busy": "2024-03-02T12:55:25.242166Z",
     "iopub.status.idle": "2024-03-02T12:55:25.269680Z",
     "shell.execute_reply": "2024-03-02T12:55:25.267958Z"
    },
    "papermill": {
     "duration": 0.065398,
     "end_time": "2024-03-02T12:55:25.272524",
     "exception": false,
     "start_time": "2024-03-02T12:55:25.207126",
     "status": "completed"
    },
    "tags": []
   },
   "outputs": [
    {
     "data": {
      "text/html": [
       "<div>\n",
       "<style scoped>\n",
       "    .dataframe tbody tr th:only-of-type {\n",
       "        vertical-align: middle;\n",
       "    }\n",
       "\n",
       "    .dataframe tbody tr th {\n",
       "        vertical-align: top;\n",
       "    }\n",
       "\n",
       "    .dataframe thead th {\n",
       "        text-align: right;\n",
       "    }\n",
       "</style>\n",
       "<table border=\"1\" class=\"dataframe\">\n",
       "  <thead>\n",
       "    <tr style=\"text-align: right;\">\n",
       "      <th></th>\n",
       "      <th>user_id</th>\n",
       "      <th>order_completed_at</th>\n",
       "      <th>cart</th>\n",
       "    </tr>\n",
       "  </thead>\n",
       "  <tbody>\n",
       "    <tr>\n",
       "      <th>14</th>\n",
       "      <td>2</td>\n",
       "      <td>2015-03-22 09:25:46</td>\n",
       "      <td>57</td>\n",
       "    </tr>\n",
       "    <tr>\n",
       "      <th>97</th>\n",
       "      <td>2</td>\n",
       "      <td>2016-05-27 19:21:46</td>\n",
       "      <td>57</td>\n",
       "    </tr>\n",
       "    <tr>\n",
       "      <th>10697</th>\n",
       "      <td>2</td>\n",
       "      <td>2018-01-12 23:36:19</td>\n",
       "      <td>57</td>\n",
       "    </tr>\n",
       "    <tr>\n",
       "      <th>222784</th>\n",
       "      <td>2</td>\n",
       "      <td>2019-10-03 17:37:23</td>\n",
       "      <td>57</td>\n",
       "    </tr>\n",
       "    <tr>\n",
       "      <th>246982</th>\n",
       "      <td>2</td>\n",
       "      <td>2019-10-11 09:05:20</td>\n",
       "      <td>57</td>\n",
       "    </tr>\n",
       "    <tr>\n",
       "      <th>307939</th>\n",
       "      <td>2</td>\n",
       "      <td>2019-10-25 21:05:56</td>\n",
       "      <td>57</td>\n",
       "    </tr>\n",
       "    <tr>\n",
       "      <th>345177</th>\n",
       "      <td>2</td>\n",
       "      <td>2019-11-02 22:00:26</td>\n",
       "      <td>57</td>\n",
       "    </tr>\n",
       "    <tr>\n",
       "      <th>382037</th>\n",
       "      <td>2</td>\n",
       "      <td>2019-11-09 20:45:19</td>\n",
       "      <td>57</td>\n",
       "    </tr>\n",
       "    <tr>\n",
       "      <th>404912</th>\n",
       "      <td>2</td>\n",
       "      <td>2019-11-13 19:05:45</td>\n",
       "      <td>57</td>\n",
       "    </tr>\n",
       "    <tr>\n",
       "      <th>599000</th>\n",
       "      <td>2</td>\n",
       "      <td>2019-12-22 14:57:39</td>\n",
       "      <td>57</td>\n",
       "    </tr>\n",
       "  </tbody>\n",
       "</table>\n",
       "</div>"
      ],
      "text/plain": [
       "        user_id  order_completed_at  cart\n",
       "14            2 2015-03-22 09:25:46    57\n",
       "97            2 2016-05-27 19:21:46    57\n",
       "10697         2 2018-01-12 23:36:19    57\n",
       "222784        2 2019-10-03 17:37:23    57\n",
       "246982        2 2019-10-11 09:05:20    57\n",
       "307939        2 2019-10-25 21:05:56    57\n",
       "345177        2 2019-11-02 22:00:26    57\n",
       "382037        2 2019-11-09 20:45:19    57\n",
       "404912        2 2019-11-13 19:05:45    57\n",
       "599000        2 2019-12-22 14:57:39    57"
      ]
     },
     "execution_count": 11,
     "metadata": {},
     "output_type": "execute_result"
    }
   ],
   "source": [
    "df[(df['user_id'] == 2) & (df['cart'] == 57)]"
   ]
  },
  {
   "cell_type": "markdown",
   "id": "a2b0125d",
   "metadata": {
    "papermill": {
     "duration": 0.033349,
     "end_time": "2024-03-02T12:55:25.338912",
     "exception": false,
     "start_time": "2024-03-02T12:55:25.305563",
     "status": "completed"
    },
    "tags": []
   },
   "source": [
    "### Выводы и наблюдения\n",
    "- полных дубликатов строк не обнаружено\n",
    "- данные предоставлены за пять лет: с 22.03.2015 до 03.09.2020\n",
    "- в датафрейме `sample_sub` представлены `id` пользователей с `id` товаров и целевой признак\n",
    "- количество уникальных сочетаний id - 790449"
   ]
  },
  {
   "cell_type": "markdown",
   "id": "4011a49b",
   "metadata": {
    "papermill": {
     "duration": 0.033594,
     "end_time": "2024-03-02T12:55:25.406319",
     "exception": false,
     "start_time": "2024-03-02T12:55:25.372725",
     "status": "completed"
    },
    "tags": []
   },
   "source": [
    "## Предобработка данных"
   ]
  },
  {
   "cell_type": "markdown",
   "id": "aba7e344",
   "metadata": {
    "papermill": {
     "duration": 0.03386,
     "end_time": "2024-03-02T12:55:25.476893",
     "exception": false,
     "start_time": "2024-03-02T12:55:25.443033",
     "status": "completed"
    },
    "tags": []
   },
   "source": [
    "Кумулятивная сумма покупок по клиенту за 120 дней"
   ]
  },
  {
   "cell_type": "code",
   "execution_count": 12,
   "id": "dbd7024f",
   "metadata": {
    "execution": {
     "iopub.execute_input": "2024-03-02T12:55:25.546987Z",
     "iopub.status.busy": "2024-03-02T12:55:25.546128Z",
     "iopub.status.idle": "2024-03-02T12:55:25.552476Z",
     "shell.execute_reply": "2024-03-02T12:55:25.551224Z"
    },
    "papermill": {
     "duration": 0.04581,
     "end_time": "2024-03-02T12:55:25.555720",
     "exception": false,
     "start_time": "2024-03-02T12:55:25.509910",
     "status": "completed"
    },
    "tags": []
   },
   "outputs": [],
   "source": [
    "# df['client_cum_sum_120'] = 0\n",
    "# prev_client_id = None\n",
    "# prev_purchase_date = None\n",
    "# client_cum_sum_120 = 0\n",
    "\n",
    "# for index, row in df.iterrows():\n",
    "#     if (prev_client_id == row['user_id'] \n",
    "#         and (row['order_completed_at'] - prev_purchase_date).days <= 120):\n",
    "#         client_cum_sum_120 += 1\n",
    "#     else:\n",
    "#         client_cum_sum_120 = 1\n",
    "\n",
    "#     df.at[index, 'client_cum_sum_120'] = client_cum_sum_120\n",
    "\n",
    "#     prev_client_id = row['user_id']\n",
    "#     prev_purchase_date = row['order_completed_at']\n",
    "# df.to_csv('cumulative_sum.csv', index=False)\n",
    "# print('сохранён датафрейм с признаком накопительной суммы покупок')\n",
    "# df.sample(5)"
   ]
  },
  {
   "cell_type": "code",
   "execution_count": 13,
   "id": "97e58b05",
   "metadata": {
    "execution": {
     "iopub.execute_input": "2024-03-02T12:55:25.626239Z",
     "iopub.status.busy": "2024-03-02T12:55:25.625388Z",
     "iopub.status.idle": "2024-03-02T12:55:25.631026Z",
     "shell.execute_reply": "2024-03-02T12:55:25.630051Z"
    },
    "papermill": {
     "duration": 0.044159,
     "end_time": "2024-03-02T12:55:25.633721",
     "exception": false,
     "start_time": "2024-03-02T12:55:25.589562",
     "status": "completed"
    },
    "tags": []
   },
   "outputs": [],
   "source": [
    "# try:\n",
    "#     df = pd.read_csv('data/cumulative_sum.csv', parse_dates=['order_completed_at'])\n",
    "#     print('загружено из каталога \"data\"')\n",
    "# except:\n",
    "#     df = pd.read_csv('/kaggle/input/preparing-data/cumulative_sum.csv', parse_dates=['order_completed_at'])\n",
    "#     print('загружено из каталога Kaggle')\n",
    "# finally:\n",
    "#     print(df.sample(5))"
   ]
  },
  {
   "cell_type": "code",
   "execution_count": 14,
   "id": "11a74615",
   "metadata": {
    "execution": {
     "iopub.execute_input": "2024-03-02T12:55:25.706766Z",
     "iopub.status.busy": "2024-03-02T12:55:25.705777Z",
     "iopub.status.idle": "2024-03-02T12:55:25.711377Z",
     "shell.execute_reply": "2024-03-02T12:55:25.710256Z"
    },
    "papermill": {
     "duration": 0.044887,
     "end_time": "2024-03-02T12:55:25.714041",
     "exception": false,
     "start_time": "2024-03-02T12:55:25.669154",
     "status": "completed"
    },
    "tags": []
   },
   "outputs": [],
   "source": [
    "# print(f\"\"\"количество уникальных сочетаний id за последние 120 дней:\n",
    "# {df_w[df_w['order_completed_at'] >= \n",
    "# (df_w['order_completed_at'].max() - pd.DateOffset(days=PRED))]['id'].nunique()}\"\"\")"
   ]
  },
  {
   "cell_type": "markdown",
   "id": "680e9d55",
   "metadata": {
    "papermill": {
     "duration": 0.034342,
     "end_time": "2024-03-02T12:55:25.783805",
     "exception": false,
     "start_time": "2024-03-02T12:55:25.749463",
     "status": "completed"
    },
    "tags": []
   },
   "source": [
    "Создание целевого признака"
   ]
  },
  {
   "cell_type": "code",
   "execution_count": 15,
   "id": "d9373ccd",
   "metadata": {
    "execution": {
     "iopub.execute_input": "2024-03-02T12:55:25.855837Z",
     "iopub.status.busy": "2024-03-02T12:55:25.855092Z",
     "iopub.status.idle": "2024-03-02T12:55:25.860805Z",
     "shell.execute_reply": "2024-03-02T12:55:25.859596Z"
    },
    "papermill": {
     "duration": 0.045184,
     "end_time": "2024-03-02T12:55:25.863586",
     "exception": false,
     "start_time": "2024-03-02T12:55:25.818402",
     "status": "completed"
    },
    "tags": []
   },
   "outputs": [],
   "source": [
    "# df_w['target'] = 0\n",
    "\n",
    "# last_occurrence = {}\n",
    "\n",
    "# for index, row in df_w.iterrows():\n",
    "#     id_value = row['id']\n",
    "#     if id_value in last_occurrence:\n",
    "#         df_w.at[last_occurrence[id_value], 'target'] = 1\n",
    "#     last_occurrence[id_value] = index\n",
    "    \n",
    "# df_w.to_csv('target_data.csv', index=False)\n",
    "# print('target создан, датафрейм сохранён')"
   ]
  },
  {
   "cell_type": "markdown",
   "id": "6ce0ecda",
   "metadata": {
    "papermill": {
     "duration": 0.0367,
     "end_time": "2024-03-02T12:55:25.935665",
     "exception": false,
     "start_time": "2024-03-02T12:55:25.898965",
     "status": "completed"
    },
    "tags": []
   },
   "source": [
    "Загрузка датафрейма с таргетом"
   ]
  },
  {
   "cell_type": "code",
   "execution_count": 16,
   "id": "c4cf8895",
   "metadata": {
    "execution": {
     "iopub.execute_input": "2024-03-02T12:55:26.006598Z",
     "iopub.status.busy": "2024-03-02T12:55:26.005893Z",
     "iopub.status.idle": "2024-03-02T12:55:26.011227Z",
     "shell.execute_reply": "2024-03-02T12:55:26.010184Z"
    },
    "papermill": {
     "duration": 0.043217,
     "end_time": "2024-03-02T12:55:26.013887",
     "exception": false,
     "start_time": "2024-03-02T12:55:25.970670",
     "status": "completed"
    },
    "tags": []
   },
   "outputs": [],
   "source": [
    "# try:\n",
    "#     df_w = pd.read_csv('data/target_data.csv', parse_dates=['order_completed_at'])\n",
    "#     print('загружено из каталога \"data\"')\n",
    "# except:\n",
    "#     df_w = pd.read_csv('/kaggle/input/preparing-data/target_data.csv', parse_dates=['order_completed_at'])\n",
    "#     print('загружено из каталога Kaggle')\n",
    "# finally:\n",
    "#     print(df_w.shape)"
   ]
  },
  {
   "cell_type": "markdown",
   "id": "1eef080d",
   "metadata": {
    "papermill": {
     "duration": 0.033327,
     "end_time": "2024-03-02T12:55:26.080292",
     "exception": false,
     "start_time": "2024-03-02T12:55:26.046965",
     "status": "completed"
    },
    "tags": []
   },
   "source": [
    "Проверка корректности созданного target"
   ]
  },
  {
   "cell_type": "code",
   "execution_count": 17,
   "id": "16c8225b",
   "metadata": {
    "_kg_hide-input": true,
    "execution": {
     "iopub.execute_input": "2024-03-02T12:55:26.154470Z",
     "iopub.status.busy": "2024-03-02T12:55:26.153515Z",
     "iopub.status.idle": "2024-03-02T12:55:26.158937Z",
     "shell.execute_reply": "2024-03-02T12:55:26.157876Z"
    },
    "papermill": {
     "duration": 0.047655,
     "end_time": "2024-03-02T12:55:26.162262",
     "exception": false,
     "start_time": "2024-03-02T12:55:26.114607",
     "status": "completed"
    },
    "tags": []
   },
   "outputs": [],
   "source": [
    "# df_w[df_w['id'] == '2;57']"
   ]
  },
  {
   "cell_type": "markdown",
   "id": "9b5f9abe",
   "metadata": {
    "papermill": {
     "duration": 0.034826,
     "end_time": "2024-03-02T12:55:26.235674",
     "exception": false,
     "start_time": "2024-03-02T12:55:26.200848",
     "status": "completed"
    },
    "tags": []
   },
   "source": [
    "Добавление признака `is_holiday`"
   ]
  },
  {
   "cell_type": "code",
   "execution_count": 18,
   "id": "13882959",
   "metadata": {
    "execution": {
     "iopub.execute_input": "2024-03-02T12:55:26.310941Z",
     "iopub.status.busy": "2024-03-02T12:55:26.310021Z",
     "iopub.status.idle": "2024-03-02T12:55:55.271773Z",
     "shell.execute_reply": "2024-03-02T12:55:55.270182Z"
    },
    "papermill": {
     "duration": 29.004256,
     "end_time": "2024-03-02T12:55:55.275356",
     "exception": false,
     "start_time": "2024-03-02T12:55:26.271100",
     "status": "completed"
    },
    "tags": []
   },
   "outputs": [
    {
     "data": {
      "text/html": [
       "<div>\n",
       "<style scoped>\n",
       "    .dataframe tbody tr th:only-of-type {\n",
       "        vertical-align: middle;\n",
       "    }\n",
       "\n",
       "    .dataframe tbody tr th {\n",
       "        vertical-align: top;\n",
       "    }\n",
       "\n",
       "    .dataframe thead th {\n",
       "        text-align: right;\n",
       "    }\n",
       "</style>\n",
       "<table border=\"1\" class=\"dataframe\">\n",
       "  <thead>\n",
       "    <tr style=\"text-align: right;\">\n",
       "      <th></th>\n",
       "      <th>user_id</th>\n",
       "      <th>order_completed_at</th>\n",
       "      <th>cart</th>\n",
       "      <th>is_holiday</th>\n",
       "    </tr>\n",
       "  </thead>\n",
       "  <tbody>\n",
       "    <tr>\n",
       "      <th>0</th>\n",
       "      <td>2</td>\n",
       "      <td>2015-03-22 09:25:46</td>\n",
       "      <td>399</td>\n",
       "      <td>1</td>\n",
       "    </tr>\n",
       "    <tr>\n",
       "      <th>1</th>\n",
       "      <td>2</td>\n",
       "      <td>2015-03-22 09:25:46</td>\n",
       "      <td>14</td>\n",
       "      <td>1</td>\n",
       "    </tr>\n",
       "    <tr>\n",
       "      <th>2</th>\n",
       "      <td>2</td>\n",
       "      <td>2015-03-22 09:25:46</td>\n",
       "      <td>198</td>\n",
       "      <td>1</td>\n",
       "    </tr>\n",
       "    <tr>\n",
       "      <th>3</th>\n",
       "      <td>2</td>\n",
       "      <td>2015-03-22 09:25:46</td>\n",
       "      <td>88</td>\n",
       "      <td>1</td>\n",
       "    </tr>\n",
       "    <tr>\n",
       "      <th>4</th>\n",
       "      <td>2</td>\n",
       "      <td>2015-03-22 09:25:46</td>\n",
       "      <td>157</td>\n",
       "      <td>1</td>\n",
       "    </tr>\n",
       "  </tbody>\n",
       "</table>\n",
       "</div>"
      ],
      "text/plain": [
       "   user_id  order_completed_at  cart  is_holiday\n",
       "0        2 2015-03-22 09:25:46   399           1\n",
       "1        2 2015-03-22 09:25:46    14           1\n",
       "2        2 2015-03-22 09:25:46   198           1\n",
       "3        2 2015-03-22 09:25:46    88           1\n",
       "4        2 2015-03-22 09:25:46   157           1"
      ]
     },
     "execution_count": 18,
     "metadata": {},
     "output_type": "execute_result"
    }
   ],
   "source": [
    "df['date'] = df['order_completed_at'].apply(lambda x: x.strftime('%Y-%m-%d'))\n",
    "df['date'] = pd.to_datetime(df['date'])\n",
    "# df_w['target'] = df_w['target'].astype('int8')\n",
    "df['is_holiday'] = df['date'].isin(holidays['date']).astype('int8')\n",
    "df.drop('date', axis=1, inplace=True)\n",
    "df.head()"
   ]
  },
  {
   "cell_type": "markdown",
   "id": "ada95015",
   "metadata": {
    "papermill": {
     "duration": 0.034335,
     "end_time": "2024-03-02T12:55:55.343896",
     "exception": false,
     "start_time": "2024-03-02T12:55:55.309561",
     "status": "completed"
    },
    "tags": []
   },
   "source": [
    "Кумулятивная сумма за 120 дней по сочетанию `user_id` + `cart`"
   ]
  },
  {
   "cell_type": "code",
   "execution_count": 19,
   "id": "9153f47d",
   "metadata": {
    "execution": {
     "iopub.execute_input": "2024-03-02T12:55:55.415352Z",
     "iopub.status.busy": "2024-03-02T12:55:55.414903Z",
     "iopub.status.idle": "2024-03-02T12:55:55.421101Z",
     "shell.execute_reply": "2024-03-02T12:55:55.419665Z"
    },
    "papermill": {
     "duration": 0.046207,
     "end_time": "2024-03-02T12:55:55.423912",
     "exception": false,
     "start_time": "2024-03-02T12:55:55.377705",
     "status": "completed"
    },
    "tags": []
   },
   "outputs": [],
   "source": [
    "# нет смысла\n",
    "# id_cum_sum_120\n",
    "# 1    3123037\n",
    "# 2         27\n",
    "# Name: count, dtype: int64\n",
    "\n",
    "# df_w['id_cum_sum_120'] = 0\n",
    "# prev_id = None\n",
    "# prev_date = None\n",
    "# id_cum_sum_120 = 0\n",
    "\n",
    "# for index, row in df_w.iterrows():\n",
    "#     if (prev_id == row['id'] \n",
    "#         and (row['order_completed_at'] - prev_date).days <= 120):\n",
    "#         id_cum_sum_120 += 1\n",
    "#     else:\n",
    "#         id_cum_sum_120 = 1\n",
    "\n",
    "#     df_w.at[index, 'id_cum_sum_120'] = id_cum_sum_120\n",
    "\n",
    "#     prev_id = row['id']\n",
    "#     prev_date = row['order_completed_at']\n",
    "# df_w.sample(5)"
   ]
  },
  {
   "cell_type": "markdown",
   "id": "7531e04a",
   "metadata": {
    "papermill": {
     "duration": 0.034786,
     "end_time": "2024-03-02T12:55:55.494064",
     "exception": false,
     "start_time": "2024-03-02T12:55:55.459278",
     "status": "completed"
    },
    "tags": []
   },
   "source": [
    "Соотношение классов целевого признака"
   ]
  },
  {
   "cell_type": "code",
   "execution_count": 20,
   "id": "a43a6414",
   "metadata": {
    "execution": {
     "iopub.execute_input": "2024-03-02T12:55:55.567039Z",
     "iopub.status.busy": "2024-03-02T12:55:55.566547Z",
     "iopub.status.idle": "2024-03-02T12:55:55.572460Z",
     "shell.execute_reply": "2024-03-02T12:55:55.571069Z"
    },
    "papermill": {
     "duration": 0.045174,
     "end_time": "2024-03-02T12:55:55.575327",
     "exception": false,
     "start_time": "2024-03-02T12:55:55.530153",
     "status": "completed"
    },
    "tags": []
   },
   "outputs": [],
   "source": [
    "# sizes = [df_w['target'].value_counts()[1], df_w['target'].value_counts()[0]]\n",
    "# fig1, ax1 = plt.subplots()\n",
    "# ax1.pie(sizes, labels=['True', 'False'], autopct='%1.0f%%')\n",
    "# plt.title('Соотношение классов целевого признака', size=12)\n",
    "# plt.show()"
   ]
  },
  {
   "cell_type": "markdown",
   "id": "162a322a",
   "metadata": {
    "papermill": {
     "duration": 0.034674,
     "end_time": "2024-03-02T12:55:55.643994",
     "exception": false,
     "start_time": "2024-03-02T12:55:55.609320",
     "status": "completed"
    },
    "tags": []
   },
   "source": [
    "### Выводы и наблюдения\n",
    "- создан признак `is_holiday`\n",
    "\n",
    "Отменённые преобразования:\n",
    "- добавлен признак `client_cum_sum_120` кумулятивной суммы \n",
    "  <br>активностей клиента в течение 120-ти дней\n",
    "- объединены `user_id` клиента и `cart` категории товаров в один признак `id`\n",
    "- создан целевой признак `target`\n",
    "- добавлен признак `id_cum_sum_120` кумулятивной суммы \n",
    "  <br>активностей сочетания `client_id` + `cart` в течение 120-ти дней\n",
    "- изучен баланс классов целевого признака:\n",
    "  - наблюдается значительный дисбаланс в сторону положительного класса"
   ]
  },
  {
   "cell_type": "markdown",
   "id": "64c6da8d",
   "metadata": {
    "papermill": {
     "duration": 0.035311,
     "end_time": "2024-03-02T12:55:55.714643",
     "exception": false,
     "start_time": "2024-03-02T12:55:55.679332",
     "status": "completed"
    },
    "tags": []
   },
   "source": [
    "# Статический подход к решению задачи"
   ]
  },
  {
   "cell_type": "code",
   "execution_count": 21,
   "id": "bafe1472",
   "metadata": {
    "execution": {
     "iopub.execute_input": "2024-03-02T12:55:55.788402Z",
     "iopub.status.busy": "2024-03-02T12:55:55.787840Z",
     "iopub.status.idle": "2024-03-02T12:55:55.802812Z",
     "shell.execute_reply": "2024-03-02T12:55:55.801315Z"
    },
    "papermill": {
     "duration": 0.055736,
     "end_time": "2024-03-02T12:55:55.806283",
     "exception": false,
     "start_time": "2024-03-02T12:55:55.750547",
     "status": "completed"
    },
    "tags": []
   },
   "outputs": [
    {
     "data": {
      "text/html": [
       "<div>\n",
       "<style scoped>\n",
       "    .dataframe tbody tr th:only-of-type {\n",
       "        vertical-align: middle;\n",
       "    }\n",
       "\n",
       "    .dataframe tbody tr th {\n",
       "        vertical-align: top;\n",
       "    }\n",
       "\n",
       "    .dataframe thead th {\n",
       "        text-align: right;\n",
       "    }\n",
       "</style>\n",
       "<table border=\"1\" class=\"dataframe\">\n",
       "  <thead>\n",
       "    <tr style=\"text-align: right;\">\n",
       "      <th></th>\n",
       "      <th>user_id</th>\n",
       "      <th>order_completed_at</th>\n",
       "      <th>cart</th>\n",
       "      <th>is_holiday</th>\n",
       "    </tr>\n",
       "  </thead>\n",
       "  <tbody>\n",
       "    <tr>\n",
       "      <th>0</th>\n",
       "      <td>2</td>\n",
       "      <td>2015-03-22 09:25:46</td>\n",
       "      <td>399</td>\n",
       "      <td>1</td>\n",
       "    </tr>\n",
       "    <tr>\n",
       "      <th>1</th>\n",
       "      <td>2</td>\n",
       "      <td>2015-03-22 09:25:46</td>\n",
       "      <td>14</td>\n",
       "      <td>1</td>\n",
       "    </tr>\n",
       "    <tr>\n",
       "      <th>2</th>\n",
       "      <td>2</td>\n",
       "      <td>2015-03-22 09:25:46</td>\n",
       "      <td>198</td>\n",
       "      <td>1</td>\n",
       "    </tr>\n",
       "    <tr>\n",
       "      <th>3</th>\n",
       "      <td>2</td>\n",
       "      <td>2015-03-22 09:25:46</td>\n",
       "      <td>88</td>\n",
       "      <td>1</td>\n",
       "    </tr>\n",
       "    <tr>\n",
       "      <th>4</th>\n",
       "      <td>2</td>\n",
       "      <td>2015-03-22 09:25:46</td>\n",
       "      <td>157</td>\n",
       "      <td>1</td>\n",
       "    </tr>\n",
       "  </tbody>\n",
       "</table>\n",
       "</div>"
      ],
      "text/plain": [
       "   user_id  order_completed_at  cart  is_holiday\n",
       "0        2 2015-03-22 09:25:46   399           1\n",
       "1        2 2015-03-22 09:25:46    14           1\n",
       "2        2 2015-03-22 09:25:46   198           1\n",
       "3        2 2015-03-22 09:25:46    88           1\n",
       "4        2 2015-03-22 09:25:46   157           1"
      ]
     },
     "execution_count": 21,
     "metadata": {},
     "output_type": "execute_result"
    }
   ],
   "source": [
    "df.head()"
   ]
  },
  {
   "cell_type": "markdown",
   "id": "1953ed94",
   "metadata": {
    "papermill": {
     "duration": 0.033466,
     "end_time": "2024-03-02T12:55:55.876211",
     "exception": false,
     "start_time": "2024-03-02T12:55:55.842745",
     "status": "completed"
    },
    "tags": []
   },
   "source": [
    "## Генерация дополнительных признаков"
   ]
  },
  {
   "cell_type": "markdown",
   "id": "86a70f93",
   "metadata": {
    "papermill": {
     "duration": 0.0358,
     "end_time": "2024-03-02T12:55:55.947532",
     "exception": false,
     "start_time": "2024-03-02T12:55:55.911732",
     "status": "completed"
    },
    "tags": []
   },
   "source": [
    "Разница в днях между покупками клиента"
   ]
  },
  {
   "cell_type": "code",
   "execution_count": 22,
   "id": "95507899",
   "metadata": {
    "execution": {
     "iopub.execute_input": "2024-03-02T12:55:56.020272Z",
     "iopub.status.busy": "2024-03-02T12:55:56.019757Z",
     "iopub.status.idle": "2024-03-02T12:55:56.839724Z",
     "shell.execute_reply": "2024-03-02T12:55:56.838217Z"
    },
    "papermill": {
     "duration": 0.860351,
     "end_time": "2024-03-02T12:55:56.843429",
     "exception": false,
     "start_time": "2024-03-02T12:55:55.983078",
     "status": "completed"
    },
    "tags": []
   },
   "outputs": [
    {
     "data": {
      "text/html": [
       "<div>\n",
       "<style scoped>\n",
       "    .dataframe tbody tr th:only-of-type {\n",
       "        vertical-align: middle;\n",
       "    }\n",
       "\n",
       "    .dataframe tbody tr th {\n",
       "        vertical-align: top;\n",
       "    }\n",
       "\n",
       "    .dataframe thead th {\n",
       "        text-align: right;\n",
       "    }\n",
       "</style>\n",
       "<table border=\"1\" class=\"dataframe\">\n",
       "  <thead>\n",
       "    <tr style=\"text-align: right;\">\n",
       "      <th></th>\n",
       "      <th>user_id</th>\n",
       "      <th>order_completed_at</th>\n",
       "      <th>cart</th>\n",
       "      <th>is_holiday</th>\n",
       "      <th>days_between_client_purchases</th>\n",
       "    </tr>\n",
       "  </thead>\n",
       "  <tbody>\n",
       "    <tr>\n",
       "      <th>2422913</th>\n",
       "      <td>0</td>\n",
       "      <td>2020-07-19 09:59:17</td>\n",
       "      <td>20</td>\n",
       "      <td>1</td>\n",
       "      <td>0</td>\n",
       "    </tr>\n",
       "    <tr>\n",
       "      <th>2422914</th>\n",
       "      <td>0</td>\n",
       "      <td>2020-07-19 09:59:17</td>\n",
       "      <td>82</td>\n",
       "      <td>1</td>\n",
       "      <td>0</td>\n",
       "    </tr>\n",
       "    <tr>\n",
       "      <th>2422915</th>\n",
       "      <td>0</td>\n",
       "      <td>2020-07-19 09:59:17</td>\n",
       "      <td>441</td>\n",
       "      <td>1</td>\n",
       "      <td>0</td>\n",
       "    </tr>\n",
       "    <tr>\n",
       "      <th>2422916</th>\n",
       "      <td>0</td>\n",
       "      <td>2020-07-19 09:59:17</td>\n",
       "      <td>57</td>\n",
       "      <td>1</td>\n",
       "      <td>0</td>\n",
       "    </tr>\n",
       "    <tr>\n",
       "      <th>2422917</th>\n",
       "      <td>0</td>\n",
       "      <td>2020-07-19 09:59:17</td>\n",
       "      <td>14</td>\n",
       "      <td>1</td>\n",
       "      <td>0</td>\n",
       "    </tr>\n",
       "  </tbody>\n",
       "</table>\n",
       "</div>"
      ],
      "text/plain": [
       "         user_id  order_completed_at  cart  is_holiday  \\\n",
       "2422913        0 2020-07-19 09:59:17    20           1   \n",
       "2422914        0 2020-07-19 09:59:17    82           1   \n",
       "2422915        0 2020-07-19 09:59:17   441           1   \n",
       "2422916        0 2020-07-19 09:59:17    57           1   \n",
       "2422917        0 2020-07-19 09:59:17    14           1   \n",
       "\n",
       "         days_between_client_purchases  \n",
       "2422913                              0  \n",
       "2422914                              0  \n",
       "2422915                              0  \n",
       "2422916                              0  \n",
       "2422917                              0  "
      ]
     },
     "execution_count": 22,
     "metadata": {},
     "output_type": "execute_result"
    }
   ],
   "source": [
    "# Сортировка датафрейма по столбцам client_id и order_completed_at\n",
    "df.sort_values(by=['user_id', 'order_completed_at'], inplace=True)\n",
    "\n",
    "# Группировка по client_id и вычисление разницы в днях между покупками\n",
    "df['days_between_client_purchases'] = df.groupby('user_id')['order_completed_at'].diff().dt.days\n",
    "df['days_between_client_purchases'] = df['days_between_client_purchases'].fillna(0).astype('int64')\n",
    "df.head()"
   ]
  },
  {
   "cell_type": "markdown",
   "id": "3d3b1499",
   "metadata": {
    "papermill": {
     "duration": 0.035402,
     "end_time": "2024-03-02T12:55:56.916698",
     "exception": false,
     "start_time": "2024-03-02T12:55:56.881296",
     "status": "completed"
    },
    "tags": []
   },
   "source": [
    "Разница в днях между покупками определённого товара"
   ]
  },
  {
   "cell_type": "code",
   "execution_count": 23,
   "id": "cc6785b6",
   "metadata": {
    "execution": {
     "iopub.execute_input": "2024-03-02T12:55:56.992979Z",
     "iopub.status.busy": "2024-03-02T12:55:56.991356Z",
     "iopub.status.idle": "2024-03-02T12:55:58.742862Z",
     "shell.execute_reply": "2024-03-02T12:55:58.741254Z"
    },
    "papermill": {
     "duration": 1.792119,
     "end_time": "2024-03-02T12:55:58.746428",
     "exception": false,
     "start_time": "2024-03-02T12:55:56.954309",
     "status": "completed"
    },
    "tags": []
   },
   "outputs": [
    {
     "data": {
      "text/html": [
       "<div>\n",
       "<style scoped>\n",
       "    .dataframe tbody tr th:only-of-type {\n",
       "        vertical-align: middle;\n",
       "    }\n",
       "\n",
       "    .dataframe tbody tr th {\n",
       "        vertical-align: top;\n",
       "    }\n",
       "\n",
       "    .dataframe thead th {\n",
       "        text-align: right;\n",
       "    }\n",
       "</style>\n",
       "<table border=\"1\" class=\"dataframe\">\n",
       "  <thead>\n",
       "    <tr style=\"text-align: right;\">\n",
       "      <th></th>\n",
       "      <th>user_id</th>\n",
       "      <th>order_completed_at</th>\n",
       "      <th>cart</th>\n",
       "      <th>is_holiday</th>\n",
       "      <th>days_between_client_purchases</th>\n",
       "      <th>days_between_cart_purchases</th>\n",
       "    </tr>\n",
       "  </thead>\n",
       "  <tbody>\n",
       "    <tr>\n",
       "      <th>255</th>\n",
       "      <td>24</td>\n",
       "      <td>2016-08-13 02:54:47</td>\n",
       "      <td>0</td>\n",
       "      <td>1</td>\n",
       "      <td>0</td>\n",
       "      <td>0</td>\n",
       "    </tr>\n",
       "    <tr>\n",
       "      <th>262</th>\n",
       "      <td>24</td>\n",
       "      <td>2016-08-21 18:52:51</td>\n",
       "      <td>0</td>\n",
       "      <td>1</td>\n",
       "      <td>0</td>\n",
       "      <td>8</td>\n",
       "    </tr>\n",
       "    <tr>\n",
       "      <th>292</th>\n",
       "      <td>21</td>\n",
       "      <td>2016-08-23 23:29:05</td>\n",
       "      <td>0</td>\n",
       "      <td>0</td>\n",
       "      <td>0</td>\n",
       "      <td>2</td>\n",
       "    </tr>\n",
       "    <tr>\n",
       "      <th>312</th>\n",
       "      <td>29</td>\n",
       "      <td>2016-09-05 11:10:35</td>\n",
       "      <td>0</td>\n",
       "      <td>0</td>\n",
       "      <td>0</td>\n",
       "      <td>12</td>\n",
       "    </tr>\n",
       "    <tr>\n",
       "      <th>388</th>\n",
       "      <td>34</td>\n",
       "      <td>2016-09-28 22:26:35</td>\n",
       "      <td>0</td>\n",
       "      <td>0</td>\n",
       "      <td>0</td>\n",
       "      <td>23</td>\n",
       "    </tr>\n",
       "  </tbody>\n",
       "</table>\n",
       "</div>"
      ],
      "text/plain": [
       "     user_id  order_completed_at  cart  is_holiday  \\\n",
       "255       24 2016-08-13 02:54:47     0           1   \n",
       "262       24 2016-08-21 18:52:51     0           1   \n",
       "292       21 2016-08-23 23:29:05     0           0   \n",
       "312       29 2016-09-05 11:10:35     0           0   \n",
       "388       34 2016-09-28 22:26:35     0           0   \n",
       "\n",
       "     days_between_client_purchases  days_between_cart_purchases  \n",
       "255                              0                            0  \n",
       "262                              0                            8  \n",
       "292                              0                            2  \n",
       "312                              0                           12  \n",
       "388                              0                           23  "
      ]
     },
     "execution_count": 23,
     "metadata": {},
     "output_type": "execute_result"
    }
   ],
   "source": [
    "# Сортировка датафрейма по столбцам cart_id и order_completed_at\n",
    "df.sort_values(by=['cart', 'order_completed_at'], inplace=True)\n",
    "\n",
    "# Группировка по cart_id и вычисление разницы в днях между покупками\n",
    "df['days_between_cart_purchases'] = df.groupby('cart')['order_completed_at'].diff().dt.days\n",
    "df['days_between_cart_purchases'] = df['days_between_cart_purchases'].fillna(0).astype('int64')\n",
    "df.head()"
   ]
  },
  {
   "cell_type": "markdown",
   "id": "75fa567d",
   "metadata": {
    "papermill": {
     "duration": 0.037559,
     "end_time": "2024-03-02T12:55:58.820142",
     "exception": false,
     "start_time": "2024-03-02T12:55:58.782583",
     "status": "completed"
    },
    "tags": []
   },
   "source": [
    "Объединение `user_id` и `cart` в признак `id`"
   ]
  },
  {
   "cell_type": "code",
   "execution_count": 24,
   "id": "f06cb588",
   "metadata": {
    "execution": {
     "iopub.execute_input": "2024-03-02T12:55:58.896503Z",
     "iopub.status.busy": "2024-03-02T12:55:58.896005Z",
     "iopub.status.idle": "2024-03-02T12:56:03.983837Z",
     "shell.execute_reply": "2024-03-02T12:56:03.982244Z"
    },
    "papermill": {
     "duration": 5.130164,
     "end_time": "2024-03-02T12:56:03.987545",
     "exception": false,
     "start_time": "2024-03-02T12:55:58.857381",
     "status": "completed"
    },
    "tags": []
   },
   "outputs": [
    {
     "data": {
      "text/html": [
       "<div>\n",
       "<style scoped>\n",
       "    .dataframe tbody tr th:only-of-type {\n",
       "        vertical-align: middle;\n",
       "    }\n",
       "\n",
       "    .dataframe tbody tr th {\n",
       "        vertical-align: top;\n",
       "    }\n",
       "\n",
       "    .dataframe thead th {\n",
       "        text-align: right;\n",
       "    }\n",
       "</style>\n",
       "<table border=\"1\" class=\"dataframe\">\n",
       "  <thead>\n",
       "    <tr style=\"text-align: right;\">\n",
       "      <th></th>\n",
       "      <th>order_completed_at</th>\n",
       "      <th>is_holiday</th>\n",
       "      <th>days_between_client_purchases</th>\n",
       "      <th>days_between_cart_purchases</th>\n",
       "      <th>id</th>\n",
       "    </tr>\n",
       "  </thead>\n",
       "  <tbody>\n",
       "    <tr>\n",
       "      <th>255</th>\n",
       "      <td>2016-08-13 02:54:47</td>\n",
       "      <td>1</td>\n",
       "      <td>0</td>\n",
       "      <td>0</td>\n",
       "      <td>24;0</td>\n",
       "    </tr>\n",
       "    <tr>\n",
       "      <th>262</th>\n",
       "      <td>2016-08-21 18:52:51</td>\n",
       "      <td>1</td>\n",
       "      <td>0</td>\n",
       "      <td>8</td>\n",
       "      <td>24;0</td>\n",
       "    </tr>\n",
       "    <tr>\n",
       "      <th>292</th>\n",
       "      <td>2016-08-23 23:29:05</td>\n",
       "      <td>0</td>\n",
       "      <td>0</td>\n",
       "      <td>2</td>\n",
       "      <td>21;0</td>\n",
       "    </tr>\n",
       "    <tr>\n",
       "      <th>312</th>\n",
       "      <td>2016-09-05 11:10:35</td>\n",
       "      <td>0</td>\n",
       "      <td>0</td>\n",
       "      <td>12</td>\n",
       "      <td>29;0</td>\n",
       "    </tr>\n",
       "    <tr>\n",
       "      <th>388</th>\n",
       "      <td>2016-09-28 22:26:35</td>\n",
       "      <td>0</td>\n",
       "      <td>0</td>\n",
       "      <td>23</td>\n",
       "      <td>34;0</td>\n",
       "    </tr>\n",
       "  </tbody>\n",
       "</table>\n",
       "</div>"
      ],
      "text/plain": [
       "     order_completed_at  is_holiday  days_between_client_purchases  \\\n",
       "255 2016-08-13 02:54:47           1                              0   \n",
       "262 2016-08-21 18:52:51           1                              0   \n",
       "292 2016-08-23 23:29:05           0                              0   \n",
       "312 2016-09-05 11:10:35           0                              0   \n",
       "388 2016-09-28 22:26:35           0                              0   \n",
       "\n",
       "     days_between_cart_purchases    id  \n",
       "255                            0  24;0  \n",
       "262                            8  24;0  \n",
       "292                            2  21;0  \n",
       "312                           12  29;0  \n",
       "388                           23  34;0  "
      ]
     },
     "execution_count": 24,
     "metadata": {},
     "output_type": "execute_result"
    }
   ],
   "source": [
    "df['id'] = df['user_id'].astype(str) + ';' + df['cart'].astype(str)\n",
    "df.drop(['user_id', 'cart'], axis=1, inplace=True)\n",
    "df.head()"
   ]
  },
  {
   "cell_type": "markdown",
   "id": "ef780d7e",
   "metadata": {
    "papermill": {
     "duration": 0.035517,
     "end_time": "2024-03-02T12:56:04.065146",
     "exception": false,
     "start_time": "2024-03-02T12:56:04.029629",
     "status": "completed"
    },
    "tags": []
   },
   "source": [
    "Удаление даты, группировка по `id` с агрегациями"
   ]
  },
  {
   "cell_type": "code",
   "execution_count": 25,
   "id": "0603b3bc",
   "metadata": {
    "execution": {
     "iopub.execute_input": "2024-03-02T12:56:04.142455Z",
     "iopub.status.busy": "2024-03-02T12:56:04.141335Z",
     "iopub.status.idle": "2024-03-02T12:56:11.920240Z",
     "shell.execute_reply": "2024-03-02T12:56:11.918946Z"
    },
    "papermill": {
     "duration": 7.819728,
     "end_time": "2024-03-02T12:56:11.923308",
     "exception": false,
     "start_time": "2024-03-02T12:56:04.103580",
     "status": "completed"
    },
    "tags": []
   },
   "outputs": [
    {
     "name": "stdout",
     "output_type": "stream",
     "text": [
      "<class 'pandas.core.frame.DataFrame'>\n",
      "Index: 1117600 entries, 0;10 to 9;99\n",
      "Data columns (total 4 columns):\n",
      " #   Column                              Non-Null Count    Dtype  \n",
      "---  ------                              --------------    -----  \n",
      " 0   holiday_purchases                   1117600 non-null  int8   \n",
      " 1   mean_days_between_client_purchases  1117600 non-null  float64\n",
      " 2   mean_days_between_cart_purchases    1117600 non-null  float64\n",
      " 3   id_count_purchases                  1117600 non-null  int64  \n",
      "dtypes: float64(2), int64(1), int8(1)\n",
      "memory usage: 35.2+ MB\n"
     ]
    },
    {
     "data": {
      "text/html": [
       "<div>\n",
       "<style scoped>\n",
       "    .dataframe tbody tr th:only-of-type {\n",
       "        vertical-align: middle;\n",
       "    }\n",
       "\n",
       "    .dataframe tbody tr th {\n",
       "        vertical-align: top;\n",
       "    }\n",
       "\n",
       "    .dataframe thead th {\n",
       "        text-align: right;\n",
       "    }\n",
       "</style>\n",
       "<table border=\"1\" class=\"dataframe\">\n",
       "  <thead>\n",
       "    <tr style=\"text-align: right;\">\n",
       "      <th></th>\n",
       "      <th>holiday_purchases</th>\n",
       "      <th>mean_days_between_client_purchases</th>\n",
       "      <th>mean_days_between_cart_purchases</th>\n",
       "      <th>id_count_purchases</th>\n",
       "    </tr>\n",
       "    <tr>\n",
       "      <th>id</th>\n",
       "      <th></th>\n",
       "      <th></th>\n",
       "      <th></th>\n",
       "      <th></th>\n",
       "    </tr>\n",
       "  </thead>\n",
       "  <tbody>\n",
       "    <tr>\n",
       "      <th>12049;10</th>\n",
       "      <td>0</td>\n",
       "      <td>0.0</td>\n",
       "      <td>0.0</td>\n",
       "      <td>1</td>\n",
       "    </tr>\n",
       "    <tr>\n",
       "      <th>14133;64</th>\n",
       "      <td>0</td>\n",
       "      <td>17.0</td>\n",
       "      <td>0.0</td>\n",
       "      <td>1</td>\n",
       "    </tr>\n",
       "    <tr>\n",
       "      <th>12116;178</th>\n",
       "      <td>1</td>\n",
       "      <td>0.0</td>\n",
       "      <td>0.0</td>\n",
       "      <td>1</td>\n",
       "    </tr>\n",
       "    <tr>\n",
       "      <th>18892;152</th>\n",
       "      <td>0</td>\n",
       "      <td>0.0</td>\n",
       "      <td>0.0</td>\n",
       "      <td>1</td>\n",
       "    </tr>\n",
       "    <tr>\n",
       "      <th>4108;24</th>\n",
       "      <td>2</td>\n",
       "      <td>0.0</td>\n",
       "      <td>0.0</td>\n",
       "      <td>3</td>\n",
       "    </tr>\n",
       "    <tr>\n",
       "      <th>13326;24</th>\n",
       "      <td>0</td>\n",
       "      <td>0.0</td>\n",
       "      <td>0.0</td>\n",
       "      <td>1</td>\n",
       "    </tr>\n",
       "    <tr>\n",
       "      <th>5918;420</th>\n",
       "      <td>3</td>\n",
       "      <td>2.6</td>\n",
       "      <td>0.0</td>\n",
       "      <td>5</td>\n",
       "    </tr>\n",
       "    <tr>\n",
       "      <th>9427;379</th>\n",
       "      <td>1</td>\n",
       "      <td>0.0</td>\n",
       "      <td>0.0</td>\n",
       "      <td>2</td>\n",
       "    </tr>\n",
       "    <tr>\n",
       "      <th>5086;812</th>\n",
       "      <td>1</td>\n",
       "      <td>0.0</td>\n",
       "      <td>0.0</td>\n",
       "      <td>1</td>\n",
       "    </tr>\n",
       "    <tr>\n",
       "      <th>11114;806</th>\n",
       "      <td>1</td>\n",
       "      <td>0.0</td>\n",
       "      <td>0.0</td>\n",
       "      <td>3</td>\n",
       "    </tr>\n",
       "  </tbody>\n",
       "</table>\n",
       "</div>"
      ],
      "text/plain": [
       "           holiday_purchases  mean_days_between_client_purchases  \\\n",
       "id                                                                 \n",
       "12049;10                   0                                 0.0   \n",
       "14133;64                   0                                17.0   \n",
       "12116;178                  1                                 0.0   \n",
       "18892;152                  0                                 0.0   \n",
       "4108;24                    2                                 0.0   \n",
       "13326;24                   0                                 0.0   \n",
       "5918;420                   3                                 2.6   \n",
       "9427;379                   1                                 0.0   \n",
       "5086;812                   1                                 0.0   \n",
       "11114;806                  1                                 0.0   \n",
       "\n",
       "           mean_days_between_cart_purchases  id_count_purchases  \n",
       "id                                                               \n",
       "12049;10                                0.0                   1  \n",
       "14133;64                                0.0                   1  \n",
       "12116;178                               0.0                   1  \n",
       "18892;152                               0.0                   1  \n",
       "4108;24                                 0.0                   3  \n",
       "13326;24                                0.0                   1  \n",
       "5918;420                                0.0                   5  \n",
       "9427;379                                0.0                   2  \n",
       "5086;812                                0.0                   1  \n",
       "11114;806                               0.0                   3  "
      ]
     },
     "execution_count": 25,
     "metadata": {},
     "output_type": "execute_result"
    }
   ],
   "source": [
    "df = df.drop('order_completed_at', axis=1).groupby('id').agg({\n",
    "    'is_holiday': 'sum',\n",
    "    'days_between_client_purchases': 'mean',\n",
    "    'days_between_cart_purchases': 'mean',\n",
    "    'id': 'count'\n",
    "}).rename(columns={'id': 'id_count_purchases',\n",
    "                   'is_holiday': 'holiday_purchases',\n",
    "                   'days_between_client_purchases': 'mean_days_between_client_purchases',\n",
    "                   'days_between_cart_purchases': 'mean_days_between_cart_purchases'})\n",
    "df.info()\n",
    "df.sample(10)"
   ]
  },
  {
   "cell_type": "markdown",
   "id": "ed888929",
   "metadata": {
    "papermill": {
     "duration": 0.036457,
     "end_time": "2024-03-02T12:56:11.995710",
     "exception": false,
     "start_time": "2024-03-02T12:56:11.959253",
     "status": "completed"
    },
    "tags": []
   },
   "source": [
    "Добавление целевого признака"
   ]
  },
  {
   "cell_type": "code",
   "execution_count": 26,
   "id": "090e4647",
   "metadata": {
    "execution": {
     "iopub.execute_input": "2024-03-02T12:56:12.076815Z",
     "iopub.status.busy": "2024-03-02T12:56:12.075448Z",
     "iopub.status.idle": "2024-03-02T12:56:13.014704Z",
     "shell.execute_reply": "2024-03-02T12:56:13.013307Z"
    },
    "papermill": {
     "duration": 0.985949,
     "end_time": "2024-03-02T12:56:13.017771",
     "exception": false,
     "start_time": "2024-03-02T12:56:12.031822",
     "status": "completed"
    },
    "tags": []
   },
   "outputs": [
    {
     "data": {
      "text/html": [
       "<div>\n",
       "<style scoped>\n",
       "    .dataframe tbody tr th:only-of-type {\n",
       "        vertical-align: middle;\n",
       "    }\n",
       "\n",
       "    .dataframe tbody tr th {\n",
       "        vertical-align: top;\n",
       "    }\n",
       "\n",
       "    .dataframe thead th {\n",
       "        text-align: right;\n",
       "    }\n",
       "</style>\n",
       "<table border=\"1\" class=\"dataframe\">\n",
       "  <thead>\n",
       "    <tr style=\"text-align: right;\">\n",
       "      <th></th>\n",
       "      <th>holiday_purchases</th>\n",
       "      <th>mean_days_between_client_purchases</th>\n",
       "      <th>mean_days_between_cart_purchases</th>\n",
       "      <th>id_count_purchases</th>\n",
       "      <th>target</th>\n",
       "    </tr>\n",
       "    <tr>\n",
       "      <th>id</th>\n",
       "      <th></th>\n",
       "      <th></th>\n",
       "      <th></th>\n",
       "      <th></th>\n",
       "      <th></th>\n",
       "    </tr>\n",
       "  </thead>\n",
       "  <tbody>\n",
       "    <tr>\n",
       "      <th>0;10</th>\n",
       "      <td>0</td>\n",
       "      <td>0.0</td>\n",
       "      <td>0.0</td>\n",
       "      <td>1</td>\n",
       "      <td>0</td>\n",
       "    </tr>\n",
       "    <tr>\n",
       "      <th>0;133</th>\n",
       "      <td>0</td>\n",
       "      <td>35.0</td>\n",
       "      <td>0.0</td>\n",
       "      <td>1</td>\n",
       "      <td>0</td>\n",
       "    </tr>\n",
       "    <tr>\n",
       "      <th>0;14</th>\n",
       "      <td>1</td>\n",
       "      <td>0.0</td>\n",
       "      <td>0.0</td>\n",
       "      <td>2</td>\n",
       "      <td>1</td>\n",
       "    </tr>\n",
       "    <tr>\n",
       "      <th>0;157</th>\n",
       "      <td>0</td>\n",
       "      <td>0.0</td>\n",
       "      <td>0.0</td>\n",
       "      <td>1</td>\n",
       "      <td>0</td>\n",
       "    </tr>\n",
       "    <tr>\n",
       "      <th>0;169</th>\n",
       "      <td>0</td>\n",
       "      <td>0.0</td>\n",
       "      <td>0.0</td>\n",
       "      <td>1</td>\n",
       "      <td>0</td>\n",
       "    </tr>\n",
       "  </tbody>\n",
       "</table>\n",
       "</div>"
      ],
      "text/plain": [
       "       holiday_purchases  mean_days_between_client_purchases  \\\n",
       "id                                                             \n",
       "0;10                   0                                 0.0   \n",
       "0;133                  0                                35.0   \n",
       "0;14                   1                                 0.0   \n",
       "0;157                  0                                 0.0   \n",
       "0;169                  0                                 0.0   \n",
       "\n",
       "       mean_days_between_cart_purchases  id_count_purchases  target  \n",
       "id                                                                   \n",
       "0;10                                0.0                   1       0  \n",
       "0;133                               0.0                   1       0  \n",
       "0;14                                0.0                   2       1  \n",
       "0;157                               0.0                   1       0  \n",
       "0;169                               0.0                   1       0  "
      ]
     },
     "execution_count": 26,
     "metadata": {},
     "output_type": "execute_result"
    }
   ],
   "source": [
    "df['target'] = df['id_count_purchases'].apply(lambda x: 0 if x == 1 else 1)\n",
    "df.head()"
   ]
  },
  {
   "cell_type": "markdown",
   "id": "eca995fd",
   "metadata": {
    "papermill": {
     "duration": 0.037493,
     "end_time": "2024-03-02T12:56:13.092638",
     "exception": false,
     "start_time": "2024-03-02T12:56:13.055145",
     "status": "completed"
    },
    "tags": []
   },
   "source": [
    "Проверка target на `id` с покупками"
   ]
  },
  {
   "cell_type": "code",
   "execution_count": 27,
   "id": "61689235",
   "metadata": {
    "execution": {
     "iopub.execute_input": "2024-03-02T12:56:13.170441Z",
     "iopub.status.busy": "2024-03-02T12:56:13.169928Z",
     "iopub.status.idle": "2024-03-02T12:56:13.573741Z",
     "shell.execute_reply": "2024-03-02T12:56:13.572453Z"
    },
    "papermill": {
     "duration": 0.445238,
     "end_time": "2024-03-02T12:56:13.576836",
     "exception": false,
     "start_time": "2024-03-02T12:56:13.131598",
     "status": "completed"
    },
    "tags": []
   },
   "outputs": [
    {
     "data": {
      "text/html": [
       "<div>\n",
       "<style scoped>\n",
       "    .dataframe tbody tr th:only-of-type {\n",
       "        vertical-align: middle;\n",
       "    }\n",
       "\n",
       "    .dataframe tbody tr th {\n",
       "        vertical-align: top;\n",
       "    }\n",
       "\n",
       "    .dataframe thead th {\n",
       "        text-align: right;\n",
       "    }\n",
       "</style>\n",
       "<table border=\"1\" class=\"dataframe\">\n",
       "  <thead>\n",
       "    <tr style=\"text-align: right;\">\n",
       "      <th></th>\n",
       "      <th>holiday_purchases</th>\n",
       "      <th>mean_days_between_client_purchases</th>\n",
       "      <th>mean_days_between_cart_purchases</th>\n",
       "      <th>id_count_purchases</th>\n",
       "      <th>target</th>\n",
       "    </tr>\n",
       "    <tr>\n",
       "      <th>id</th>\n",
       "      <th></th>\n",
       "      <th></th>\n",
       "      <th></th>\n",
       "      <th></th>\n",
       "      <th></th>\n",
       "    </tr>\n",
       "  </thead>\n",
       "  <tbody>\n",
       "    <tr>\n",
       "      <th>2;57</th>\n",
       "      <td>4</td>\n",
       "      <td>1.0</td>\n",
       "      <td>43.3</td>\n",
       "      <td>10</td>\n",
       "      <td>1</td>\n",
       "    </tr>\n",
       "  </tbody>\n",
       "</table>\n",
       "</div>"
      ],
      "text/plain": [
       "      holiday_purchases  mean_days_between_client_purchases  \\\n",
       "id                                                            \n",
       "2;57                  4                                 1.0   \n",
       "\n",
       "      mean_days_between_cart_purchases  id_count_purchases  target  \n",
       "id                                                                  \n",
       "2;57                              43.3                  10       1  "
      ]
     },
     "execution_count": 27,
     "metadata": {},
     "output_type": "execute_result"
    }
   ],
   "source": [
    "df[df.index == '2;57']"
   ]
  },
  {
   "cell_type": "markdown",
   "id": "5503f356",
   "metadata": {
    "papermill": {
     "duration": 0.03625,
     "end_time": "2024-03-02T12:56:13.650696",
     "exception": false,
     "start_time": "2024-03-02T12:56:13.614446",
     "status": "completed"
    },
    "tags": []
   },
   "source": [
    "Соотношение классов целевого признака"
   ]
  },
  {
   "cell_type": "code",
   "execution_count": 28,
   "id": "5c84e20f",
   "metadata": {
    "execution": {
     "iopub.execute_input": "2024-03-02T12:56:13.728396Z",
     "iopub.status.busy": "2024-03-02T12:56:13.727873Z",
     "iopub.status.idle": "2024-03-02T12:56:13.919699Z",
     "shell.execute_reply": "2024-03-02T12:56:13.918343Z"
    },
    "papermill": {
     "duration": 0.234989,
     "end_time": "2024-03-02T12:56:13.922630",
     "exception": false,
     "start_time": "2024-03-02T12:56:13.687641",
     "status": "completed"
    },
    "tags": []
   },
   "outputs": [
    {
     "data": {
      "image/png": "[encoded data removed]",
      "text/plain": [
       "<Figure size 640x480 with 1 Axes>"
      ]
     },
     "metadata": {},
     "output_type": "display_data"
    }
   ],
   "source": [
    "sizes = [df['target'].value_counts()[1], df['target'].value_counts()[0]]\n",
    "fig1, ax1 = plt.subplots()\n",
    "ax1.pie(sizes, labels=['True', 'False'], autopct='%1.0f%%')\n",
    "plt.title('Соотношение классов целевого признака', size=12)\n",
    "plt.show()"
   ]
  },
  {
   "cell_type": "markdown",
   "id": "5cf9947f",
   "metadata": {
    "papermill": {
     "duration": 0.036242,
     "end_time": "2024-03-02T12:56:13.996640",
     "exception": false,
     "start_time": "2024-03-02T12:56:13.960398",
     "status": "completed"
    },
    "tags": []
   },
   "source": [
    "### Выводы и наблюдения\n",
    "- созданы дополнительные признаки:\n",
    "  - `days_between_client_purchases`\n",
    "  - `days_between_cart_purchases`\n",
    "- удалена дата из данных\n",
    "- объединены `user_id` и `cart` в признак `id`\n",
    "- произведена группировка по `id` с агрегациями:\n",
    "  - `is_holiday` - суммирование\n",
    "  - `days_between_client_purchases` и `days_between_cart_purchases` - среднее\n",
    "  - `id` подсчёт количества вхождений\n",
    "- добавлен целевой признак `target`:\n",
    "  - '0' - не было повторных покупок\n",
    "  - '1' - повторные покупки были\n",
    "- изучено соотношение классов целевого призннака: 50/50"
   ]
  },
  {
   "cell_type": "markdown",
   "id": "f50ba736",
   "metadata": {
    "papermill": {
     "duration": 0.034963,
     "end_time": "2024-03-02T12:56:14.070411",
     "exception": false,
     "start_time": "2024-03-02T12:56:14.035448",
     "status": "completed"
    },
    "tags": []
   },
   "source": [
    "## Подготовка данных"
   ]
  },
  {
   "cell_type": "code",
   "execution_count": 29,
   "id": "c2f4c312",
   "metadata": {
    "execution": {
     "iopub.execute_input": "2024-03-02T12:56:14.147728Z",
     "iopub.status.busy": "2024-03-02T12:56:14.147267Z",
     "iopub.status.idle": "2024-03-02T12:56:14.157464Z",
     "shell.execute_reply": "2024-03-02T12:56:14.156083Z"
    },
    "papermill": {
     "duration": 0.051583,
     "end_time": "2024-03-02T12:56:14.159993",
     "exception": false,
     "start_time": "2024-03-02T12:56:14.108410",
     "status": "completed"
    },
    "tags": []
   },
   "outputs": [],
   "source": [
    "def prepare_for_training(dataset):\n",
    "    y = dataset['target']\n",
    "    X = dataset.drop(['target'], axis=1)\n",
    "\n",
    "    # Разделение данных на выборки\n",
    "    X_train, X_valid, y_train, y_valid = (train_test_split(X,\n",
    "                                                           y,\n",
    "                                                           test_size=0.2,\n",
    "                                                           random_state=RANDOM_STATE,\n",
    "                                                           stratify=y)\n",
    "                                         )\n",
    "\n",
    "    # Приведение данных к единому масштабу\n",
    "    scaler = StandardScaler()\n",
    "    X_train_scl = (pd.DataFrame(scaler.fit_transform(X_train),\n",
    "                                columns=X_train.columns,\n",
    "                                index=X_train.index)\n",
    "                  )\n",
    "            \n",
    "    X_valid_scl = (pd.DataFrame(scaler.transform(X_valid),\n",
    "                                columns=X_valid.columns,\n",
    "                                index=X_valid.index)\n",
    "                  )\n",
    "        \n",
    "    print(X_train_scl.shape, X_valid_scl.shape, y_train.shape, y_valid.shape)\n",
    "\n",
    "    return X_train_scl, X_valid_scl, y_train, y_valid"
   ]
  },
  {
   "cell_type": "code",
   "execution_count": 30,
   "id": "d8aeaa03",
   "metadata": {
    "execution": {
     "iopub.execute_input": "2024-03-02T12:56:14.240779Z",
     "iopub.status.busy": "2024-03-02T12:56:14.240200Z",
     "iopub.status.idle": "2024-03-02T12:56:15.903144Z",
     "shell.execute_reply": "2024-03-02T12:56:15.901892Z"
    },
    "papermill": {
     "duration": 1.703952,
     "end_time": "2024-03-02T12:56:15.905933",
     "exception": false,
     "start_time": "2024-03-02T12:56:14.201981",
     "status": "completed"
    },
    "tags": []
   },
   "outputs": [
    {
     "name": "stdout",
     "output_type": "stream",
     "text": [
      "(894080, 4) (223520, 4) (894080,) (223520,)\n"
     ]
    }
   ],
   "source": [
    "X_train_scl, X_valid_scl, y_train, y_valid = prepare_for_training(df)"
   ]
  },
  {
   "cell_type": "markdown",
   "id": "fd713d1a",
   "metadata": {
    "papermill": {
     "duration": 0.03695,
     "end_time": "2024-03-02T12:56:15.984012",
     "exception": false,
     "start_time": "2024-03-02T12:56:15.947062",
     "status": "completed"
    },
    "tags": []
   },
   "source": [
    "### Выводы и заключения\n",
    "- выделен целевой признак\n",
    "- произведено разделение на обучающую и валидационную выборки\n",
    "- произведено масштабирование данных"
   ]
  },
  {
   "cell_type": "markdown",
   "id": "9ce9122d",
   "metadata": {
    "papermill": {
     "duration": 0.038031,
     "end_time": "2024-03-02T12:56:16.061998",
     "exception": false,
     "start_time": "2024-03-02T12:56:16.023967",
     "status": "completed"
    },
    "tags": []
   },
   "source": [
    "## Обучение моделей"
   ]
  },
  {
   "cell_type": "markdown",
   "id": "31bb1dba",
   "metadata": {
    "papermill": {
     "duration": 0.038357,
     "end_time": "2024-03-02T12:56:16.136754",
     "exception": false,
     "start_time": "2024-03-02T12:56:16.098397",
     "status": "completed"
    },
    "tags": []
   },
   "source": [
    "### Baseline"
   ]
  },
  {
   "cell_type": "code",
   "execution_count": 31,
   "id": "648cc3d9",
   "metadata": {
    "execution": {
     "iopub.execute_input": "2024-03-02T12:56:16.218075Z",
     "iopub.status.busy": "2024-03-02T12:56:16.217559Z",
     "iopub.status.idle": "2024-03-02T12:56:18.146494Z",
     "shell.execute_reply": "2024-03-02T12:56:18.144536Z"
    },
    "papermill": {
     "duration": 1.976332,
     "end_time": "2024-03-02T12:56:18.151140",
     "exception": false,
     "start_time": "2024-03-02T12:56:16.174808",
     "status": "completed"
    },
    "tags": []
   },
   "outputs": [
    {
     "data": {
      "text/html": [
       "<style>#sk-container-id-1 {color: black;background-color: white;}#sk-container-id-1 pre{padding: 0;}#sk-container-id-1 div.sk-toggleable {background-color: white;}#sk-container-id-1 label.sk-toggleable__label {cursor: pointer;display: block;width: 100%;margin-bottom: 0;padding: 0.3em;box-sizing: border-box;text-align: center;}#sk-container-id-1 label.sk-toggleable__label-arrow:before {content: \"▸\";float: left;margin-right: 0.25em;color: #696969;}#sk-container-id-1 label.sk-toggleable__label-arrow:hover:before {color: black;}#sk-container-id-1 div.sk-estimator:hover label.sk-toggleable__label-arrow:before {color: black;}#sk-container-id-1 div.sk-toggleable__content {max-height: 0;max-width: 0;overflow: hidden;text-align: left;background-color: #f0f8ff;}#sk-container-id-1 div.sk-toggleable__content pre {margin: 0.2em;color: black;border-radius: 0.25em;background-color: #f0f8ff;}#sk-container-id-1 input.sk-toggleable__control:checked~div.sk-toggleable__content {max-height: 200px;max-width: 100%;overflow: auto;}#sk-container-id-1 input.sk-toggleable__control:checked~label.sk-toggleable__label-arrow:before {content: \"▾\";}#sk-container-id-1 div.sk-estimator input.sk-toggleable__control:checked~label.sk-toggleable__label {background-color: #d4ebff;}#sk-container-id-1 div.sk-label input.sk-toggleable__control:checked~label.sk-toggleable__label {background-color: #d4ebff;}#sk-container-id-1 input.sk-hidden--visually {border: 0;clip: rect(1px 1px 1px 1px);clip: rect(1px, 1px, 1px, 1px);height: 1px;margin: -1px;overflow: hidden;padding: 0;position: absolute;width: 1px;}#sk-container-id-1 div.sk-estimator {font-family: monospace;background-color: #f0f8ff;border: 1px dotted black;border-radius: 0.25em;box-sizing: border-box;margin-bottom: 0.5em;}#sk-container-id-1 div.sk-estimator:hover {background-color: #d4ebff;}#sk-container-id-1 div.sk-parallel-item::after {content: \"\";width: 100%;border-bottom: 1px solid gray;flex-grow: 1;}#sk-container-id-1 div.sk-label:hover label.sk-toggleable__label {background-color: #d4ebff;}#sk-container-id-1 div.sk-serial::before {content: \"\";position: absolute;border-left: 1px solid gray;box-sizing: border-box;top: 0;bottom: 0;left: 50%;z-index: 0;}#sk-container-id-1 div.sk-serial {display: flex;flex-direction: column;align-items: center;background-color: white;padding-right: 0.2em;padding-left: 0.2em;position: relative;}#sk-container-id-1 div.sk-item {position: relative;z-index: 1;}#sk-container-id-1 div.sk-parallel {display: flex;align-items: stretch;justify-content: center;background-color: white;position: relative;}#sk-container-id-1 div.sk-item::before, #sk-container-id-1 div.sk-parallel-item::before {content: \"\";position: absolute;border-left: 1px solid gray;box-sizing: border-box;top: 0;bottom: 0;left: 50%;z-index: -1;}#sk-container-id-1 div.sk-parallel-item {display: flex;flex-direction: column;z-index: 1;position: relative;background-color: white;}#sk-container-id-1 div.sk-parallel-item:first-child::after {align-self: flex-end;width: 50%;}#sk-container-id-1 div.sk-parallel-item:last-child::after {align-self: flex-start;width: 50%;}#sk-container-id-1 div.sk-parallel-item:only-child::after {width: 0;}#sk-container-id-1 div.sk-dashed-wrapped {border: 1px dashed gray;margin: 0 0.4em 0.5em 0.4em;box-sizing: border-box;padding-bottom: 0.4em;background-color: white;}#sk-container-id-1 div.sk-label label {font-family: monospace;font-weight: bold;display: inline-block;line-height: 1.2em;}#sk-container-id-1 div.sk-label-container {text-align: center;}#sk-container-id-1 div.sk-container {/* jupyter's `normalize.less` sets `[hidden] { display: none; }` but bootstrap.min.css set `[hidden] { display: none !important; }` so we also need the `!important` here to be able to override the default hidden behavior on the sphinx rendered scikit-learn.org. See: https://github.com/scikit-learn/scikit-learn/issues/21755 */display: inline-block !important;position: relative;}#sk-container-id-1 div.sk-text-repr-fallback {display: none;}</style><div id=\"sk-container-id-1\" class=\"sk-top-container\"><div class=\"sk-text-repr-fallback\"><pre>LogisticRegression(class_weight=&#x27;balanced&#x27;)</pre><b>In a Jupyter environment, please rerun this cell to show the HTML representation or trust the notebook. <br />On GitHub, the HTML representation is unable to render, please try loading this page with nbviewer.org.</b></div><div class=\"sk-container\" hidden><div class=\"sk-item\"><div class=\"sk-estimator sk-toggleable\"><input class=\"sk-toggleable__control sk-hidden--visually\" id=\"sk-estimator-id-1\" type=\"checkbox\" checked><label for=\"sk-estimator-id-1\" class=\"sk-toggleable__label sk-toggleable__label-arrow\">LogisticRegression</label><div class=\"sk-toggleable__content\"><pre>LogisticRegression(class_weight=&#x27;balanced&#x27;)</pre></div></div></div></div></div>"
      ],
      "text/plain": [
       "LogisticRegression(class_weight='balanced')"
      ]
     },
     "execution_count": 31,
     "metadata": {},
     "output_type": "execute_result"
    }
   ],
   "source": [
    "lr_st = LogisticRegression(class_weight='balanced', C=1.0, penalty='l2')\n",
    "lr_st.fit(X_train_scl.drop('id_count_purchases', axis=1), y_train)"
   ]
  },
  {
   "cell_type": "markdown",
   "id": "2edba9dd",
   "metadata": {
    "papermill": {
     "duration": 0.04611,
     "end_time": "2024-03-02T12:56:18.282474",
     "exception": false,
     "start_time": "2024-03-02T12:56:18.236364",
     "status": "completed"
    },
    "tags": []
   },
   "source": [
    "#### Проведение кросс-валидации"
   ]
  },
  {
   "cell_type": "code",
   "execution_count": 32,
   "id": "d1835dd3",
   "metadata": {
    "execution": {
     "iopub.execute_input": "2024-03-02T12:56:18.361183Z",
     "iopub.status.busy": "2024-03-02T12:56:18.360589Z",
     "iopub.status.idle": "2024-03-02T12:56:32.973609Z",
     "shell.execute_reply": "2024-03-02T12:56:32.972165Z"
    },
    "papermill": {
     "duration": 14.654999,
     "end_time": "2024-03-02T12:56:32.976454",
     "exception": false,
     "start_time": "2024-03-02T12:56:18.321455",
     "status": "completed"
    },
    "tags": []
   },
   "outputs": [
    {
     "data": {
      "text/html": [
       "<div>\n",
       "<style scoped>\n",
       "    .dataframe tbody tr th:only-of-type {\n",
       "        vertical-align: middle;\n",
       "    }\n",
       "\n",
       "    .dataframe tbody tr th {\n",
       "        vertical-align: top;\n",
       "    }\n",
       "\n",
       "    .dataframe thead th {\n",
       "        text-align: right;\n",
       "    }\n",
       "</style>\n",
       "<table border=\"1\" class=\"dataframe\">\n",
       "  <thead>\n",
       "    <tr style=\"text-align: right;\">\n",
       "      <th></th>\n",
       "      <th>fit_time</th>\n",
       "      <th>score_time</th>\n",
       "      <th>test_f1</th>\n",
       "      <th>test_roc_auc</th>\n",
       "    </tr>\n",
       "  </thead>\n",
       "  <tbody>\n",
       "    <tr>\n",
       "      <th>0</th>\n",
       "      <td>1.383351</td>\n",
       "      <td>0.246492</td>\n",
       "      <td>0.707808</td>\n",
       "      <td>0.758049</td>\n",
       "    </tr>\n",
       "    <tr>\n",
       "      <th>1</th>\n",
       "      <td>1.319523</td>\n",
       "      <td>0.235911</td>\n",
       "      <td>0.710433</td>\n",
       "      <td>0.760652</td>\n",
       "    </tr>\n",
       "    <tr>\n",
       "      <th>2</th>\n",
       "      <td>1.402844</td>\n",
       "      <td>0.322882</td>\n",
       "      <td>0.707014</td>\n",
       "      <td>0.757974</td>\n",
       "    </tr>\n",
       "    <tr>\n",
       "      <th>3</th>\n",
       "      <td>1.153216</td>\n",
       "      <td>0.231438</td>\n",
       "      <td>0.707492</td>\n",
       "      <td>0.758274</td>\n",
       "    </tr>\n",
       "    <tr>\n",
       "      <th>4</th>\n",
       "      <td>1.292813</td>\n",
       "      <td>0.224806</td>\n",
       "      <td>0.706891</td>\n",
       "      <td>0.756976</td>\n",
       "    </tr>\n",
       "  </tbody>\n",
       "</table>\n",
       "</div>"
      ],
      "text/plain": [
       "   fit_time  score_time   test_f1  test_roc_auc\n",
       "0  1.383351    0.246492  0.707808      0.758049\n",
       "1  1.319523    0.235911  0.710433      0.760652\n",
       "2  1.402844    0.322882  0.707014      0.757974\n",
       "3  1.153216    0.231438  0.707492      0.758274\n",
       "4  1.292813    0.224806  0.706891      0.756976"
      ]
     },
     "execution_count": 32,
     "metadata": {},
     "output_type": "execute_result"
    }
   ],
   "source": [
    "cv_strategy = StratifiedKFold(n_splits=5, shuffle=True, random_state=RANDOM_STATE)\n",
    "cv_res = cross_validate(\n",
    "    lr_st,\n",
    "    X_train_scl.drop('id_count_purchases', axis=1),\n",
    "    y_train,\n",
    "    cv=cv_strategy,\n",
    "    n_jobs=-1,\n",
    "    scoring=['f1', 'roc_auc']\n",
    ")\n",
    "pd.DataFrame(cv_res)"
   ]
  },
  {
   "cell_type": "markdown",
   "id": "a867d14f",
   "metadata": {
    "papermill": {
     "duration": 0.040723,
     "end_time": "2024-03-02T12:56:33.057531",
     "exception": false,
     "start_time": "2024-03-02T12:56:33.016808",
     "status": "completed"
    },
    "tags": []
   },
   "source": [
    "### Выводы и наблюдения\n",
    "- произведено обучение модели логистической регрессии\n",
    "- произведена кросс-валидация обученной модели"
   ]
  },
  {
   "cell_type": "markdown",
   "id": "63ff2f5d",
   "metadata": {
    "papermill": {
     "duration": 0.037992,
     "end_time": "2024-03-02T12:56:33.135367",
     "exception": false,
     "start_time": "2024-03-02T12:56:33.097375",
     "status": "completed"
    },
    "tags": []
   },
   "source": [
    "## Проверка лучшей модели на отложенной выборке"
   ]
  },
  {
   "cell_type": "code",
   "execution_count": 33,
   "id": "5f0227c3",
   "metadata": {
    "execution": {
     "iopub.execute_input": "2024-03-02T12:56:33.217125Z",
     "iopub.status.busy": "2024-03-02T12:56:33.216104Z",
     "iopub.status.idle": "2024-03-02T12:56:33.505646Z",
     "shell.execute_reply": "2024-03-02T12:56:33.503989Z"
    },
    "papermill": {
     "duration": 0.332107,
     "end_time": "2024-03-02T12:56:33.508804",
     "exception": false,
     "start_time": "2024-03-02T12:56:33.176697",
     "status": "completed"
    },
    "tags": []
   },
   "outputs": [
    {
     "name": "stdout",
     "output_type": "stream",
     "text": [
      "F1 на отложенной выборке: 0.7081600591442566\n"
     ]
    }
   ],
   "source": [
    "lr_st_pred = lr_st.predict(X_valid_scl.drop('id_count_purchases', axis=1))\n",
    "lr_st_pred_f1 = f1_score(y_valid, lr_st_pred)\n",
    "print(f'F1 на отложенной выборке: {lr_st_pred_f1}')"
   ]
  },
  {
   "cell_type": "markdown",
   "id": "da284606",
   "metadata": {
    "papermill": {
     "duration": 0.039337,
     "end_time": "2024-03-02T12:56:33.589360",
     "exception": false,
     "start_time": "2024-03-02T12:56:33.550023",
     "status": "completed"
    },
    "tags": []
   },
   "source": [
    "### Выводы и наблюдения\n",
    "- проверка модели на тестовой выборке показывает хорошие результаты по выбранной метрике"
   ]
  },
  {
   "cell_type": "markdown",
   "id": "207572af",
   "metadata": {
    "papermill": {
     "duration": 0.039323,
     "end_time": "2024-03-02T12:56:33.666336",
     "exception": false,
     "start_time": "2024-03-02T12:56:33.627013",
     "status": "completed"
    },
    "tags": []
   },
   "source": [
    "## Предсказания для отправки"
   ]
  },
  {
   "cell_type": "code",
   "execution_count": 34,
   "id": "44357353",
   "metadata": {
    "execution": {
     "iopub.execute_input": "2024-03-02T12:56:33.749709Z",
     "iopub.status.busy": "2024-03-02T12:56:33.748182Z",
     "iopub.status.idle": "2024-03-02T12:56:34.016395Z",
     "shell.execute_reply": "2024-03-02T12:56:34.014887Z"
    },
    "papermill": {
     "duration": 0.310952,
     "end_time": "2024-03-02T12:56:34.019362",
     "exception": false,
     "start_time": "2024-03-02T12:56:33.708410",
     "status": "completed"
    },
    "tags": []
   },
   "outputs": [
    {
     "data": {
      "text/html": [
       "<div>\n",
       "<style scoped>\n",
       "    .dataframe tbody tr th:only-of-type {\n",
       "        vertical-align: middle;\n",
       "    }\n",
       "\n",
       "    .dataframe tbody tr th {\n",
       "        vertical-align: top;\n",
       "    }\n",
       "\n",
       "    .dataframe thead th {\n",
       "        text-align: right;\n",
       "    }\n",
       "</style>\n",
       "<table border=\"1\" class=\"dataframe\">\n",
       "  <thead>\n",
       "    <tr style=\"text-align: right;\">\n",
       "      <th></th>\n",
       "      <th>id</th>\n",
       "      <th>target</th>\n",
       "    </tr>\n",
       "  </thead>\n",
       "  <tbody>\n",
       "    <tr>\n",
       "      <th>0</th>\n",
       "      <td>10864;19</td>\n",
       "      <td>1</td>\n",
       "    </tr>\n",
       "    <tr>\n",
       "      <th>1</th>\n",
       "      <td>10122;106</td>\n",
       "      <td>0</td>\n",
       "    </tr>\n",
       "    <tr>\n",
       "      <th>2</th>\n",
       "      <td>5751;84</td>\n",
       "      <td>0</td>\n",
       "    </tr>\n",
       "    <tr>\n",
       "      <th>3</th>\n",
       "      <td>829;439</td>\n",
       "      <td>1</td>\n",
       "    </tr>\n",
       "    <tr>\n",
       "      <th>4</th>\n",
       "      <td>7189;442</td>\n",
       "      <td>0</td>\n",
       "    </tr>\n",
       "  </tbody>\n",
       "</table>\n",
       "</div>"
      ],
      "text/plain": [
       "          id  target\n",
       "0   10864;19       1\n",
       "1  10122;106       0\n",
       "2    5751;84       0\n",
       "3    829;439       1\n",
       "4   7189;442       0"
      ]
     },
     "execution_count": 34,
     "metadata": {},
     "output_type": "execute_result"
    }
   ],
   "source": [
    "sub_df = pd.concat([X_train_scl, X_valid_scl], axis=0)\n",
    "sub_df['target'] = lr_st.predict(sub_df.drop('id_count_purchases', axis=1))\n",
    "sub_df = sub_df.iloc[:, -1]\n",
    "sub_df = sub_df.to_frame().reset_index()\n",
    "sub_df.head()"
   ]
  },
  {
   "cell_type": "code",
   "execution_count": 35,
   "id": "8966ca95",
   "metadata": {
    "execution": {
     "iopub.execute_input": "2024-03-02T12:56:34.097979Z",
     "iopub.status.busy": "2024-03-02T12:56:34.097500Z",
     "iopub.status.idle": "2024-03-02T12:56:35.892619Z",
     "shell.execute_reply": "2024-03-02T12:56:35.891433Z"
    },
    "papermill": {
     "duration": 1.836995,
     "end_time": "2024-03-02T12:56:35.895770",
     "exception": false,
     "start_time": "2024-03-02T12:56:34.058775",
     "status": "completed"
    },
    "tags": []
   },
   "outputs": [],
   "source": [
    "sample_sub.drop('target', axis=1, inplace=True)\n",
    "merged_df = (sample_sub\n",
    "             .merge(sub_df,\n",
    "                    on='id',\n",
    "                    how='left')\n",
    "            )"
   ]
  },
  {
   "cell_type": "code",
   "execution_count": 36,
   "id": "f8d4737c",
   "metadata": {
    "execution": {
     "iopub.execute_input": "2024-03-02T12:56:35.975975Z",
     "iopub.status.busy": "2024-03-02T12:56:35.975440Z",
     "iopub.status.idle": "2024-03-02T12:56:37.134061Z",
     "shell.execute_reply": "2024-03-02T12:56:37.132606Z"
    },
    "papermill": {
     "duration": 1.202053,
     "end_time": "2024-03-02T12:56:37.137526",
     "exception": false,
     "start_time": "2024-03-02T12:56:35.935473",
     "status": "completed"
    },
    "tags": []
   },
   "outputs": [
    {
     "name": "stdout",
     "output_type": "stream",
     "text": [
      "submission.csv сохранён\n"
     ]
    }
   ],
   "source": [
    "merged_df.to_csv('submission.csv', index=False)\n",
    "print('submission.csv сохранён')"
   ]
  },
  {
   "cell_type": "code",
   "execution_count": 37,
   "id": "5bb51bec",
   "metadata": {
    "execution": {
     "iopub.execute_input": "2024-03-02T12:56:37.217414Z",
     "iopub.status.busy": "2024-03-02T12:56:37.216925Z",
     "iopub.status.idle": "2024-03-02T12:56:37.222701Z",
     "shell.execute_reply": "2024-03-02T12:56:37.221615Z"
    },
    "papermill": {
     "duration": 0.05146,
     "end_time": "2024-03-02T12:56:37.225222",
     "exception": false,
     "start_time": "2024-03-02T12:56:37.173762",
     "status": "completed"
    },
    "tags": []
   },
   "outputs": [],
   "source": [
    "\n",
    "\n",
    "#     pipeline = Pipeline(\n",
    "#         [\n",
    "#             ('preprocessor', preprocessor),\n",
    "#             ('model', model)\n",
    "#         ]\n",
    "#     )\n",
    "#     pipeline.fit(data.drop(params['target_col'], axis=1), data[params['target_col']])"
   ]
  },
  {
   "cell_type": "code",
   "execution_count": null,
   "id": "da6ac17f",
   "metadata": {
    "execution": {
     "iopub.execute_input": "2024-03-01T18:05:02.272950Z",
     "iopub.status.busy": "2024-03-01T18:05:02.272519Z",
     "iopub.status.idle": "2024-03-01T18:05:02.286319Z",
     "shell.execute_reply": "2024-03-01T18:05:02.285088Z",
     "shell.execute_reply.started": "2024-03-01T18:05:02.272918Z"
    },
    "papermill": {
     "duration": 0.0375,
     "end_time": "2024-03-02T12:56:37.303606",
     "exception": false,
     "start_time": "2024-03-02T12:56:37.266106",
     "status": "completed"
    },
    "tags": []
   },
   "outputs": [],
   "source": []
  },
  {
   "cell_type": "code",
   "execution_count": null,
   "id": "8e0bb6a4",
   "metadata": {
    "papermill": {
     "duration": 0.041618,
     "end_time": "2024-03-02T12:56:37.384521",
     "exception": false,
     "start_time": "2024-03-02T12:56:37.342903",
     "status": "completed"
    },
    "tags": []
   },
   "outputs": [],
   "source": []
  },
  {
   "cell_type": "code",
   "execution_count": null,
   "id": "c911d81a",
   "metadata": {
    "papermill": {
     "duration": 0.038133,
     "end_time": "2024-03-02T12:56:37.463275",
     "exception": false,
     "start_time": "2024-03-02T12:56:37.425142",
     "status": "completed"
    },
    "tags": []
   },
   "outputs": [],
   "source": []
  },
  {
   "cell_type": "code",
   "execution_count": null,
   "id": "78c59317",
   "metadata": {
    "papermill": {
     "duration": 0.040025,
     "end_time": "2024-03-02T12:56:37.545129",
     "exception": false,
     "start_time": "2024-03-02T12:56:37.505104",
     "status": "completed"
    },
    "tags": []
   },
   "outputs": [],
   "source": []
  },
  {
   "cell_type": "code",
   "execution_count": null,
   "id": "1686cbba",
   "metadata": {
    "papermill": {
     "duration": 0.03963,
     "end_time": "2024-03-02T12:56:37.628181",
     "exception": false,
     "start_time": "2024-03-02T12:56:37.588551",
     "status": "completed"
    },
    "tags": []
   },
   "outputs": [],
   "source": []
  },
  {
   "cell_type": "markdown",
   "id": "7707b579",
   "metadata": {
    "papermill": {
     "duration": 0.038296,
     "end_time": "2024-03-02T12:56:37.707320",
     "exception": false,
     "start_time": "2024-03-02T12:56:37.669024",
     "status": "completed"
    },
    "tags": []
   },
   "source": [
    "# Решение через временные ряды"
   ]
  },
  {
   "cell_type": "markdown",
   "id": "a222a2f1",
   "metadata": {
    "papermill": {
     "duration": 0.036344,
     "end_time": "2024-03-02T12:56:37.780657",
     "exception": false,
     "start_time": "2024-03-02T12:56:37.744313",
     "status": "completed"
    },
    "tags": []
   },
   "source": [
    "## Проверка наличия сезонности"
   ]
  },
  {
   "cell_type": "markdown",
   "id": "8895a709",
   "metadata": {
    "papermill": {
     "duration": 0.038033,
     "end_time": "2024-03-02T12:56:37.855310",
     "exception": false,
     "start_time": "2024-03-02T12:56:37.817277",
     "status": "completed"
    },
    "tags": []
   },
   "source": [
    "Установка даты индексом"
   ]
  },
  {
   "cell_type": "code",
   "execution_count": 38,
   "id": "9ab11be9",
   "metadata": {
    "execution": {
     "iopub.execute_input": "2024-03-02T12:56:37.934357Z",
     "iopub.status.busy": "2024-03-02T12:56:37.933908Z",
     "iopub.status.idle": "2024-03-02T12:56:37.939273Z",
     "shell.execute_reply": "2024-03-02T12:56:37.937788Z"
    },
    "papermill": {
     "duration": 0.047013,
     "end_time": "2024-03-02T12:56:37.942272",
     "exception": false,
     "start_time": "2024-03-02T12:56:37.895259",
     "status": "completed"
    },
    "tags": []
   },
   "outputs": [],
   "source": [
    "# df_w.set_index('order_completed_at', inplace=True)\n",
    "# df_w.sort_index(inplace=True)"
   ]
  },
  {
   "cell_type": "code",
   "execution_count": 39,
   "id": "994a085a",
   "metadata": {
    "execution": {
     "iopub.execute_input": "2024-03-02T12:56:38.026457Z",
     "iopub.status.busy": "2024-03-02T12:56:38.025538Z",
     "iopub.status.idle": "2024-03-02T12:56:38.030598Z",
     "shell.execute_reply": "2024-03-02T12:56:38.029215Z"
    },
    "papermill": {
     "duration": 0.051603,
     "end_time": "2024-03-02T12:56:38.035105",
     "exception": false,
     "start_time": "2024-03-02T12:56:37.983502",
     "status": "completed"
    },
    "tags": []
   },
   "outputs": [],
   "source": [
    "# df_s = df_w.copy()\n",
    "# df_s.set_index('order_completed_at', inplace=True)\n",
    "# df_s.sort_index(inplace=True)"
   ]
  },
  {
   "cell_type": "code",
   "execution_count": 40,
   "id": "2ea792e5",
   "metadata": {
    "execution": {
     "iopub.execute_input": "2024-03-02T12:56:38.118890Z",
     "iopub.status.busy": "2024-03-02T12:56:38.118051Z",
     "iopub.status.idle": "2024-03-02T12:56:38.124615Z",
     "shell.execute_reply": "2024-03-02T12:56:38.123362Z"
    },
    "papermill": {
     "duration": 0.050517,
     "end_time": "2024-03-02T12:56:38.127799",
     "exception": false,
     "start_time": "2024-03-02T12:56:38.077282",
     "status": "completed"
    },
    "tags": []
   },
   "outputs": [],
   "source": [
    "# '''разложение на тренд, сезонность и остатки за год'''\n",
    "\n",
    "# decomposed_units_year = seasonal_decompose(df_s['target'], period=365)\n",
    "\n",
    "# plt.figure(figsize=(10,6))\n",
    "# plt.suptitle('Decomposition Analysis of Annual Data', fontsize=12)\n",
    "# plt.subplot(311)\n",
    "# decomposed_units_year.trend.plot(ax=plt.gca())\n",
    "# plt.title('Trend')\n",
    "# plt.subplot(312)\n",
    "# decomposed_units_year.seasonal.plot(ax=plt.gca())\n",
    "# plt.title('Seasonality')\n",
    "# plt.subplot(313)\n",
    "# decomposed_units_year.resid.plot(ax=plt.gca())\n",
    "# plt.title('Residuals')\n",
    "# plt.tight_layout()\n",
    "\n",
    "# '''разложение на тренд, сезонность и остатки за две недели'''\n",
    "\n",
    "# decomposed_units_month = seasonal_decompose(df_s['target']['2019-06-24':'2019-07-24'], period=1)\n",
    "\n",
    "# plt.figure(figsize=(10,6))\n",
    "# plt.suptitle('Decomposition Analysis of Monthly Data (June 24, 2019 - July 24, 2019)', fontsize=12)\n",
    "# plt.subplot(311)\n",
    "# decomposed_units_month.trend.plot(ax=plt.gca())\n",
    "# plt.title('Trend')\n",
    "# plt.subplot(312)\n",
    "# decomposed_units_month.seasonal.plot(ax=plt.gca())\n",
    "# plt.title('Seasonality')\n",
    "# plt.subplot(313)\n",
    "# decomposed_units_month.resid.plot(ax=plt.gca())\n",
    "# plt.title('Residuals')\n",
    "# plt.tight_layout()"
   ]
  },
  {
   "cell_type": "markdown",
   "id": "c7f0f00a",
   "metadata": {
    "papermill": {
     "duration": 0.043067,
     "end_time": "2024-03-02T12:56:38.208839",
     "exception": false,
     "start_time": "2024-03-02T12:56:38.165772",
     "status": "completed"
    },
    "tags": []
   },
   "source": [
    "### Выводы и наблюдения\n",
    "- дата установлена в качестве индекса;\n",
    "- сезонности не обнаружено;\n",
    "- общего тренда также нет"
   ]
  },
  {
   "cell_type": "markdown",
   "id": "a77424d8",
   "metadata": {
    "papermill": {
     "duration": 0.03824,
     "end_time": "2024-03-02T12:56:38.286913",
     "exception": false,
     "start_time": "2024-03-02T12:56:38.248673",
     "status": "completed"
    },
    "tags": []
   },
   "source": [
    "## Подготовка к обучению"
   ]
  },
  {
   "cell_type": "markdown",
   "id": "e7d8f351",
   "metadata": {
    "papermill": {
     "duration": 0.038032,
     "end_time": "2024-03-02T12:56:38.362415",
     "exception": false,
     "start_time": "2024-03-02T12:56:38.324383",
     "status": "completed"
    },
    "tags": []
   },
   "source": [
    "Разделение на `train` и `test`"
   ]
  },
  {
   "cell_type": "code",
   "execution_count": 41,
   "id": "1c17fac5",
   "metadata": {
    "execution": {
     "iopub.execute_input": "2024-03-02T12:56:38.443443Z",
     "iopub.status.busy": "2024-03-02T12:56:38.442586Z",
     "iopub.status.idle": "2024-03-02T12:56:38.447321Z",
     "shell.execute_reply": "2024-03-02T12:56:38.446173Z"
    },
    "papermill": {
     "duration": 0.047936,
     "end_time": "2024-03-02T12:56:38.449930",
     "exception": false,
     "start_time": "2024-03-02T12:56:38.401994",
     "status": "completed"
    },
    "tags": []
   },
   "outputs": [],
   "source": [
    "# df_w.info()"
   ]
  },
  {
   "cell_type": "code",
   "execution_count": 42,
   "id": "4627a591",
   "metadata": {
    "execution": {
     "iopub.execute_input": "2024-03-02T12:56:38.532405Z",
     "iopub.status.busy": "2024-03-02T12:56:38.531916Z",
     "iopub.status.idle": "2024-03-02T12:56:38.537669Z",
     "shell.execute_reply": "2024-03-02T12:56:38.536239Z"
    },
    "papermill": {
     "duration": 0.049729,
     "end_time": "2024-03-02T12:56:38.540311",
     "exception": false,
     "start_time": "2024-03-02T12:56:38.490582",
     "status": "completed"
    },
    "tags": []
   },
   "outputs": [],
   "source": [
    "# y = df_w['target']\n",
    "# X = df_w.drop(['target'], axis=1)\n",
    "\n",
    "# X_train = X[X.index < (X.index.max() - pd.DateOffset(days=PRED))]\n",
    "# X_test = X[X.index >= (X.index.max() - pd.DateOffset(days=PRED))]\n",
    "# y_train = y[:X_train.shape[0]]\n",
    "# y_test = y[X_train.shape[0]:]\n",
    "# X_train.shape, X_test.shape, y_train.shape, y_test.shape\n",
    "# # ((1431604, 3), (1691460, 3), (1431604,), (1691460,)) PRED = 120\n",
    "# # ((2677986, 3), (445078, 3), (2677986,), (445078,)) PRED = 30"
   ]
  },
  {
   "cell_type": "markdown",
   "id": "80d9a73d",
   "metadata": {
    "papermill": {
     "duration": 0.038424,
     "end_time": "2024-03-02T12:56:38.620059",
     "exception": false,
     "start_time": "2024-03-02T12:56:38.581635",
     "status": "completed"
    },
    "tags": []
   },
   "source": [
    "Масштабирование данных"
   ]
  },
  {
   "cell_type": "code",
   "execution_count": 43,
   "id": "1be6029f",
   "metadata": {
    "execution": {
     "iopub.execute_input": "2024-03-02T12:56:38.700578Z",
     "iopub.status.busy": "2024-03-02T12:56:38.699647Z",
     "iopub.status.idle": "2024-03-02T12:56:38.705540Z",
     "shell.execute_reply": "2024-03-02T12:56:38.704434Z"
    },
    "papermill": {
     "duration": 0.048657,
     "end_time": "2024-03-02T12:56:38.708158",
     "exception": false,
     "start_time": "2024-03-02T12:56:38.659501",
     "status": "completed"
    },
    "tags": []
   },
   "outputs": [],
   "source": [
    "# scaler = StandardScaler()\n",
    "# X_train_scl = (pd.DataFrame(scaler.fit_transform(X_train.drop(['id'], axis=1)),\n",
    "#                             columns=X_train.drop(['id'], axis=1).columns,\n",
    "#                             index=X_train.drop(['id'], axis=1).index))\n",
    "# X_train_scl = pd.concat([X_train_scl, X_train[['id']]], axis=1)\n",
    "# X_test_scl = (pd.DataFrame(scaler.transform(X_test.drop(['id'], axis=1)),\n",
    "#                            columns=X_test.drop(['id'], axis=1).columns,\n",
    "#                            index=X_test.drop(['id'], axis=1).index))\n",
    "# X_test_scl = pd.concat([X_test_scl, X_test[['id']]], axis=1)\n",
    "\n",
    "# X_train_scl.shape, X_test_scl.shape"
   ]
  },
  {
   "cell_type": "markdown",
   "id": "7d40ba04",
   "metadata": {
    "papermill": {
     "duration": 0.037017,
     "end_time": "2024-03-02T12:56:38.783721",
     "exception": false,
     "start_time": "2024-03-02T12:56:38.746704",
     "status": "completed"
    },
    "tags": []
   },
   "source": [
    "## Обучение модели"
   ]
  },
  {
   "cell_type": "markdown",
   "id": "c1789c7e",
   "metadata": {
    "papermill": {
     "duration": 0.037856,
     "end_time": "2024-03-02T12:56:38.860605",
     "exception": false,
     "start_time": "2024-03-02T12:56:38.822749",
     "status": "completed"
    },
    "tags": []
   },
   "source": [
    "Baseline - LogisticRegression\n",
    "<br>Предсказания на обучающей выборке"
   ]
  },
  {
   "cell_type": "code",
   "execution_count": 44,
   "id": "1ba1bb0b",
   "metadata": {
    "execution": {
     "iopub.execute_input": "2024-03-02T12:56:38.942726Z",
     "iopub.status.busy": "2024-03-02T12:56:38.941749Z",
     "iopub.status.idle": "2024-03-02T12:56:38.947422Z",
     "shell.execute_reply": "2024-03-02T12:56:38.946287Z"
    },
    "papermill": {
     "duration": 0.053048,
     "end_time": "2024-03-02T12:56:38.950363",
     "exception": false,
     "start_time": "2024-03-02T12:56:38.897315",
     "status": "completed"
    },
    "tags": []
   },
   "outputs": [],
   "source": [
    "# baseline = LogisticRegression(random_state=RANDOM_STATE, class_weight='balanced')\n",
    "# baseline.fit(X_train_scl.drop(['id'], axis=1), y_train)\n",
    "# baseline_pred = baseline.predict(X_train_scl.drop(['id'], axis=1))\n",
    "# baseline_f1 = f1_score(y_train, baseline_pred)\n",
    "# baseline_f1"
   ]
  },
  {
   "cell_type": "markdown",
   "id": "6c935c16",
   "metadata": {
    "papermill": {
     "duration": 0.039169,
     "end_time": "2024-03-02T12:56:39.027980",
     "exception": false,
     "start_time": "2024-03-02T12:56:38.988811",
     "status": "completed"
    },
    "tags": []
   },
   "source": [
    "Предсказания на тестовой выборке"
   ]
  },
  {
   "cell_type": "code",
   "execution_count": 45,
   "id": "b3a86d2e",
   "metadata": {
    "execution": {
     "iopub.execute_input": "2024-03-02T12:56:39.111028Z",
     "iopub.status.busy": "2024-03-02T12:56:39.110532Z",
     "iopub.status.idle": "2024-03-02T12:56:39.115230Z",
     "shell.execute_reply": "2024-03-02T12:56:39.113976Z"
    },
    "papermill": {
     "duration": 0.04874,
     "end_time": "2024-03-02T12:56:39.117748",
     "exception": false,
     "start_time": "2024-03-02T12:56:39.069008",
     "status": "completed"
    },
    "tags": []
   },
   "outputs": [],
   "source": [
    "# baseline_test_pred = baseline.predict(X_test_scl.drop(['id'], axis=1))\n",
    "# baseline_test_f1 = f1_score(y_test, baseline_test_pred)\n",
    "# baseline_test_f1"
   ]
  },
  {
   "cell_type": "code",
   "execution_count": 46,
   "id": "6efadfe6",
   "metadata": {
    "execution": {
     "iopub.execute_input": "2024-03-02T12:56:39.195161Z",
     "iopub.status.busy": "2024-03-02T12:56:39.194113Z",
     "iopub.status.idle": "2024-03-02T12:56:39.199772Z",
     "shell.execute_reply": "2024-03-02T12:56:39.198793Z"
    },
    "papermill": {
     "duration": 0.048233,
     "end_time": "2024-03-02T12:56:39.202670",
     "exception": false,
     "start_time": "2024-03-02T12:56:39.154437",
     "status": "completed"
    },
    "tags": []
   },
   "outputs": [],
   "source": [
    "# X_test_pr = X_test_scl.copy()\n",
    "# X_test_pr['baseline'] = baseline_test_pred\n",
    "# X_test_pr['target'] = y_test.values\n",
    "# X_test_pr.tail()\n",
    "# # X_test_pr['predictions'].sum(), X_test_pr['target'].sum()"
   ]
  },
  {
   "cell_type": "markdown",
   "id": "2c8d55f0",
   "metadata": {
    "papermill": {
     "duration": 0.040356,
     "end_time": "2024-03-02T12:56:39.282991",
     "exception": false,
     "start_time": "2024-03-02T12:56:39.242635",
     "status": "completed"
    },
    "tags": []
   },
   "source": [
    "Случайный лес\n",
    "<br>Предсказания на обучающей выборке"
   ]
  },
  {
   "cell_type": "code",
   "execution_count": 47,
   "id": "a4897c7c",
   "metadata": {
    "execution": {
     "iopub.execute_input": "2024-03-02T12:56:39.360012Z",
     "iopub.status.busy": "2024-03-02T12:56:39.359095Z",
     "iopub.status.idle": "2024-03-02T12:56:39.364621Z",
     "shell.execute_reply": "2024-03-02T12:56:39.363610Z"
    },
    "papermill": {
     "duration": 0.046579,
     "end_time": "2024-03-02T12:56:39.367732",
     "exception": false,
     "start_time": "2024-03-02T12:56:39.321153",
     "status": "completed"
    },
    "tags": []
   },
   "outputs": [],
   "source": [
    "# rfc = RandomForestClassifier(random_state=RANDOM_STATE, class_weight='balanced')\n",
    "# rfc.fit(X_train_scl.drop(['id'], axis=1), y_train)\n",
    "# rfc_pred = rfc.predict(X_train_scl.drop(['id'], axis=1))\n",
    "# rfc_f1 = f1_score(y_train, rfc_pred)\n",
    "# rfc_f1"
   ]
  },
  {
   "cell_type": "markdown",
   "id": "1b76ebd7",
   "metadata": {
    "papermill": {
     "duration": 0.037069,
     "end_time": "2024-03-02T12:56:39.442445",
     "exception": false,
     "start_time": "2024-03-02T12:56:39.405376",
     "status": "completed"
    },
    "tags": []
   },
   "source": [
    "Предсказания на тестовой выборке"
   ]
  },
  {
   "cell_type": "code",
   "execution_count": 48,
   "id": "b384c80b",
   "metadata": {
    "execution": {
     "iopub.execute_input": "2024-03-02T12:56:39.518703Z",
     "iopub.status.busy": "2024-03-02T12:56:39.517770Z",
     "iopub.status.idle": "2024-03-02T12:56:39.523673Z",
     "shell.execute_reply": "2024-03-02T12:56:39.522316Z"
    },
    "papermill": {
     "duration": 0.048674,
     "end_time": "2024-03-02T12:56:39.527297",
     "exception": false,
     "start_time": "2024-03-02T12:56:39.478623",
     "status": "completed"
    },
    "tags": []
   },
   "outputs": [],
   "source": [
    "# rfc_test_pred = rfc.predict(X_test_scl.drop(['id'], axis=1))\n",
    "# rfc_test_f1 = f1_score(y_test, rfc_test_pred)\n",
    "# rfc_test_f1"
   ]
  },
  {
   "cell_type": "code",
   "execution_count": 49,
   "id": "f4433816",
   "metadata": {
    "execution": {
     "iopub.execute_input": "2024-03-02T12:56:39.605053Z",
     "iopub.status.busy": "2024-03-02T12:56:39.604556Z",
     "iopub.status.idle": "2024-03-02T12:56:39.609547Z",
     "shell.execute_reply": "2024-03-02T12:56:39.608286Z"
    },
    "papermill": {
     "duration": 0.046652,
     "end_time": "2024-03-02T12:56:39.612441",
     "exception": false,
     "start_time": "2024-03-02T12:56:39.565789",
     "status": "completed"
    },
    "tags": []
   },
   "outputs": [],
   "source": [
    "# X_test_pr['rfc'] = rfc_test_pred\n",
    "# display(X_test_pr.tail())\n",
    "# X_test_pr['baseline'].sum(), X_test_pr['target'].sum(), X_test_pr['rfc'].sum()"
   ]
  },
  {
   "cell_type": "markdown",
   "id": "b5f26bb2",
   "metadata": {
    "papermill": {
     "duration": 0.037044,
     "end_time": "2024-03-02T12:56:39.686314",
     "exception": false,
     "start_time": "2024-03-02T12:56:39.649270",
     "status": "completed"
    },
    "tags": []
   },
   "source": [
    "## Обучение на полном наборе данных и получение предсказаний покупок"
   ]
  },
  {
   "cell_type": "markdown",
   "id": "87607f7a",
   "metadata": {
    "papermill": {
     "duration": 0.036653,
     "end_time": "2024-03-02T12:56:39.762465",
     "exception": false,
     "start_time": "2024-03-02T12:56:39.725812",
     "status": "completed"
    },
    "tags": []
   },
   "source": [
    "Добавление рандомной даты"
   ]
  },
  {
   "cell_type": "code",
   "execution_count": 50,
   "id": "da5fcc80",
   "metadata": {
    "execution": {
     "iopub.execute_input": "2024-03-02T12:56:39.841472Z",
     "iopub.status.busy": "2024-03-02T12:56:39.840459Z",
     "iopub.status.idle": "2024-03-02T12:56:39.847345Z",
     "shell.execute_reply": "2024-03-02T12:56:39.845809Z"
    },
    "papermill": {
     "duration": 0.050382,
     "end_time": "2024-03-02T12:56:39.850451",
     "exception": false,
     "start_time": "2024-03-02T12:56:39.800069",
     "status": "completed"
    },
    "tags": []
   },
   "outputs": [],
   "source": [
    "# sample_sub['date'] = pd.to_datetime('2020-03-31')\n",
    "# sample_sub.drop(['target'], axis=1, inplace=True)"
   ]
  },
  {
   "cell_type": "markdown",
   "id": "199a1545",
   "metadata": {
    "papermill": {
     "duration": 0.03638,
     "end_time": "2024-03-02T12:56:39.926595",
     "exception": false,
     "start_time": "2024-03-02T12:56:39.890215",
     "status": "completed"
    },
    "tags": []
   },
   "source": [
    "Добавление признака `is_holiday`"
   ]
  },
  {
   "cell_type": "code",
   "execution_count": 51,
   "id": "6f41d9fb",
   "metadata": {
    "execution": {
     "iopub.execute_input": "2024-03-02T12:56:40.003281Z",
     "iopub.status.busy": "2024-03-02T12:56:40.002774Z",
     "iopub.status.idle": "2024-03-02T12:56:40.008104Z",
     "shell.execute_reply": "2024-03-02T12:56:40.006701Z"
    },
    "papermill": {
     "duration": 0.046542,
     "end_time": "2024-03-02T12:56:40.011156",
     "exception": false,
     "start_time": "2024-03-02T12:56:39.964614",
     "status": "completed"
    },
    "tags": []
   },
   "outputs": [],
   "source": [
    "# sample_sub['is_holiday'] = sample_sub['date'].isin(holidays['date']).astype('int8')"
   ]
  },
  {
   "cell_type": "markdown",
   "id": "58956ab9",
   "metadata": {
    "papermill": {
     "duration": 0.037386,
     "end_time": "2024-03-02T12:56:40.085587",
     "exception": false,
     "start_time": "2024-03-02T12:56:40.048201",
     "status": "completed"
    },
    "tags": []
   },
   "source": [
    "Удаление всех записей, кроме самых последних `id`"
   ]
  },
  {
   "cell_type": "code",
   "execution_count": 52,
   "id": "94c27825",
   "metadata": {
    "execution": {
     "iopub.execute_input": "2024-03-02T12:56:40.164946Z",
     "iopub.status.busy": "2024-03-02T12:56:40.164474Z",
     "iopub.status.idle": "2024-03-02T12:56:40.169609Z",
     "shell.execute_reply": "2024-03-02T12:56:40.168232Z"
    },
    "papermill": {
     "duration": 0.047233,
     "end_time": "2024-03-02T12:56:40.172351",
     "exception": false,
     "start_time": "2024-03-02T12:56:40.125118",
     "status": "completed"
    },
    "tags": []
   },
   "outputs": [],
   "source": [
    "# df_unique_last = X.drop_duplicates(subset='id', keep='last')\n",
    "# sample_sub = sample_sub.merge(df_unique_last[['id', 'client_cum_sum_120']], how='left', on='id')\n",
    "# sample_sub.set_index('date', inplace=True)\n",
    "# sample_sub.sort_index(inplace=True)"
   ]
  },
  {
   "cell_type": "markdown",
   "id": "aae1d56d",
   "metadata": {
    "papermill": {
     "duration": 0.035811,
     "end_time": "2024-03-02T12:56:40.247296",
     "exception": false,
     "start_time": "2024-03-02T12:56:40.211485",
     "status": "completed"
    },
    "tags": []
   },
   "source": [
    "Масштабирование данных"
   ]
  },
  {
   "cell_type": "code",
   "execution_count": 53,
   "id": "88bb71c0",
   "metadata": {
    "execution": {
     "iopub.execute_input": "2024-03-02T12:56:40.328115Z",
     "iopub.status.busy": "2024-03-02T12:56:40.327269Z",
     "iopub.status.idle": "2024-03-02T12:56:40.332203Z",
     "shell.execute_reply": "2024-03-02T12:56:40.331235Z"
    },
    "papermill": {
     "duration": 0.048479,
     "end_time": "2024-03-02T12:56:40.334941",
     "exception": false,
     "start_time": "2024-03-02T12:56:40.286462",
     "status": "completed"
    },
    "tags": []
   },
   "outputs": [],
   "source": [
    "# X_scl = (pd.DataFrame(scaler.fit_transform(X.drop(['id'], axis=1)),\n",
    "#                       columns=X.drop(['id'], axis=1).columns,\n",
    "#                       index=X.drop(['id'], axis=1).index))\n",
    "# X_scl = pd.concat([X_scl, X['id']], axis=1)\n",
    "# X_sub_scl = (pd.DataFrame(scaler.transform(sample_sub[['client_cum_sum_120', 'is_holiday']]),\n",
    "#                           columns=sample_sub[['client_cum_sum_120', 'is_holiday']].columns,\n",
    "#                           index=sample_sub[['client_cum_sum_120', 'is_holiday']].index))\n",
    "# X_sub_scl = pd.concat([X_sub_scl, sample_sub['id']], axis=1)\n",
    "\n",
    "# X_scl.shape, X_sub_scl.shape"
   ]
  },
  {
   "cell_type": "markdown",
   "id": "ed62b6b6",
   "metadata": {
    "papermill": {
     "duration": 0.038102,
     "end_time": "2024-03-02T12:56:40.411703",
     "exception": false,
     "start_time": "2024-03-02T12:56:40.373601",
     "status": "completed"
    },
    "tags": []
   },
   "source": [
    "Обучение модели"
   ]
  },
  {
   "cell_type": "code",
   "execution_count": 54,
   "id": "3be43202",
   "metadata": {
    "execution": {
     "iopub.execute_input": "2024-03-02T12:56:40.490292Z",
     "iopub.status.busy": "2024-03-02T12:56:40.489487Z",
     "iopub.status.idle": "2024-03-02T12:56:40.493967Z",
     "shell.execute_reply": "2024-03-02T12:56:40.493023Z"
    },
    "papermill": {
     "duration": 0.047523,
     "end_time": "2024-03-02T12:56:40.496465",
     "exception": false,
     "start_time": "2024-03-02T12:56:40.448942",
     "status": "completed"
    },
    "tags": []
   },
   "outputs": [],
   "source": [
    "# rfc = RandomForestClassifier(random_state=RANDOM_STATE, class_weight='balanced')\n",
    "# rfc.fit(X_scl.drop(['id'], axis=1), y)\n",
    "# rfc_pred_big = rfc.predict(X_scl.drop(['id'], axis=1))\n",
    "# rfc_big_f1 = f1_score(y, rfc_pred_big)\n",
    "# rfc_big_f1"
   ]
  },
  {
   "cell_type": "markdown",
   "id": "19624a42",
   "metadata": {
    "papermill": {
     "duration": 0.038086,
     "end_time": "2024-03-02T12:56:40.574805",
     "exception": false,
     "start_time": "2024-03-02T12:56:40.536719",
     "status": "completed"
    },
    "tags": []
   },
   "source": [
    "Предсказания для отправки"
   ]
  },
  {
   "cell_type": "code",
   "execution_count": 55,
   "id": "e5518d28",
   "metadata": {
    "execution": {
     "iopub.execute_input": "2024-03-02T12:56:40.651736Z",
     "iopub.status.busy": "2024-03-02T12:56:40.651282Z",
     "iopub.status.idle": "2024-03-02T12:56:40.657669Z",
     "shell.execute_reply": "2024-03-02T12:56:40.655954Z"
    },
    "papermill": {
     "duration": 0.047574,
     "end_time": "2024-03-02T12:56:40.660418",
     "exception": false,
     "start_time": "2024-03-02T12:56:40.612844",
     "status": "completed"
    },
    "tags": []
   },
   "outputs": [],
   "source": [
    "# X_sub_scl"
   ]
  },
  {
   "cell_type": "code",
   "execution_count": 56,
   "id": "f0af0fca",
   "metadata": {
    "execution": {
     "iopub.execute_input": "2024-03-02T12:56:40.739430Z",
     "iopub.status.busy": "2024-03-02T12:56:40.738952Z",
     "iopub.status.idle": "2024-03-02T12:56:40.744746Z",
     "shell.execute_reply": "2024-03-02T12:56:40.743238Z"
    },
    "papermill": {
     "duration": 0.049694,
     "end_time": "2024-03-02T12:56:40.748135",
     "exception": false,
     "start_time": "2024-03-02T12:56:40.698441",
     "status": "completed"
    },
    "tags": []
   },
   "outputs": [],
   "source": [
    "# rfc_sub_pred = rfc.predict(X_sub_scl.drop(['id'], axis=1))\n",
    "# submission = X_sub_scl.copy()\n",
    "# submission['target'] = rfc_sub_pred"
   ]
  },
  {
   "cell_type": "code",
   "execution_count": 57,
   "id": "1ef07cc7",
   "metadata": {
    "execution": {
     "iopub.execute_input": "2024-03-02T12:56:40.826324Z",
     "iopub.status.busy": "2024-03-02T12:56:40.825561Z",
     "iopub.status.idle": "2024-03-02T12:56:40.831007Z",
     "shell.execute_reply": "2024-03-02T12:56:40.829657Z"
    },
    "papermill": {
     "duration": 0.049309,
     "end_time": "2024-03-02T12:56:40.833724",
     "exception": false,
     "start_time": "2024-03-02T12:56:40.784415",
     "status": "completed"
    },
    "tags": []
   },
   "outputs": [],
   "source": [
    "# submission.drop(['client_cum_sum_120', 'is_holiday'], axis=1, inplace=True)\n",
    "# submission.reset_index(drop=True, inplace=True)\n",
    "# submission.head()"
   ]
  },
  {
   "cell_type": "code",
   "execution_count": 58,
   "id": "f0aed690",
   "metadata": {
    "execution": {
     "iopub.execute_input": "2024-03-02T12:56:40.912552Z",
     "iopub.status.busy": "2024-03-02T12:56:40.912117Z",
     "iopub.status.idle": "2024-03-02T12:56:40.917441Z",
     "shell.execute_reply": "2024-03-02T12:56:40.915941Z"
    },
    "papermill": {
     "duration": 0.049585,
     "end_time": "2024-03-02T12:56:40.920372",
     "exception": false,
     "start_time": "2024-03-02T12:56:40.870787",
     "status": "completed"
    },
    "tags": []
   },
   "outputs": [],
   "source": [
    "# submission.to_csv('submission.csv', index=False)\n",
    "# print('submission.csv сохранён')"
   ]
  }
 ],
 "metadata": {
  "kaggle": {
   "accelerator": "none",
   "dataSources": [
    {
     "databundleVersionId": 2344227,
     "sourceId": 29296,
     "sourceType": "competition"
    },
    {
     "datasetId": 4522233,
     "sourceId": 7737620,
     "sourceType": "datasetVersion"
    }
   ],
   "dockerImageVersionId": 30646,
   "isGpuEnabled": false,
   "isInternetEnabled": true,
   "language": "python",
   "sourceType": "notebook"
  },
  "kernelspec": {
   "display_name": "Python 3",
   "language": "python",
   "name": "python3"
  },
  "language_info": {
   "codemirror_mode": {
    "name": "ipython",
    "version": 3
   },
   "file_extension": ".py",
   "mimetype": "text/x-python",
   "name": "python",
   "nbconvert_exporter": "python",
   "pygments_lexer": "ipython3",
   "version": "3.10.13"
  },
  "papermill": {
   "default_parameters": {},
   "duration": 99.363192,
   "end_time": "2024-03-02T12:56:43.583583",
   "environment_variables": {},
   "exception": null,
   "input_path": "__notebook__.ipynb",
   "output_path": "__notebook__.ipynb",
   "parameters": {},
   "start_time": "2024-03-02T12:55:04.220391",
   "version": "2.5.0"
  }
 },
 "nbformat": 4,
 "nbformat_minor": 5
}
