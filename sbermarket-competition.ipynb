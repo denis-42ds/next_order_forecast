{
 "cells": [
  {
   "cell_type": "markdown",
   "id": "b35768e0",
   "metadata": {
    "papermill": {
     "duration": 0.021204,
     "end_time": "2024-02-27T18:16:35.248628",
     "exception": false,
     "start_time": "2024-02-27T18:16:35.227424",
     "status": "completed"
    },
    "tags": []
   },
   "source": [
    "# Построение ML-продукта для предсказания следующего заказа пользователя\n",
    "\n",
    "- **Описание**\n",
    "<br>Сервисы доставки еды уже давно перестали быть просто курьерами, которые привозят заказ. Индустрия e-grocery стремительно идет к аккумулированию и использованию больших данных, чтобы знать о своих пользователях больше и предоставлять более качественные и персонализированные услуги. Одним из шагов к такой персонализации может быть разработка модели, которая понимает привычки и нужды пользователя, и, к примеру, может угадать, что и когда пользователь захочет заказать в следующий раз.\n",
    "\n",
    "Такая модель, будучи разработанной, может принести значительную ценность для клиента - сэкономить время при сборке корзины, помочь ничего не забыть в заказе, убрать необходимость планировать закупки и следить за заканчивающимися запасами продуктов.\n",
    "\n",
    "В данном соревновании участникам предлагается решить задачу предсказания следующего заказа пользователя (безотносительно конкретного момента времени, когда этот заказ произойдет). Заказ пользователя состоит из списка уникальных категорий товаров, вне зависимости от того, сколько продуктов каждой категории он взял.\n",
    "\n",
    "- **Метрика Заказчика: F1-score**\n",
    "\n",
    "- **Описание данных**\n",
    "<br>В качестве тренировочных данных представляется датасет с историей заказов 20000 пользователей вплоть до даты отсечки, которая разделяет тренировочные и тестовые данные по времени.\n",
    "\n",
    "train.csv:\n",
    "- user_id - уникальный id пользователя\n",
    "- order_completed_at - дата заказа\n",
    "- cart - список уникальных категорий (category_id), из которых состоял заказ\n",
    "<br>В качестве прогноза необходимо для каждой пары пользователь-категория из примера сабмита вернуть 1, если категория будет присутствовать в следующем заказе пользователя, или 0 в ином случае. Список категорий для каждого пользователя примере сабмита - это все категории, которые он когда-либо заказывал.\n",
    "\n",
    "sample_submission.csv:\n",
    "Пример сабмита. В тест входят не все пользователи из тренировочных данных, так как некоторые из них так ничего и не заказали после даты отсечки.\n",
    "\n",
    "- id - идентификатор строки - состоит из user_id и category_id, разделенных точкой с запятой: f'{user_id};{category_id}'. Из-за особенностей проверяющей системы Kaggle InClass, использовать колонки user_id, category_id в качестве индекса отдельно невозможно\n",
    "- target - 1 или 0 - будет ли данная категория присутствовать в следующем заказе пользователя\n",
    "\n",
    "<br>План\n",
    "- знакомство с данными\n",
    "- чистка, первичная обработка\n",
    "- исследовательский анализ данных\n",
    "- разделение на выборки\n",
    "- обучение моделей\n",
    "- выбор лучшей модели\n",
    "- тестирование моделей (тестовая выборка - 1 год)\n",
    "- построение прогноза (период выбран годовой, с удалением повторных входов id)"
   ]
  },
  {
   "cell_type": "markdown",
   "id": "c5912839",
   "metadata": {
    "papermill": {
     "duration": 0.019908,
     "end_time": "2024-02-27T18:16:35.288952",
     "exception": false,
     "start_time": "2024-02-27T18:16:35.269044",
     "status": "completed"
    },
    "tags": []
   },
   "source": [
    "## Настройка рабочей среды"
   ]
  },
  {
   "cell_type": "code",
   "execution_count": 1,
   "id": "0c032369",
   "metadata": {
    "execution": {
     "iopub.execute_input": "2024-02-27T18:16:35.333356Z",
     "iopub.status.busy": "2024-02-27T18:16:35.332571Z",
     "iopub.status.idle": "2024-02-27T18:16:40.760719Z",
     "shell.execute_reply": "2024-02-27T18:16:40.759663Z"
    },
    "papermill": {
     "duration": 5.454031,
     "end_time": "2024-02-27T18:16:40.763502",
     "exception": false,
     "start_time": "2024-02-27T18:16:35.309471",
     "status": "completed"
    },
    "tags": []
   },
   "outputs": [],
   "source": [
    "import numpy as np\n",
    "import pandas as pd\n",
    "import seaborn as sns\n",
    "import matplotlib.pyplot as plt\n",
    "\n",
    "from prophet import Prophet\n",
    "from sklearn.metrics import f1_score\n",
    "from kaggle_secrets import UserSecretsClient\n",
    "from sklearn.preprocessing import StandardScaler\n",
    "from sklearn.ensemble import RandomForestClassifier\n",
    "from sklearn.linear_model import LogisticRegression\n",
    "from statsmodels.tsa.seasonal import seasonal_decompose\n",
    "# from sklearn.model_selection import GridSearchCV, TimeSeriesSplit"
   ]
  },
  {
   "cell_type": "markdown",
   "id": "d02a4022",
   "metadata": {
    "papermill": {
     "duration": 0.020195,
     "end_time": "2024-02-27T18:16:40.804758",
     "exception": false,
     "start_time": "2024-02-27T18:16:40.784563",
     "status": "completed"
    },
    "tags": []
   },
   "source": [
    "Установка констант"
   ]
  },
  {
   "cell_type": "code",
   "execution_count": 2,
   "id": "647886af",
   "metadata": {
    "execution": {
     "iopub.execute_input": "2024-02-27T18:16:40.849077Z",
     "iopub.status.busy": "2024-02-27T18:16:40.847649Z",
     "iopub.status.idle": "2024-02-27T18:16:40.853723Z",
     "shell.execute_reply": "2024-02-27T18:16:40.852550Z"
    },
    "papermill": {
     "duration": 0.031407,
     "end_time": "2024-02-27T18:16:40.856662",
     "exception": false,
     "start_time": "2024-02-27T18:16:40.825255",
     "status": "completed"
    },
    "tags": []
   },
   "outputs": [],
   "source": [
    "RANDOM_STATE=42\n",
    "PRED = 30  # PRED = 120"
   ]
  },
  {
   "cell_type": "markdown",
   "id": "1027eee7",
   "metadata": {
    "papermill": {
     "duration": 0.020828,
     "end_time": "2024-02-27T18:16:40.898566",
     "exception": false,
     "start_time": "2024-02-27T18:16:40.877738",
     "status": "completed"
    },
    "tags": []
   },
   "source": [
    "## Загрузка и первичный EDA"
   ]
  },
  {
   "cell_type": "code",
   "execution_count": 3,
   "id": "c6118450",
   "metadata": {
    "execution": {
     "iopub.execute_input": "2024-02-27T18:16:40.941966Z",
     "iopub.status.busy": "2024-02-27T18:16:40.941577Z",
     "iopub.status.idle": "2024-02-27T18:16:45.617864Z",
     "shell.execute_reply": "2024-02-27T18:16:45.616119Z"
    },
    "papermill": {
     "duration": 4.701947,
     "end_time": "2024-02-27T18:16:45.621223",
     "exception": false,
     "start_time": "2024-02-27T18:16:40.919276",
     "status": "completed"
    },
    "tags": []
   },
   "outputs": [
    {
     "name": "stdout",
     "output_type": "stream",
     "text": [
      "загружено из каталога Kaggle\n"
     ]
    }
   ],
   "source": [
    "try:\n",
    "    df = pd.read_csv(UserSecretsClient().get_secret(\"train_path\"), parse_dates=['order_completed_at'])\n",
    "    sample_sub = pd.read_csv(UserSecretsClient().get_secret(\"sample_submission_path\"))\n",
    "    print('загружено из каталога Kaggle')\n",
    "except:\n",
    "    df = pd.read_csv('data/train.csv')\n",
    "    sample_sub = pd.read_csv('data/sample_submission.csv')\n",
    "    print('загружено из каталога \"data\"')"
   ]
  },
  {
   "cell_type": "markdown",
   "id": "fac3fd61",
   "metadata": {
    "papermill": {
     "duration": 0.02172,
     "end_time": "2024-02-27T18:16:45.664497",
     "exception": false,
     "start_time": "2024-02-27T18:16:45.642777",
     "status": "completed"
    },
    "tags": []
   },
   "source": [
    "### Импорт выходных и праздничных дней\n",
    "<br>Загружено с сайта [xmlcalendar](https://xmlcalendar.ru/)"
   ]
  },
  {
   "cell_type": "code",
   "execution_count": 4,
   "id": "f00ed8a6",
   "metadata": {
    "execution": {
     "iopub.execute_input": "2024-02-27T18:16:45.710653Z",
     "iopub.status.busy": "2024-02-27T18:16:45.709261Z",
     "iopub.status.idle": "2024-02-27T18:17:07.902689Z",
     "shell.execute_reply": "2024-02-27T18:17:07.900648Z"
    },
    "papermill": {
     "duration": 22.221799,
     "end_time": "2024-02-27T18:17:07.907497",
     "exception": false,
     "start_time": "2024-02-27T18:16:45.685698",
     "status": "completed"
    },
    "tags": []
   },
   "outputs": [
    {
     "name": "stdout",
     "output_type": "stream",
     "text": [
      "данные успешно загружены\n"
     ]
    }
   ],
   "source": [
    "years = [2015, 2016, 2017, 2018, 2019, 2020]\n",
    "holidays_dict = {}\n",
    "\n",
    "for year in years:\n",
    "    url = f\"https://xmlcalendar.ru/data/ru/{year}/calendar.csv\"\n",
    "    holidays_dict[f'{year}'] = pd.read_csv(url)\n",
    "print('данные успешно загружены')"
   ]
  },
  {
   "cell_type": "code",
   "execution_count": 5,
   "id": "284990ca",
   "metadata": {
    "execution": {
     "iopub.execute_input": "2024-02-27T18:17:07.972308Z",
     "iopub.status.busy": "2024-02-27T18:17:07.971449Z",
     "iopub.status.idle": "2024-02-27T18:17:07.980541Z",
     "shell.execute_reply": "2024-02-27T18:17:07.979535Z"
    },
    "papermill": {
     "duration": 0.0454,
     "end_time": "2024-02-27T18:17:07.983548",
     "exception": false,
     "start_time": "2024-02-27T18:17:07.938148",
     "status": "completed"
    },
    "tags": []
   },
   "outputs": [],
   "source": [
    "def date_preparation(data, year):\n",
    "    '''\n",
    "    - на вход принимает датасет с праздниками и год этого датасета\n",
    "    - возвращает обработанный датасет\n",
    "    '''\n",
    "    data = data.reset_index(drop=True).T[:13]\n",
    "    data = data.set_axis(data.iloc[0], axis=1)[1:]\n",
    "    data.insert(0, 'month', range(1, len(data) + 1))\n",
    "    data.insert(0, 'year', year)\n",
    "    data = data.replace(['\\+', '\\*'], '', regex=True)\n",
    "    data[year] = data[year].str.split(',')\n",
    "    data = data.explode(year)\n",
    "    data = data.rename(columns={year: 'day'})\n",
    "    data['date'] = pd.to_datetime(data[['year', 'month', 'day']])\n",
    "    \n",
    "    return data"
   ]
  },
  {
   "cell_type": "code",
   "execution_count": 6,
   "id": "7ecb4b62",
   "metadata": {
    "execution": {
     "iopub.execute_input": "2024-02-27T18:17:08.033094Z",
     "iopub.status.busy": "2024-02-27T18:17:08.032302Z",
     "iopub.status.idle": "2024-02-27T18:17:08.145829Z",
     "shell.execute_reply": "2024-02-27T18:17:08.144411Z"
    },
    "papermill": {
     "duration": 0.141415,
     "end_time": "2024-02-27T18:17:08.149064",
     "exception": false,
     "start_time": "2024-02-27T18:17:08.007649",
     "status": "completed"
    },
    "tags": []
   },
   "outputs": [
    {
     "data": {
      "text/html": [
       "<div>\n",
       "<style scoped>\n",
       "    .dataframe tbody tr th:only-of-type {\n",
       "        vertical-align: middle;\n",
       "    }\n",
       "\n",
       "    .dataframe tbody tr th {\n",
       "        vertical-align: top;\n",
       "    }\n",
       "\n",
       "    .dataframe thead th {\n",
       "        text-align: right;\n",
       "    }\n",
       "</style>\n",
       "<table border=\"1\" class=\"dataframe\">\n",
       "  <thead>\n",
       "    <tr style=\"text-align: right;\">\n",
       "      <th>Год/Месяц</th>\n",
       "      <th>year</th>\n",
       "      <th>month</th>\n",
       "      <th>day</th>\n",
       "      <th>date</th>\n",
       "    </tr>\n",
       "  </thead>\n",
       "  <tbody>\n",
       "    <tr>\n",
       "      <th>315</th>\n",
       "      <td>2017</td>\n",
       "      <td>7</td>\n",
       "      <td>22</td>\n",
       "      <td>2017-07-22</td>\n",
       "    </tr>\n",
       "    <tr>\n",
       "      <th>753</th>\n",
       "      <td>2020</td>\n",
       "      <td>11</td>\n",
       "      <td>29</td>\n",
       "      <td>2020-11-29</td>\n",
       "    </tr>\n",
       "    <tr>\n",
       "      <th>685</th>\n",
       "      <td>2020</td>\n",
       "      <td>5</td>\n",
       "      <td>7</td>\n",
       "      <td>2020-05-07</td>\n",
       "    </tr>\n",
       "    <tr>\n",
       "      <th>654</th>\n",
       "      <td>2020</td>\n",
       "      <td>4</td>\n",
       "      <td>6</td>\n",
       "      <td>2020-04-06</td>\n",
       "    </tr>\n",
       "    <tr>\n",
       "      <th>590</th>\n",
       "      <td>2019</td>\n",
       "      <td>10</td>\n",
       "      <td>20</td>\n",
       "      <td>2019-10-20</td>\n",
       "    </tr>\n",
       "  </tbody>\n",
       "</table>\n",
       "</div>"
      ],
      "text/plain": [
       "Год/Месяц  year  month day       date\n",
       "315        2017      7  22 2017-07-22\n",
       "753        2020     11  29 2020-11-29\n",
       "685        2020      5   7 2020-05-07\n",
       "654        2020      4   6 2020-04-06\n",
       "590        2019     10  20 2019-10-20"
      ]
     },
     "execution_count": 6,
     "metadata": {},
     "output_type": "execute_result"
    }
   ],
   "source": [
    "holidays = pd.DataFrame()\n",
    "\n",
    "for year, year_str in zip(years, holidays_dict.keys()):\n",
    "    holidays_year = date_preparation(holidays_dict[year_str], year)\n",
    "    holidays = pd.concat([holidays, holidays_year], ignore_index=True)\n",
    "\n",
    "holidays.sample(5)"
   ]
  },
  {
   "cell_type": "markdown",
   "id": "367141a6",
   "metadata": {
    "papermill": {
     "duration": 0.02356,
     "end_time": "2024-02-27T18:17:08.196369",
     "exception": false,
     "start_time": "2024-02-27T18:17:08.172809",
     "status": "completed"
    },
    "tags": []
   },
   "source": [
    "### Исследование основного датафрейма"
   ]
  },
  {
   "cell_type": "code",
   "execution_count": 7,
   "id": "4d5d5299",
   "metadata": {
    "execution": {
     "iopub.execute_input": "2024-02-27T18:17:08.241937Z",
     "iopub.status.busy": "2024-02-27T18:17:08.241456Z",
     "iopub.status.idle": "2024-02-27T18:17:08.473866Z",
     "shell.execute_reply": "2024-02-27T18:17:08.472252Z"
    },
    "papermill": {
     "duration": 0.259199,
     "end_time": "2024-02-27T18:17:08.477367",
     "exception": false,
     "start_time": "2024-02-27T18:17:08.218168",
     "status": "completed"
    },
    "tags": []
   },
   "outputs": [
    {
     "name": "stdout",
     "output_type": "stream",
     "text": [
      "<class 'pandas.core.frame.DataFrame'>\n",
      "RangeIndex: 3123064 entries, 0 to 3123063\n",
      "Data columns (total 3 columns):\n",
      " #   Column              Dtype         \n",
      "---  ------              -----         \n",
      " 0   user_id             int64         \n",
      " 1   order_completed_at  datetime64[ns]\n",
      " 2   cart                int64         \n",
      "dtypes: datetime64[ns](1), int64(2)\n",
      "memory usage: 71.5 MB\n"
     ]
    },
    {
     "data": {
      "text/html": [
       "<div>\n",
       "<style scoped>\n",
       "    .dataframe tbody tr th:only-of-type {\n",
       "        vertical-align: middle;\n",
       "    }\n",
       "\n",
       "    .dataframe tbody tr th {\n",
       "        vertical-align: top;\n",
       "    }\n",
       "\n",
       "    .dataframe thead th {\n",
       "        text-align: right;\n",
       "    }\n",
       "</style>\n",
       "<table border=\"1\" class=\"dataframe\">\n",
       "  <thead>\n",
       "    <tr style=\"text-align: right;\">\n",
       "      <th></th>\n",
       "      <th>user_id</th>\n",
       "      <th>order_completed_at</th>\n",
       "      <th>cart</th>\n",
       "    </tr>\n",
       "  </thead>\n",
       "  <tbody>\n",
       "    <tr>\n",
       "      <th>984433</th>\n",
       "      <td>3813</td>\n",
       "      <td>2020-03-13 12:51:36</td>\n",
       "      <td>57</td>\n",
       "    </tr>\n",
       "    <tr>\n",
       "      <th>1751985</th>\n",
       "      <td>4944</td>\n",
       "      <td>2020-06-04 01:55:21</td>\n",
       "      <td>22</td>\n",
       "    </tr>\n",
       "    <tr>\n",
       "      <th>1967361</th>\n",
       "      <td>15331</td>\n",
       "      <td>2020-06-18 10:22:03</td>\n",
       "      <td>57</td>\n",
       "    </tr>\n",
       "    <tr>\n",
       "      <th>1415474</th>\n",
       "      <td>1942</td>\n",
       "      <td>2020-05-05 17:13:55</td>\n",
       "      <td>10</td>\n",
       "    </tr>\n",
       "    <tr>\n",
       "      <th>122129</th>\n",
       "      <td>1519</td>\n",
       "      <td>2019-08-04 18:20:16</td>\n",
       "      <td>87</td>\n",
       "    </tr>\n",
       "  </tbody>\n",
       "</table>\n",
       "</div>"
      ],
      "text/plain": [
       "         user_id  order_completed_at  cart\n",
       "984433      3813 2020-03-13 12:51:36    57\n",
       "1751985     4944 2020-06-04 01:55:21    22\n",
       "1967361    15331 2020-06-18 10:22:03    57\n",
       "1415474     1942 2020-05-05 17:13:55    10\n",
       "122129      1519 2019-08-04 18:20:16    87"
      ]
     },
     "execution_count": 7,
     "metadata": {},
     "output_type": "execute_result"
    }
   ],
   "source": [
    "df.info()\n",
    "df.sample(5)"
   ]
  },
  {
   "cell_type": "code",
   "execution_count": 8,
   "id": "dea368a8",
   "metadata": {
    "execution": {
     "iopub.execute_input": "2024-02-27T18:17:08.527540Z",
     "iopub.status.busy": "2024-02-27T18:17:08.527017Z",
     "iopub.status.idle": "2024-02-27T18:17:09.051837Z",
     "shell.execute_reply": "2024-02-27T18:17:09.050497Z"
    },
    "papermill": {
     "duration": 0.552953,
     "end_time": "2024-02-27T18:17:09.054402",
     "exception": false,
     "start_time": "2024-02-27T18:17:08.501449",
     "status": "completed"
    },
    "tags": []
   },
   "outputs": [
    {
     "name": "stdout",
     "output_type": "stream",
     "text": [
      "количество полных дубликатов строк: 0\n"
     ]
    }
   ],
   "source": [
    "print(f\"количество полных дубликатов строк: {df.duplicated().sum()}\")"
   ]
  },
  {
   "cell_type": "code",
   "execution_count": 9,
   "id": "7524144d",
   "metadata": {
    "execution": {
     "iopub.execute_input": "2024-02-27T18:17:09.099089Z",
     "iopub.status.busy": "2024-02-27T18:17:09.098571Z",
     "iopub.status.idle": "2024-02-27T18:17:09.121710Z",
     "shell.execute_reply": "2024-02-27T18:17:09.120176Z"
    },
    "papermill": {
     "duration": 0.048774,
     "end_time": "2024-02-27T18:17:09.124517",
     "exception": false,
     "start_time": "2024-02-27T18:17:09.075743",
     "status": "completed"
    },
    "tags": []
   },
   "outputs": [
    {
     "name": "stdout",
     "output_type": "stream",
     "text": [
      "начальная дата наблюдений: 2015-03-22 09:25:46\n",
      "конечная дата наблюдений: 2020-09-03 23:45:45\n"
     ]
    }
   ],
   "source": [
    "print(f\"начальная дата наблюдений: {df['order_completed_at'].min()}\")\n",
    "print(f\"конечная дата наблюдений: {df['order_completed_at'].max()}\")"
   ]
  },
  {
   "cell_type": "code",
   "execution_count": 10,
   "id": "e98bf0e7",
   "metadata": {
    "execution": {
     "iopub.execute_input": "2024-02-27T18:17:09.171097Z",
     "iopub.status.busy": "2024-02-27T18:17:09.170016Z",
     "iopub.status.idle": "2024-02-27T18:17:09.588263Z",
     "shell.execute_reply": "2024-02-27T18:17:09.587031Z"
    },
    "papermill": {
     "duration": 0.444487,
     "end_time": "2024-02-27T18:17:09.590864",
     "exception": false,
     "start_time": "2024-02-27T18:17:09.146377",
     "status": "completed"
    },
    "tags": []
   },
   "outputs": [
    {
     "name": "stdout",
     "output_type": "stream",
     "text": [
      "<class 'pandas.core.frame.DataFrame'>\n",
      "RangeIndex: 790449 entries, 0 to 790448\n",
      "Data columns (total 2 columns):\n",
      " #   Column  Non-Null Count   Dtype \n",
      "---  ------  --------------   ----- \n",
      " 0   id      790449 non-null  object\n",
      " 1   target  790449 non-null  int64 \n",
      "dtypes: int64(1), object(1)\n",
      "memory usage: 12.1+ MB\n"
     ]
    },
    {
     "data": {
      "text/html": [
       "<div>\n",
       "<style scoped>\n",
       "    .dataframe tbody tr th:only-of-type {\n",
       "        vertical-align: middle;\n",
       "    }\n",
       "\n",
       "    .dataframe tbody tr th {\n",
       "        vertical-align: top;\n",
       "    }\n",
       "\n",
       "    .dataframe thead th {\n",
       "        text-align: right;\n",
       "    }\n",
       "</style>\n",
       "<table border=\"1\" class=\"dataframe\">\n",
       "  <thead>\n",
       "    <tr style=\"text-align: right;\">\n",
       "      <th></th>\n",
       "      <th>id</th>\n",
       "      <th>target</th>\n",
       "    </tr>\n",
       "  </thead>\n",
       "  <tbody>\n",
       "    <tr>\n",
       "      <th>0</th>\n",
       "      <td>0;133</td>\n",
       "      <td>0</td>\n",
       "    </tr>\n",
       "    <tr>\n",
       "      <th>1</th>\n",
       "      <td>0;5</td>\n",
       "      <td>1</td>\n",
       "    </tr>\n",
       "    <tr>\n",
       "      <th>2</th>\n",
       "      <td>0;10</td>\n",
       "      <td>0</td>\n",
       "    </tr>\n",
       "    <tr>\n",
       "      <th>3</th>\n",
       "      <td>0;396</td>\n",
       "      <td>1</td>\n",
       "    </tr>\n",
       "    <tr>\n",
       "      <th>4</th>\n",
       "      <td>0;14</td>\n",
       "      <td>0</td>\n",
       "    </tr>\n",
       "  </tbody>\n",
       "</table>\n",
       "</div>"
      ],
      "text/plain": [
       "      id  target\n",
       "0  0;133       0\n",
       "1    0;5       1\n",
       "2   0;10       0\n",
       "3  0;396       1\n",
       "4   0;14       0"
      ]
     },
     "metadata": {},
     "output_type": "display_data"
    },
    {
     "name": "stdout",
     "output_type": "stream",
     "text": [
      "количество уникальных сочетаний id: 790449\n"
     ]
    }
   ],
   "source": [
    "sample_sub.info()\n",
    "display(sample_sub.head())\n",
    "print(f\"количество уникальных сочетаний id: {sample_sub['id'].nunique()}\")"
   ]
  },
  {
   "cell_type": "code",
   "execution_count": 11,
   "id": "804393d2",
   "metadata": {
    "execution": {
     "iopub.execute_input": "2024-02-27T18:17:09.637090Z",
     "iopub.status.busy": "2024-02-27T18:17:09.636316Z",
     "iopub.status.idle": "2024-02-27T18:17:09.658581Z",
     "shell.execute_reply": "2024-02-27T18:17:09.657723Z"
    },
    "papermill": {
     "duration": 0.048425,
     "end_time": "2024-02-27T18:17:09.661229",
     "exception": false,
     "start_time": "2024-02-27T18:17:09.612804",
     "status": "completed"
    },
    "tags": []
   },
   "outputs": [
    {
     "data": {
      "text/html": [
       "<div>\n",
       "<style scoped>\n",
       "    .dataframe tbody tr th:only-of-type {\n",
       "        vertical-align: middle;\n",
       "    }\n",
       "\n",
       "    .dataframe tbody tr th {\n",
       "        vertical-align: top;\n",
       "    }\n",
       "\n",
       "    .dataframe thead th {\n",
       "        text-align: right;\n",
       "    }\n",
       "</style>\n",
       "<table border=\"1\" class=\"dataframe\">\n",
       "  <thead>\n",
       "    <tr style=\"text-align: right;\">\n",
       "      <th></th>\n",
       "      <th>user_id</th>\n",
       "      <th>order_completed_at</th>\n",
       "      <th>cart</th>\n",
       "    </tr>\n",
       "  </thead>\n",
       "  <tbody>\n",
       "    <tr>\n",
       "      <th>14</th>\n",
       "      <td>2</td>\n",
       "      <td>2015-03-22 09:25:46</td>\n",
       "      <td>57</td>\n",
       "    </tr>\n",
       "    <tr>\n",
       "      <th>97</th>\n",
       "      <td>2</td>\n",
       "      <td>2016-05-27 19:21:46</td>\n",
       "      <td>57</td>\n",
       "    </tr>\n",
       "    <tr>\n",
       "      <th>10697</th>\n",
       "      <td>2</td>\n",
       "      <td>2018-01-12 23:36:19</td>\n",
       "      <td>57</td>\n",
       "    </tr>\n",
       "    <tr>\n",
       "      <th>222784</th>\n",
       "      <td>2</td>\n",
       "      <td>2019-10-03 17:37:23</td>\n",
       "      <td>57</td>\n",
       "    </tr>\n",
       "    <tr>\n",
       "      <th>246982</th>\n",
       "      <td>2</td>\n",
       "      <td>2019-10-11 09:05:20</td>\n",
       "      <td>57</td>\n",
       "    </tr>\n",
       "    <tr>\n",
       "      <th>307939</th>\n",
       "      <td>2</td>\n",
       "      <td>2019-10-25 21:05:56</td>\n",
       "      <td>57</td>\n",
       "    </tr>\n",
       "    <tr>\n",
       "      <th>345177</th>\n",
       "      <td>2</td>\n",
       "      <td>2019-11-02 22:00:26</td>\n",
       "      <td>57</td>\n",
       "    </tr>\n",
       "    <tr>\n",
       "      <th>382037</th>\n",
       "      <td>2</td>\n",
       "      <td>2019-11-09 20:45:19</td>\n",
       "      <td>57</td>\n",
       "    </tr>\n",
       "    <tr>\n",
       "      <th>404912</th>\n",
       "      <td>2</td>\n",
       "      <td>2019-11-13 19:05:45</td>\n",
       "      <td>57</td>\n",
       "    </tr>\n",
       "    <tr>\n",
       "      <th>599000</th>\n",
       "      <td>2</td>\n",
       "      <td>2019-12-22 14:57:39</td>\n",
       "      <td>57</td>\n",
       "    </tr>\n",
       "  </tbody>\n",
       "</table>\n",
       "</div>"
      ],
      "text/plain": [
       "        user_id  order_completed_at  cart\n",
       "14            2 2015-03-22 09:25:46    57\n",
       "97            2 2016-05-27 19:21:46    57\n",
       "10697         2 2018-01-12 23:36:19    57\n",
       "222784        2 2019-10-03 17:37:23    57\n",
       "246982        2 2019-10-11 09:05:20    57\n",
       "307939        2 2019-10-25 21:05:56    57\n",
       "345177        2 2019-11-02 22:00:26    57\n",
       "382037        2 2019-11-09 20:45:19    57\n",
       "404912        2 2019-11-13 19:05:45    57\n",
       "599000        2 2019-12-22 14:57:39    57"
      ]
     },
     "execution_count": 11,
     "metadata": {},
     "output_type": "execute_result"
    }
   ],
   "source": [
    "df[(df['user_id'] == 2) & (df['cart'] == 57)]"
   ]
  },
  {
   "cell_type": "markdown",
   "id": "6c1fe4cb",
   "metadata": {
    "papermill": {
     "duration": 0.021467,
     "end_time": "2024-02-27T18:17:09.705715",
     "exception": false,
     "start_time": "2024-02-27T18:17:09.684248",
     "status": "completed"
    },
    "tags": []
   },
   "source": [
    "### Выводы и наблюдения\n",
    "- полных дубликатов строк не обнаружено\n",
    "- данные предоставлены за пять лет: с 22.03.2015 до 03.09.2020\n",
    "- в датафрейме `sample_sub` представлены `id` пользователей с `id` товаров и целевой признак\n",
    "- количество уникальных сочетаний id - 790449"
   ]
  },
  {
   "cell_type": "markdown",
   "id": "11b9d08f",
   "metadata": {
    "papermill": {
     "duration": 0.022434,
     "end_time": "2024-02-27T18:17:09.750092",
     "exception": false,
     "start_time": "2024-02-27T18:17:09.727658",
     "status": "completed"
    },
    "tags": []
   },
   "source": [
    "## Предобработка данных"
   ]
  },
  {
   "cell_type": "markdown",
   "id": "a5884139",
   "metadata": {
    "papermill": {
     "duration": 0.022258,
     "end_time": "2024-02-27T18:17:09.794660",
     "exception": false,
     "start_time": "2024-02-27T18:17:09.772402",
     "status": "completed"
    },
    "tags": []
   },
   "source": [
    "Кумулятивная сумма покупок по клиенту за 120 дней"
   ]
  },
  {
   "cell_type": "code",
   "execution_count": 12,
   "id": "58f034ff",
   "metadata": {
    "execution": {
     "iopub.execute_input": "2024-02-27T18:17:09.841166Z",
     "iopub.status.busy": "2024-02-27T18:17:09.840757Z",
     "iopub.status.idle": "2024-02-27T18:23:46.469524Z",
     "shell.execute_reply": "2024-02-27T18:23:46.468277Z"
    },
    "papermill": {
     "duration": 396.682865,
     "end_time": "2024-02-27T18:23:46.499517",
     "exception": false,
     "start_time": "2024-02-27T18:17:09.816652",
     "status": "completed"
    },
    "tags": []
   },
   "outputs": [
    {
     "data": {
      "text/html": [
       "<div>\n",
       "<style scoped>\n",
       "    .dataframe tbody tr th:only-of-type {\n",
       "        vertical-align: middle;\n",
       "    }\n",
       "\n",
       "    .dataframe tbody tr th {\n",
       "        vertical-align: top;\n",
       "    }\n",
       "\n",
       "    .dataframe thead th {\n",
       "        text-align: right;\n",
       "    }\n",
       "</style>\n",
       "<table border=\"1\" class=\"dataframe\">\n",
       "  <thead>\n",
       "    <tr style=\"text-align: right;\">\n",
       "      <th></th>\n",
       "      <th>user_id</th>\n",
       "      <th>order_completed_at</th>\n",
       "      <th>cart</th>\n",
       "      <th>client_cum_sum_120</th>\n",
       "    </tr>\n",
       "  </thead>\n",
       "  <tbody>\n",
       "    <tr>\n",
       "      <th>2227576</th>\n",
       "      <td>16782</td>\n",
       "      <td>2020-07-06 12:07:04</td>\n",
       "      <td>420</td>\n",
       "      <td>8</td>\n",
       "    </tr>\n",
       "    <tr>\n",
       "      <th>1411380</th>\n",
       "      <td>4462</td>\n",
       "      <td>2020-05-05 11:18:29</td>\n",
       "      <td>57</td>\n",
       "      <td>7</td>\n",
       "    </tr>\n",
       "    <tr>\n",
       "      <th>526975</th>\n",
       "      <td>346</td>\n",
       "      <td>2019-12-07 07:50:07</td>\n",
       "      <td>414</td>\n",
       "      <td>20</td>\n",
       "    </tr>\n",
       "    <tr>\n",
       "      <th>1928460</th>\n",
       "      <td>5199</td>\n",
       "      <td>2020-06-16 12:02:26</td>\n",
       "      <td>403</td>\n",
       "      <td>17</td>\n",
       "    </tr>\n",
       "    <tr>\n",
       "      <th>510070</th>\n",
       "      <td>3092</td>\n",
       "      <td>2019-12-03 16:07:32</td>\n",
       "      <td>26</td>\n",
       "      <td>23</td>\n",
       "    </tr>\n",
       "  </tbody>\n",
       "</table>\n",
       "</div>"
      ],
      "text/plain": [
       "         user_id  order_completed_at  cart  client_cum_sum_120\n",
       "2227576    16782 2020-07-06 12:07:04   420                   8\n",
       "1411380     4462 2020-05-05 11:18:29    57                   7\n",
       "526975       346 2019-12-07 07:50:07   414                  20\n",
       "1928460     5199 2020-06-16 12:02:26   403                  17\n",
       "510070      3092 2019-12-03 16:07:32    26                  23"
      ]
     },
     "execution_count": 12,
     "metadata": {},
     "output_type": "execute_result"
    }
   ],
   "source": [
    "df['client_cum_sum_120'] = 0\n",
    "prev_client_id = None\n",
    "prev_purchase_date = None\n",
    "client_cum_sum_120 = 0\n",
    "\n",
    "for index, row in df.iterrows():\n",
    "    if (prev_client_id == row['user_id'] \n",
    "        and (row['order_completed_at'] - prev_purchase_date).days <= 120):\n",
    "        client_cum_sum_120 += 1\n",
    "    else:\n",
    "        client_cum_sum_120 = 1\n",
    "\n",
    "    df.at[index, 'client_cum_sum_120'] = client_cum_sum_120\n",
    "\n",
    "    prev_client_id = row['user_id']\n",
    "    prev_purchase_date = row['order_completed_at']\n",
    "df.sample(5)"
   ]
  },
  {
   "cell_type": "markdown",
   "id": "503aa235",
   "metadata": {
    "papermill": {
     "duration": 0.02411,
     "end_time": "2024-02-27T18:23:46.553004",
     "exception": false,
     "start_time": "2024-02-27T18:23:46.528894",
     "status": "completed"
    },
    "tags": []
   },
   "source": [
    "Объединение `id` клиента и `id` категории"
   ]
  },
  {
   "cell_type": "code",
   "execution_count": 13,
   "id": "66f20c9b",
   "metadata": {
    "execution": {
     "iopub.execute_input": "2024-02-27T18:23:46.604521Z",
     "iopub.status.busy": "2024-02-27T18:23:46.603488Z",
     "iopub.status.idle": "2024-02-27T18:23:51.838144Z",
     "shell.execute_reply": "2024-02-27T18:23:51.835866Z"
    },
    "papermill": {
     "duration": 5.263197,
     "end_time": "2024-02-27T18:23:51.841091",
     "exception": false,
     "start_time": "2024-02-27T18:23:46.577894",
     "status": "completed"
    },
    "tags": []
   },
   "outputs": [
    {
     "data": {
      "text/html": [
       "<div>\n",
       "<style scoped>\n",
       "    .dataframe tbody tr th:only-of-type {\n",
       "        vertical-align: middle;\n",
       "    }\n",
       "\n",
       "    .dataframe tbody tr th {\n",
       "        vertical-align: top;\n",
       "    }\n",
       "\n",
       "    .dataframe thead th {\n",
       "        text-align: right;\n",
       "    }\n",
       "</style>\n",
       "<table border=\"1\" class=\"dataframe\">\n",
       "  <thead>\n",
       "    <tr style=\"text-align: right;\">\n",
       "      <th></th>\n",
       "      <th>order_completed_at</th>\n",
       "      <th>client_cum_sum_120</th>\n",
       "      <th>id</th>\n",
       "    </tr>\n",
       "  </thead>\n",
       "  <tbody>\n",
       "    <tr>\n",
       "      <th>0</th>\n",
       "      <td>2015-03-22 09:25:46</td>\n",
       "      <td>1</td>\n",
       "      <td>2;399</td>\n",
       "    </tr>\n",
       "    <tr>\n",
       "      <th>15</th>\n",
       "      <td>2015-03-22 09:25:46</td>\n",
       "      <td>16</td>\n",
       "      <td>2;425</td>\n",
       "    </tr>\n",
       "    <tr>\n",
       "      <th>14</th>\n",
       "      <td>2015-03-22 09:25:46</td>\n",
       "      <td>15</td>\n",
       "      <td>2;57</td>\n",
       "    </tr>\n",
       "    <tr>\n",
       "      <th>13</th>\n",
       "      <td>2015-03-22 09:25:46</td>\n",
       "      <td>14</td>\n",
       "      <td>2;89</td>\n",
       "    </tr>\n",
       "    <tr>\n",
       "      <th>11</th>\n",
       "      <td>2015-03-22 09:25:46</td>\n",
       "      <td>12</td>\n",
       "      <td>2;84</td>\n",
       "    </tr>\n",
       "  </tbody>\n",
       "</table>\n",
       "</div>"
      ],
      "text/plain": [
       "    order_completed_at  client_cum_sum_120     id\n",
       "0  2015-03-22 09:25:46                   1  2;399\n",
       "15 2015-03-22 09:25:46                  16  2;425\n",
       "14 2015-03-22 09:25:46                  15   2;57\n",
       "13 2015-03-22 09:25:46                  14   2;89\n",
       "11 2015-03-22 09:25:46                  12   2;84"
      ]
     },
     "execution_count": 13,
     "metadata": {},
     "output_type": "execute_result"
    }
   ],
   "source": [
    "df_w = df.copy()\n",
    "df_w['id'] = df['user_id'].astype(str) + ';' + df['cart'].astype(str)\n",
    "df_w.drop(['user_id', 'cart'], axis=1, inplace=True)\n",
    "df_w.sort_values(by='order_completed_at', ascending=True, inplace=True)\n",
    "df_w.head()"
   ]
  },
  {
   "cell_type": "code",
   "execution_count": 14,
   "id": "0ed16e97",
   "metadata": {
    "execution": {
     "iopub.execute_input": "2024-02-27T18:23:51.891980Z",
     "iopub.status.busy": "2024-02-27T18:23:51.891553Z",
     "iopub.status.idle": "2024-02-27T18:23:52.108616Z",
     "shell.execute_reply": "2024-02-27T18:23:52.107065Z"
    },
    "papermill": {
     "duration": 0.245976,
     "end_time": "2024-02-27T18:23:52.111550",
     "exception": false,
     "start_time": "2024-02-27T18:23:51.865574",
     "status": "completed"
    },
    "tags": []
   },
   "outputs": [
    {
     "name": "stdout",
     "output_type": "stream",
     "text": [
      "количество уникальных сочетаний id за последние 120 дней:\n",
      "321361\n"
     ]
    }
   ],
   "source": [
    "print(f\"\"\"количество уникальных сочетаний id за последние 120 дней:\n",
    "{df_w[df_w['order_completed_at'] >= \n",
    "(df_w['order_completed_at'].max() - pd.DateOffset(days=PRED))]['id'].nunique()}\"\"\")"
   ]
  },
  {
   "cell_type": "markdown",
   "id": "efe9d10e",
   "metadata": {
    "papermill": {
     "duration": 0.022742,
     "end_time": "2024-02-27T18:23:52.158679",
     "exception": false,
     "start_time": "2024-02-27T18:23:52.135937",
     "status": "completed"
    },
    "tags": []
   },
   "source": [
    "Создание целевого признака"
   ]
  },
  {
   "cell_type": "code",
   "execution_count": 15,
   "id": "b6656d57",
   "metadata": {
    "execution": {
     "iopub.execute_input": "2024-02-27T18:23:52.206615Z",
     "iopub.status.busy": "2024-02-27T18:23:52.206192Z",
     "iopub.status.idle": "2024-02-27T18:29:14.733668Z",
     "shell.execute_reply": "2024-02-27T18:29:14.732304Z"
    },
    "papermill": {
     "duration": 322.577086,
     "end_time": "2024-02-27T18:29:14.758545",
     "exception": false,
     "start_time": "2024-02-27T18:23:52.181459",
     "status": "completed"
    },
    "tags": []
   },
   "outputs": [
    {
     "name": "stdout",
     "output_type": "stream",
     "text": [
      "target создан, датафрейм сохранён\n"
     ]
    }
   ],
   "source": [
    "df_w['target'] = 0\n",
    "\n",
    "last_occurrence = {}\n",
    "\n",
    "for index, row in df_w.iterrows():\n",
    "    id_value = row['id']\n",
    "    if id_value in last_occurrence:\n",
    "        df_w.at[last_occurrence[id_value], 'target'] = 1\n",
    "    last_occurrence[id_value] = index\n",
    "    \n",
    "df_w.to_csv('ready_data.csv', index=False)\n",
    "print('target создан, датафрейм сохранён')"
   ]
  },
  {
   "cell_type": "markdown",
   "id": "043639db",
   "metadata": {
    "papermill": {
     "duration": 0.023281,
     "end_time": "2024-02-27T18:29:14.804409",
     "exception": false,
     "start_time": "2024-02-27T18:29:14.781128",
     "status": "completed"
    },
    "tags": []
   },
   "source": [
    "Загрузка датафрейма с таргетом"
   ]
  },
  {
   "cell_type": "code",
   "execution_count": 16,
   "id": "28154e1a",
   "metadata": {
    "execution": {
     "iopub.execute_input": "2024-02-27T18:29:14.853090Z",
     "iopub.status.busy": "2024-02-27T18:29:14.852692Z",
     "iopub.status.idle": "2024-02-27T18:29:14.857248Z",
     "shell.execute_reply": "2024-02-27T18:29:14.856301Z"
    },
    "papermill": {
     "duration": 0.032102,
     "end_time": "2024-02-27T18:29:14.859520",
     "exception": false,
     "start_time": "2024-02-27T18:29:14.827418",
     "status": "completed"
    },
    "tags": []
   },
   "outputs": [],
   "source": [
    "# try:\n",
    "#     df_w = pd.read_csv('data/ready_data.csv', parse_dates=['order_completed_at'])\n",
    "#     print('загружено из каталога \"data\"')\n",
    "# except:\n",
    "#     df_w = pd.read_csv('/kaggle/working/ready_data.csv', parse_dates=['order_completed_at'])\n",
    "#     print('загружено из каталога Kaggle')\n",
    "# finally:\n",
    "#     print(df_w.shape)"
   ]
  },
  {
   "cell_type": "markdown",
   "id": "c1ec2387",
   "metadata": {
    "papermill": {
     "duration": 0.022355,
     "end_time": "2024-02-27T18:29:14.904585",
     "exception": false,
     "start_time": "2024-02-27T18:29:14.882230",
     "status": "completed"
    },
    "tags": []
   },
   "source": [
    "Проверка корректности созданного target"
   ]
  },
  {
   "cell_type": "code",
   "execution_count": 17,
   "id": "80513175",
   "metadata": {
    "_kg_hide-input": true,
    "execution": {
     "iopub.execute_input": "2024-02-27T18:29:14.952613Z",
     "iopub.status.busy": "2024-02-27T18:29:14.951742Z",
     "iopub.status.idle": "2024-02-27T18:29:15.528288Z",
     "shell.execute_reply": "2024-02-27T18:29:15.527107Z"
    },
    "papermill": {
     "duration": 0.603451,
     "end_time": "2024-02-27T18:29:15.530829",
     "exception": false,
     "start_time": "2024-02-27T18:29:14.927378",
     "status": "completed"
    },
    "tags": []
   },
   "outputs": [
    {
     "data": {
      "text/html": [
       "<div>\n",
       "<style scoped>\n",
       "    .dataframe tbody tr th:only-of-type {\n",
       "        vertical-align: middle;\n",
       "    }\n",
       "\n",
       "    .dataframe tbody tr th {\n",
       "        vertical-align: top;\n",
       "    }\n",
       "\n",
       "    .dataframe thead th {\n",
       "        text-align: right;\n",
       "    }\n",
       "</style>\n",
       "<table border=\"1\" class=\"dataframe\">\n",
       "  <thead>\n",
       "    <tr style=\"text-align: right;\">\n",
       "      <th></th>\n",
       "      <th>order_completed_at</th>\n",
       "      <th>client_cum_sum_120</th>\n",
       "      <th>id</th>\n",
       "      <th>target</th>\n",
       "    </tr>\n",
       "  </thead>\n",
       "  <tbody>\n",
       "    <tr>\n",
       "      <th>14</th>\n",
       "      <td>2015-03-22 09:25:46</td>\n",
       "      <td>15</td>\n",
       "      <td>2;57</td>\n",
       "      <td>1</td>\n",
       "    </tr>\n",
       "    <tr>\n",
       "      <th>97</th>\n",
       "      <td>2016-05-27 19:21:46</td>\n",
       "      <td>5</td>\n",
       "      <td>2;57</td>\n",
       "      <td>1</td>\n",
       "    </tr>\n",
       "    <tr>\n",
       "      <th>10697</th>\n",
       "      <td>2018-01-12 23:36:19</td>\n",
       "      <td>13</td>\n",
       "      <td>2;57</td>\n",
       "      <td>1</td>\n",
       "    </tr>\n",
       "    <tr>\n",
       "      <th>222784</th>\n",
       "      <td>2019-10-03 17:37:23</td>\n",
       "      <td>22</td>\n",
       "      <td>2;57</td>\n",
       "      <td>1</td>\n",
       "    </tr>\n",
       "    <tr>\n",
       "      <th>246982</th>\n",
       "      <td>2019-10-11 09:05:20</td>\n",
       "      <td>22</td>\n",
       "      <td>2;57</td>\n",
       "      <td>1</td>\n",
       "    </tr>\n",
       "    <tr>\n",
       "      <th>307939</th>\n",
       "      <td>2019-10-25 21:05:56</td>\n",
       "      <td>1</td>\n",
       "      <td>2;57</td>\n",
       "      <td>1</td>\n",
       "    </tr>\n",
       "    <tr>\n",
       "      <th>345177</th>\n",
       "      <td>2019-11-02 22:00:26</td>\n",
       "      <td>9</td>\n",
       "      <td>2;57</td>\n",
       "      <td>1</td>\n",
       "    </tr>\n",
       "    <tr>\n",
       "      <th>382037</th>\n",
       "      <td>2019-11-09 20:45:19</td>\n",
       "      <td>10</td>\n",
       "      <td>2;57</td>\n",
       "      <td>1</td>\n",
       "    </tr>\n",
       "    <tr>\n",
       "      <th>404912</th>\n",
       "      <td>2019-11-13 19:05:45</td>\n",
       "      <td>3</td>\n",
       "      <td>2;57</td>\n",
       "      <td>1</td>\n",
       "    </tr>\n",
       "    <tr>\n",
       "      <th>599000</th>\n",
       "      <td>2019-12-22 14:57:39</td>\n",
       "      <td>4</td>\n",
       "      <td>2;57</td>\n",
       "      <td>0</td>\n",
       "    </tr>\n",
       "  </tbody>\n",
       "</table>\n",
       "</div>"
      ],
      "text/plain": [
       "        order_completed_at  client_cum_sum_120    id  target\n",
       "14     2015-03-22 09:25:46                  15  2;57       1\n",
       "97     2016-05-27 19:21:46                   5  2;57       1\n",
       "10697  2018-01-12 23:36:19                  13  2;57       1\n",
       "222784 2019-10-03 17:37:23                  22  2;57       1\n",
       "246982 2019-10-11 09:05:20                  22  2;57       1\n",
       "307939 2019-10-25 21:05:56                   1  2;57       1\n",
       "345177 2019-11-02 22:00:26                   9  2;57       1\n",
       "382037 2019-11-09 20:45:19                  10  2;57       1\n",
       "404912 2019-11-13 19:05:45                   3  2;57       1\n",
       "599000 2019-12-22 14:57:39                   4  2;57       0"
      ]
     },
     "execution_count": 17,
     "metadata": {},
     "output_type": "execute_result"
    }
   ],
   "source": [
    "df_w[df_w['id'] == '2;57']"
   ]
  },
  {
   "cell_type": "markdown",
   "id": "5c51a24f",
   "metadata": {
    "papermill": {
     "duration": 0.024092,
     "end_time": "2024-02-27T18:29:15.577862",
     "exception": false,
     "start_time": "2024-02-27T18:29:15.553770",
     "status": "completed"
    },
    "tags": []
   },
   "source": [
    "Добавление признака `is_holiday`"
   ]
  },
  {
   "cell_type": "code",
   "execution_count": 18,
   "id": "b130e7d2",
   "metadata": {
    "execution": {
     "iopub.execute_input": "2024-02-27T18:29:15.626377Z",
     "iopub.status.busy": "2024-02-27T18:29:15.625721Z",
     "iopub.status.idle": "2024-02-27T18:29:43.817747Z",
     "shell.execute_reply": "2024-02-27T18:29:43.816371Z"
    },
    "papermill": {
     "duration": 28.219549,
     "end_time": "2024-02-27T18:29:43.820701",
     "exception": false,
     "start_time": "2024-02-27T18:29:15.601152",
     "status": "completed"
    },
    "tags": []
   },
   "outputs": [],
   "source": [
    "df_w['date'] = df_w['order_completed_at'].apply(lambda x: x.strftime('%Y-%m-%d'))\n",
    "df_w['date'] = pd.to_datetime(df_w['date'])\n",
    "df_w['target'] = df_w['target'].astype('int8')\n",
    "df_w['is_holiday'] = df_w['date'].isin(holidays['date']).astype('int8')\n",
    "df_w.drop('date', axis=1, inplace=True)"
   ]
  },
  {
   "cell_type": "markdown",
   "id": "ade16044",
   "metadata": {
    "papermill": {
     "duration": 0.02329,
     "end_time": "2024-02-27T18:29:43.867315",
     "exception": false,
     "start_time": "2024-02-27T18:29:43.844025",
     "status": "completed"
    },
    "tags": []
   },
   "source": [
    "Кумулятивная сумма за 120 дней по сочетанию `user_id` + `cart`"
   ]
  },
  {
   "cell_type": "code",
   "execution_count": 19,
   "id": "bec656c8",
   "metadata": {
    "execution": {
     "iopub.execute_input": "2024-02-27T18:29:43.917064Z",
     "iopub.status.busy": "2024-02-27T18:29:43.916420Z",
     "iopub.status.idle": "2024-02-27T18:29:43.921723Z",
     "shell.execute_reply": "2024-02-27T18:29:43.920824Z"
    },
    "papermill": {
     "duration": 0.033551,
     "end_time": "2024-02-27T18:29:43.924126",
     "exception": false,
     "start_time": "2024-02-27T18:29:43.890575",
     "status": "completed"
    },
    "tags": []
   },
   "outputs": [],
   "source": [
    "# нет смысла\n",
    "# id_cum_sum_120\n",
    "# 1    3123037\n",
    "# 2         27\n",
    "# Name: count, dtype: int64\n",
    "\n",
    "# df_w['id_cum_sum_120'] = 0\n",
    "# prev_id = None\n",
    "# prev_date = None\n",
    "# id_cum_sum_120 = 0\n",
    "\n",
    "# for index, row in df_w.iterrows():\n",
    "#     if (prev_id == row['id'] \n",
    "#         and (row['order_completed_at'] - prev_date).days <= 120):\n",
    "#         id_cum_sum_120 += 1\n",
    "#     else:\n",
    "#         id_cum_sum_120 = 1\n",
    "\n",
    "#     df_w.at[index, 'id_cum_sum_120'] = id_cum_sum_120\n",
    "\n",
    "#     prev_id = row['id']\n",
    "#     prev_date = row['order_completed_at']\n",
    "# df_w.sample(5)"
   ]
  },
  {
   "cell_type": "markdown",
   "id": "c75dab90",
   "metadata": {
    "papermill": {
     "duration": 0.023321,
     "end_time": "2024-02-27T18:29:43.971304",
     "exception": false,
     "start_time": "2024-02-27T18:29:43.947983",
     "status": "completed"
    },
    "tags": []
   },
   "source": [
    "Установка даты индексом"
   ]
  },
  {
   "cell_type": "code",
   "execution_count": 20,
   "id": "67e30886",
   "metadata": {
    "execution": {
     "iopub.execute_input": "2024-02-27T18:29:44.022920Z",
     "iopub.status.busy": "2024-02-27T18:29:44.022002Z",
     "iopub.status.idle": "2024-02-27T18:29:44.043093Z",
     "shell.execute_reply": "2024-02-27T18:29:44.042109Z"
    },
    "papermill": {
     "duration": 0.050084,
     "end_time": "2024-02-27T18:29:44.045754",
     "exception": false,
     "start_time": "2024-02-27T18:29:43.995670",
     "status": "completed"
    },
    "tags": []
   },
   "outputs": [],
   "source": [
    "df_w.set_index('order_completed_at', inplace=True)\n",
    "df_w.sort_index(inplace=True)"
   ]
  },
  {
   "cell_type": "markdown",
   "id": "ea026908",
   "metadata": {
    "papermill": {
     "duration": 0.022857,
     "end_time": "2024-02-27T18:29:44.091874",
     "exception": false,
     "start_time": "2024-02-27T18:29:44.069017",
     "status": "completed"
    },
    "tags": []
   },
   "source": [
    "Соотношение классов целевого признака"
   ]
  },
  {
   "cell_type": "code",
   "execution_count": 21,
   "id": "6ed5f1e3",
   "metadata": {
    "execution": {
     "iopub.execute_input": "2024-02-27T18:29:44.143347Z",
     "iopub.status.busy": "2024-02-27T18:29:44.142890Z",
     "iopub.status.idle": "2024-02-27T18:29:44.341004Z",
     "shell.execute_reply": "2024-02-27T18:29:44.339362Z"
    },
    "papermill": {
     "duration": 0.226032,
     "end_time": "2024-02-27T18:29:44.344076",
     "exception": false,
     "start_time": "2024-02-27T18:29:44.118044",
     "status": "completed"
    },
    "tags": []
   },
   "outputs": [
    {
     "data": {
      "image/png": "[encoded data removed]",
      "text/plain": [
       "<Figure size 640x480 with 1 Axes>"
      ]
     },
     "metadata": {},
     "output_type": "display_data"
    }
   ],
   "source": [
    "sizes = [df_w['target'].value_counts()[1], df_w['target'].value_counts()[0]]\n",
    "fig1, ax1 = plt.subplots()\n",
    "ax1.pie(sizes, labels=['True', 'False'], autopct='%1.0f%%')\n",
    "plt.title('Соотношение классов целевого признака', size=12)\n",
    "plt.show()"
   ]
  },
  {
   "cell_type": "markdown",
   "id": "e11f8ec9",
   "metadata": {
    "papermill": {
     "duration": 0.023283,
     "end_time": "2024-02-27T18:29:44.391667",
     "exception": false,
     "start_time": "2024-02-27T18:29:44.368384",
     "status": "completed"
    },
    "tags": []
   },
   "source": [
    "### Выводы и наблюдения\n",
    "- добавлен признак `client_cum_sum_120` кумулятивной суммы \n",
    "  <br>активностей клиента в течение 120-ти дней\n",
    "- объединены `user_id` клиента и `cart` категории товаров в один признак `id`\n",
    "- создан целевой признак `target`\n",
    "- создан признак `is_holiday`\n",
    "- добавлен признак `id_cum_sum_120` кумулятивной суммы \n",
    "  <br>активностей сочетания `client_id` + `cart` в течение 120-ти дней\n",
    "- дата установлена в качестве индекса\n",
    "- изучен баланс классов целевого признака"
   ]
  },
  {
   "cell_type": "markdown",
   "id": "27025ad9",
   "metadata": {
    "papermill": {
     "duration": 0.023786,
     "end_time": "2024-02-27T18:29:44.439128",
     "exception": false,
     "start_time": "2024-02-27T18:29:44.415342",
     "status": "completed"
    },
    "tags": []
   },
   "source": [
    "## Проверка наличия сезонности"
   ]
  },
  {
   "cell_type": "code",
   "execution_count": 22,
   "id": "de8f48dc",
   "metadata": {
    "execution": {
     "iopub.execute_input": "2024-02-27T18:29:44.490702Z",
     "iopub.status.busy": "2024-02-27T18:29:44.490278Z",
     "iopub.status.idle": "2024-02-27T18:29:44.544667Z",
     "shell.execute_reply": "2024-02-27T18:29:44.543416Z"
    },
    "papermill": {
     "duration": 0.083655,
     "end_time": "2024-02-27T18:29:44.547814",
     "exception": false,
     "start_time": "2024-02-27T18:29:44.464159",
     "status": "completed"
    },
    "tags": []
   },
   "outputs": [],
   "source": [
    "df_s = df_w.copy()\n",
    "# df_s.set_index('order_completed_at', inplace=True)\n",
    "# df_s.sort_index(inplace=True)"
   ]
  },
  {
   "cell_type": "code",
   "execution_count": 23,
   "id": "3e9ae99b",
   "metadata": {
    "execution": {
     "iopub.execute_input": "2024-02-27T18:29:44.597375Z",
     "iopub.status.busy": "2024-02-27T18:29:44.596952Z",
     "iopub.status.idle": "2024-02-27T18:30:20.701579Z",
     "shell.execute_reply": "2024-02-27T18:30:20.700315Z"
    },
    "papermill": {
     "duration": 36.132427,
     "end_time": "2024-02-27T18:30:20.704277",
     "exception": false,
     "start_time": "2024-02-27T18:29:44.571850",
     "status": "completed"
    },
    "tags": []
   },
   "outputs": [
    {
     "data": {
      "image/png": "[encoded data removed]",
      "text/plain": [
       "<Figure size 1000x600 with 3 Axes>"
      ]
     },
     "metadata": {},
     "output_type": "display_data"
    },
    {
     "data": {
      "image/png": "[encoded data removed]",
      "text/plain": [
       "<Figure size 1000x600 with 3 Axes>"
      ]
     },
     "metadata": {},
     "output_type": "display_data"
    }
   ],
   "source": [
    "'''разложение на тренд, сезонность и остатки за год'''\n",
    "\n",
    "decomposed_units_year = seasonal_decompose(df_s['target'], period=365)\n",
    "\n",
    "plt.figure(figsize=(10,6))\n",
    "plt.suptitle('Decomposition Analysis of Annual Data', fontsize=12)\n",
    "plt.subplot(311)\n",
    "decomposed_units_year.trend.plot(ax=plt.gca())\n",
    "plt.title('Trend')\n",
    "plt.subplot(312)\n",
    "decomposed_units_year.seasonal.plot(ax=plt.gca())\n",
    "plt.title('Seasonality')\n",
    "plt.subplot(313)\n",
    "decomposed_units_year.resid.plot(ax=plt.gca())\n",
    "plt.title('Residuals')\n",
    "plt.tight_layout()\n",
    "\n",
    "'''разложение на тренд, сезонность и остатки за две недели'''\n",
    "\n",
    "decomposed_units_month = seasonal_decompose(df_s['target']['2019-06-24':'2019-07-24'], period=1)\n",
    "\n",
    "plt.figure(figsize=(10,6))\n",
    "plt.suptitle('Decomposition Analysis of Monthly Data (June 24, 2019 - July 24, 2019)', fontsize=12)\n",
    "plt.subplot(311)\n",
    "decomposed_units_month.trend.plot(ax=plt.gca())\n",
    "plt.title('Trend')\n",
    "plt.subplot(312)\n",
    "decomposed_units_month.seasonal.plot(ax=plt.gca())\n",
    "plt.title('Seasonality')\n",
    "plt.subplot(313)\n",
    "decomposed_units_month.resid.plot(ax=plt.gca())\n",
    "plt.title('Residuals')\n",
    "plt.tight_layout()"
   ]
  },
  {
   "cell_type": "markdown",
   "id": "03f063ab",
   "metadata": {
    "papermill": {
     "duration": 0.026403,
     "end_time": "2024-02-27T18:30:20.758363",
     "exception": false,
     "start_time": "2024-02-27T18:30:20.731960",
     "status": "completed"
    },
    "tags": []
   },
   "source": [
    "### Выводы и наблюдения\n",
    "- сезонности не обнаружено;\n",
    "- общего тренда также нет"
   ]
  },
  {
   "cell_type": "markdown",
   "id": "9193d15f",
   "metadata": {
    "papermill": {
     "duration": 0.025969,
     "end_time": "2024-02-27T18:30:20.810723",
     "exception": false,
     "start_time": "2024-02-27T18:30:20.784754",
     "status": "completed"
    },
    "tags": []
   },
   "source": [
    "## Подготовка к обучению"
   ]
  },
  {
   "cell_type": "markdown",
   "id": "39e32542",
   "metadata": {
    "papermill": {
     "duration": 0.026302,
     "end_time": "2024-02-27T18:30:20.864144",
     "exception": false,
     "start_time": "2024-02-27T18:30:20.837842",
     "status": "completed"
    },
    "tags": []
   },
   "source": [
    "Разделение на `train` и `test`"
   ]
  },
  {
   "cell_type": "code",
   "execution_count": 24,
   "id": "c5b800a9",
   "metadata": {
    "execution": {
     "iopub.execute_input": "2024-02-27T18:30:20.920715Z",
     "iopub.status.busy": "2024-02-27T18:30:20.920292Z",
     "iopub.status.idle": "2024-02-27T18:30:20.978007Z",
     "shell.execute_reply": "2024-02-27T18:30:20.976237Z"
    },
    "papermill": {
     "duration": 0.088337,
     "end_time": "2024-02-27T18:30:20.980642",
     "exception": false,
     "start_time": "2024-02-27T18:30:20.892305",
     "status": "completed"
    },
    "tags": []
   },
   "outputs": [
    {
     "name": "stdout",
     "output_type": "stream",
     "text": [
      "<class 'pandas.core.frame.DataFrame'>\n",
      "DatetimeIndex: 3123064 entries, 2015-03-22 09:25:46 to 2020-09-03 23:45:45\n",
      "Data columns (total 4 columns):\n",
      " #   Column              Dtype \n",
      "---  ------              ----- \n",
      " 0   client_cum_sum_120  int64 \n",
      " 1   id                  object\n",
      " 2   target              int8  \n",
      " 3   is_holiday          int8  \n",
      "dtypes: int64(1), int8(2), object(1)\n",
      "memory usage: 109.7+ MB\n"
     ]
    }
   ],
   "source": [
    "df_w.info()"
   ]
  },
  {
   "cell_type": "code",
   "execution_count": 25,
   "id": "521741cb",
   "metadata": {
    "execution": {
     "iopub.execute_input": "2024-02-27T18:30:21.039073Z",
     "iopub.status.busy": "2024-02-27T18:30:21.038641Z",
     "iopub.status.idle": "2024-02-27T18:30:21.357072Z",
     "shell.execute_reply": "2024-02-27T18:30:21.355772Z"
    },
    "papermill": {
     "duration": 0.350213,
     "end_time": "2024-02-27T18:30:21.359706",
     "exception": false,
     "start_time": "2024-02-27T18:30:21.009493",
     "status": "completed"
    },
    "tags": []
   },
   "outputs": [
    {
     "data": {
      "text/plain": [
       "((2677986, 3), (445078, 3), (2677986,), (445078,))"
      ]
     },
     "execution_count": 25,
     "metadata": {},
     "output_type": "execute_result"
    }
   ],
   "source": [
    "y = df_w['target']\n",
    "X = df_w.drop(['target'], axis=1)\n",
    "\n",
    "X_train = X[X.index < (X.index.max() - pd.DateOffset(days=PRED))]\n",
    "X_test = X[X.index >= (X.index.max() - pd.DateOffset(days=PRED))]\n",
    "y_train = y[:X_train.shape[0]]\n",
    "y_test = y[X_train.shape[0]:]\n",
    "X_train.shape, X_test.shape, y_train.shape, y_test.shape\n",
    "# ((1431604, 3), (1691460, 3), (1431604,), (1691460,)) PRED = 120\n",
    "# ((2677986, 3), (445078, 3), (2677986,), (445078,)) PRED = 30"
   ]
  },
  {
   "cell_type": "markdown",
   "id": "bd6374f8",
   "metadata": {
    "papermill": {
     "duration": 0.026218,
     "end_time": "2024-02-27T18:30:21.412456",
     "exception": false,
     "start_time": "2024-02-27T18:30:21.386238",
     "status": "completed"
    },
    "tags": []
   },
   "source": [
    "Масштабирование данных"
   ]
  },
  {
   "cell_type": "code",
   "execution_count": 26,
   "id": "bb977ffe",
   "metadata": {
    "execution": {
     "iopub.execute_input": "2024-02-27T18:30:21.467766Z",
     "iopub.status.busy": "2024-02-27T18:30:21.467328Z",
     "iopub.status.idle": "2024-02-27T18:30:21.872383Z",
     "shell.execute_reply": "2024-02-27T18:30:21.871079Z"
    },
    "papermill": {
     "duration": 0.436021,
     "end_time": "2024-02-27T18:30:21.875171",
     "exception": false,
     "start_time": "2024-02-27T18:30:21.439150",
     "status": "completed"
    },
    "tags": []
   },
   "outputs": [
    {
     "data": {
      "text/plain": [
       "((2677986, 3), (445078, 3))"
      ]
     },
     "execution_count": 26,
     "metadata": {},
     "output_type": "execute_result"
    }
   ],
   "source": [
    "scaler = StandardScaler()\n",
    "X_train_scl = (pd.DataFrame(scaler.fit_transform(X_train.drop(['id'], axis=1)),\n",
    "                            columns=X_train.drop(['id'], axis=1).columns,\n",
    "                            index=X_train.drop(['id'], axis=1).index))\n",
    "X_train_scl = pd.concat([X_train_scl, X_train[['id']]], axis=1)\n",
    "X_test_scl = (pd.DataFrame(scaler.transform(X_test.drop(['id'], axis=1)),\n",
    "                           columns=X_test.drop(['id'], axis=1).columns,\n",
    "                           index=X_test.drop(['id'], axis=1).index))\n",
    "X_test_scl = pd.concat([X_test_scl, X_test[['id']]], axis=1)\n",
    "\n",
    "X_train_scl.shape, X_test_scl.shape"
   ]
  },
  {
   "cell_type": "markdown",
   "id": "33f9d3f4",
   "metadata": {
    "papermill": {
     "duration": 0.026501,
     "end_time": "2024-02-27T18:30:21.928862",
     "exception": false,
     "start_time": "2024-02-27T18:30:21.902361",
     "status": "completed"
    },
    "tags": []
   },
   "source": [
    "## Обучение модели"
   ]
  },
  {
   "cell_type": "markdown",
   "id": "3242924e",
   "metadata": {
    "papermill": {
     "duration": 0.026344,
     "end_time": "2024-02-27T18:30:21.982446",
     "exception": false,
     "start_time": "2024-02-27T18:30:21.956102",
     "status": "completed"
    },
    "tags": []
   },
   "source": [
    "Baseline - LogisticRegression\n",
    "<br>Предсказания на обучающей выборке"
   ]
  },
  {
   "cell_type": "code",
   "execution_count": 27,
   "id": "057c08c5",
   "metadata": {
    "execution": {
     "iopub.execute_input": "2024-02-27T18:30:22.038885Z",
     "iopub.status.busy": "2024-02-27T18:30:22.037841Z",
     "iopub.status.idle": "2024-02-27T18:30:25.397674Z",
     "shell.execute_reply": "2024-02-27T18:30:25.396320Z"
    },
    "papermill": {
     "duration": 3.391732,
     "end_time": "2024-02-27T18:30:25.400874",
     "exception": false,
     "start_time": "2024-02-27T18:30:22.009142",
     "status": "completed"
    },
    "tags": []
   },
   "outputs": [
    {
     "data": {
      "text/plain": [
       "0.5428023414824554"
      ]
     },
     "execution_count": 27,
     "metadata": {},
     "output_type": "execute_result"
    }
   ],
   "source": [
    "baseline = LogisticRegression(random_state=RANDOM_STATE, class_weight='balanced')\n",
    "baseline.fit(X_train_scl.drop(['id'], axis=1), y_train)\n",
    "baseline_pred = baseline.predict(X_train_scl.drop(['id'], axis=1))\n",
    "baseline_f1 = f1_score(y_train, baseline_pred)\n",
    "baseline_f1"
   ]
  },
  {
   "cell_type": "markdown",
   "id": "06295b9d",
   "metadata": {
    "papermill": {
     "duration": 0.029929,
     "end_time": "2024-02-27T18:30:25.459820",
     "exception": false,
     "start_time": "2024-02-27T18:30:25.429891",
     "status": "completed"
    },
    "tags": []
   },
   "source": [
    "Предсказания на тестовой выборке"
   ]
  },
  {
   "cell_type": "code",
   "execution_count": 28,
   "id": "c9da454e",
   "metadata": {
    "execution": {
     "iopub.execute_input": "2024-02-27T18:30:25.515585Z",
     "iopub.status.busy": "2024-02-27T18:30:25.515137Z",
     "iopub.status.idle": "2024-02-27T18:30:25.775433Z",
     "shell.execute_reply": "2024-02-27T18:30:25.774044Z"
    },
    "papermill": {
     "duration": 0.291547,
     "end_time": "2024-02-27T18:30:25.778227",
     "exception": false,
     "start_time": "2024-02-27T18:30:25.486680",
     "status": "completed"
    },
    "tags": []
   },
   "outputs": [
    {
     "data": {
      "text/plain": [
       "0.29329753644287304"
      ]
     },
     "execution_count": 28,
     "metadata": {},
     "output_type": "execute_result"
    }
   ],
   "source": [
    "baseline_test_pred = baseline.predict(X_test_scl.drop(['id'], axis=1))\n",
    "baseline_test_f1 = f1_score(y_test, baseline_test_pred)\n",
    "baseline_test_f1"
   ]
  },
  {
   "cell_type": "code",
   "execution_count": 29,
   "id": "89e6ae6e",
   "metadata": {
    "execution": {
     "iopub.execute_input": "2024-02-27T18:30:25.834984Z",
     "iopub.status.busy": "2024-02-27T18:30:25.834013Z",
     "iopub.status.idle": "2024-02-27T18:30:25.857933Z",
     "shell.execute_reply": "2024-02-27T18:30:25.856627Z"
    },
    "papermill": {
     "duration": 0.055477,
     "end_time": "2024-02-27T18:30:25.860647",
     "exception": false,
     "start_time": "2024-02-27T18:30:25.805170",
     "status": "completed"
    },
    "tags": []
   },
   "outputs": [
    {
     "data": {
      "text/html": [
       "<div>\n",
       "<style scoped>\n",
       "    .dataframe tbody tr th:only-of-type {\n",
       "        vertical-align: middle;\n",
       "    }\n",
       "\n",
       "    .dataframe tbody tr th {\n",
       "        vertical-align: top;\n",
       "    }\n",
       "\n",
       "    .dataframe thead th {\n",
       "        text-align: right;\n",
       "    }\n",
       "</style>\n",
       "<table border=\"1\" class=\"dataframe\">\n",
       "  <thead>\n",
       "    <tr style=\"text-align: right;\">\n",
       "      <th></th>\n",
       "      <th>client_cum_sum_120</th>\n",
       "      <th>is_holiday</th>\n",
       "      <th>id</th>\n",
       "      <th>baseline</th>\n",
       "      <th>target</th>\n",
       "    </tr>\n",
       "    <tr>\n",
       "      <th>order_completed_at</th>\n",
       "      <th></th>\n",
       "      <th></th>\n",
       "      <th></th>\n",
       "      <th></th>\n",
       "      <th></th>\n",
       "    </tr>\n",
       "  </thead>\n",
       "  <tbody>\n",
       "    <tr>\n",
       "      <th>2020-09-03 23:45:45</th>\n",
       "      <td>-0.904170</td>\n",
       "      <td>-0.835578</td>\n",
       "      <td>12702;54</td>\n",
       "      <td>0</td>\n",
       "      <td>0</td>\n",
       "    </tr>\n",
       "    <tr>\n",
       "      <th>2020-09-03 23:45:45</th>\n",
       "      <td>-1.141573</td>\n",
       "      <td>-0.835578</td>\n",
       "      <td>12702;382</td>\n",
       "      <td>0</td>\n",
       "      <td>0</td>\n",
       "    </tr>\n",
       "    <tr>\n",
       "      <th>2020-09-03 23:45:45</th>\n",
       "      <td>2.182074</td>\n",
       "      <td>-0.835578</td>\n",
       "      <td>12702;24</td>\n",
       "      <td>1</td>\n",
       "      <td>0</td>\n",
       "    </tr>\n",
       "    <tr>\n",
       "      <th>2020-09-03 23:45:45</th>\n",
       "      <td>0.401549</td>\n",
       "      <td>-0.835578</td>\n",
       "      <td>12702;376</td>\n",
       "      <td>0</td>\n",
       "      <td>0</td>\n",
       "    </tr>\n",
       "    <tr>\n",
       "      <th>2020-09-03 23:45:45</th>\n",
       "      <td>2.300775</td>\n",
       "      <td>-0.835578</td>\n",
       "      <td>12702;430</td>\n",
       "      <td>1</td>\n",
       "      <td>0</td>\n",
       "    </tr>\n",
       "  </tbody>\n",
       "</table>\n",
       "</div>"
      ],
      "text/plain": [
       "                     client_cum_sum_120  is_holiday         id  baseline  \\\n",
       "order_completed_at                                                         \n",
       "2020-09-03 23:45:45           -0.904170   -0.835578   12702;54         0   \n",
       "2020-09-03 23:45:45           -1.141573   -0.835578  12702;382         0   \n",
       "2020-09-03 23:45:45            2.182074   -0.835578   12702;24         1   \n",
       "2020-09-03 23:45:45            0.401549   -0.835578  12702;376         0   \n",
       "2020-09-03 23:45:45            2.300775   -0.835578  12702;430         1   \n",
       "\n",
       "                     target  \n",
       "order_completed_at           \n",
       "2020-09-03 23:45:45       0  \n",
       "2020-09-03 23:45:45       0  \n",
       "2020-09-03 23:45:45       0  \n",
       "2020-09-03 23:45:45       0  \n",
       "2020-09-03 23:45:45       0  "
      ]
     },
     "execution_count": 29,
     "metadata": {},
     "output_type": "execute_result"
    }
   ],
   "source": [
    "X_test_pr = X_test_scl.copy()\n",
    "X_test_pr['baseline'] = baseline_test_pred\n",
    "X_test_pr['target'] = y_test.values\n",
    "X_test_pr.tail()\n",
    "# X_test_pr['predictions'].sum(), X_test_pr['target'].sum()"
   ]
  },
  {
   "cell_type": "markdown",
   "id": "b3b63662",
   "metadata": {
    "papermill": {
     "duration": 0.027489,
     "end_time": "2024-02-27T18:30:25.916785",
     "exception": false,
     "start_time": "2024-02-27T18:30:25.889296",
     "status": "completed"
    },
    "tags": []
   },
   "source": [
    "Случайный лес\n",
    "<br>Предсказания на обучающей выборке"
   ]
  },
  {
   "cell_type": "code",
   "execution_count": 30,
   "id": "932d3da2",
   "metadata": {
    "execution": {
     "iopub.execute_input": "2024-02-27T18:30:25.973469Z",
     "iopub.status.busy": "2024-02-27T18:30:25.973034Z",
     "iopub.status.idle": "2024-02-27T18:35:24.764254Z",
     "shell.execute_reply": "2024-02-27T18:35:24.763037Z"
    },
    "papermill": {
     "duration": 298.850016,
     "end_time": "2024-02-27T18:35:24.794145",
     "exception": false,
     "start_time": "2024-02-27T18:30:25.944129",
     "status": "completed"
    },
    "tags": []
   },
   "outputs": [
    {
     "data": {
      "text/plain": [
       "0.6088234604384228"
      ]
     },
     "execution_count": 30,
     "metadata": {},
     "output_type": "execute_result"
    }
   ],
   "source": [
    "rfc = RandomForestClassifier(random_state=RANDOM_STATE, class_weight='balanced')\n",
    "rfc.fit(X_train_scl.drop(['id'], axis=1), y_train)\n",
    "rfc_pred = rfc.predict(X_train_scl.drop(['id'], axis=1))\n",
    "rfc_f1 = f1_score(y_train, rfc_pred)\n",
    "rfc_f1"
   ]
  },
  {
   "cell_type": "markdown",
   "id": "e1e5f1da",
   "metadata": {
    "papermill": {
     "duration": 0.026757,
     "end_time": "2024-02-27T18:35:24.848150",
     "exception": false,
     "start_time": "2024-02-27T18:35:24.821393",
     "status": "completed"
    },
    "tags": []
   },
   "source": [
    "Предсказания на тестовой выборке"
   ]
  },
  {
   "cell_type": "code",
   "execution_count": 31,
   "id": "ca4dccc2",
   "metadata": {
    "execution": {
     "iopub.execute_input": "2024-02-27T18:35:24.905511Z",
     "iopub.status.busy": "2024-02-27T18:35:24.904093Z",
     "iopub.status.idle": "2024-02-27T18:35:28.208815Z",
     "shell.execute_reply": "2024-02-27T18:35:28.207608Z"
    },
    "papermill": {
     "duration": 3.336476,
     "end_time": "2024-02-27T18:35:28.211758",
     "exception": false,
     "start_time": "2024-02-27T18:35:24.875282",
     "status": "completed"
    },
    "tags": []
   },
   "outputs": [
    {
     "data": {
      "text/plain": [
       "0.3271070735696266"
      ]
     },
     "execution_count": 31,
     "metadata": {},
     "output_type": "execute_result"
    }
   ],
   "source": [
    "rfc_test_pred = rfc.predict(X_test_scl.drop(['id'], axis=1))\n",
    "rfc_test_f1 = f1_score(y_test, rfc_test_pred)\n",
    "rfc_test_f1"
   ]
  },
  {
   "cell_type": "code",
   "execution_count": 32,
   "id": "916291b4",
   "metadata": {
    "execution": {
     "iopub.execute_input": "2024-02-27T18:35:28.270595Z",
     "iopub.status.busy": "2024-02-27T18:35:28.270157Z",
     "iopub.status.idle": "2024-02-27T18:35:28.290496Z",
     "shell.execute_reply": "2024-02-27T18:35:28.289250Z"
    },
    "papermill": {
     "duration": 0.05228,
     "end_time": "2024-02-27T18:35:28.292788",
     "exception": false,
     "start_time": "2024-02-27T18:35:28.240508",
     "status": "completed"
    },
    "tags": []
   },
   "outputs": [
    {
     "data": {
      "text/html": [
       "<div>\n",
       "<style scoped>\n",
       "    .dataframe tbody tr th:only-of-type {\n",
       "        vertical-align: middle;\n",
       "    }\n",
       "\n",
       "    .dataframe tbody tr th {\n",
       "        vertical-align: top;\n",
       "    }\n",
       "\n",
       "    .dataframe thead th {\n",
       "        text-align: right;\n",
       "    }\n",
       "</style>\n",
       "<table border=\"1\" class=\"dataframe\">\n",
       "  <thead>\n",
       "    <tr style=\"text-align: right;\">\n",
       "      <th></th>\n",
       "      <th>client_cum_sum_120</th>\n",
       "      <th>is_holiday</th>\n",
       "      <th>id</th>\n",
       "      <th>baseline</th>\n",
       "      <th>target</th>\n",
       "      <th>rfc</th>\n",
       "    </tr>\n",
       "    <tr>\n",
       "      <th>order_completed_at</th>\n",
       "      <th></th>\n",
       "      <th></th>\n",
       "      <th></th>\n",
       "      <th></th>\n",
       "      <th></th>\n",
       "      <th></th>\n",
       "    </tr>\n",
       "  </thead>\n",
       "  <tbody>\n",
       "    <tr>\n",
       "      <th>2020-09-03 23:45:45</th>\n",
       "      <td>-0.904170</td>\n",
       "      <td>-0.835578</td>\n",
       "      <td>12702;54</td>\n",
       "      <td>0</td>\n",
       "      <td>0</td>\n",
       "      <td>0</td>\n",
       "    </tr>\n",
       "    <tr>\n",
       "      <th>2020-09-03 23:45:45</th>\n",
       "      <td>-1.141573</td>\n",
       "      <td>-0.835578</td>\n",
       "      <td>12702;382</td>\n",
       "      <td>0</td>\n",
       "      <td>0</td>\n",
       "      <td>0</td>\n",
       "    </tr>\n",
       "    <tr>\n",
       "      <th>2020-09-03 23:45:45</th>\n",
       "      <td>2.182074</td>\n",
       "      <td>-0.835578</td>\n",
       "      <td>12702;24</td>\n",
       "      <td>1</td>\n",
       "      <td>0</td>\n",
       "      <td>1</td>\n",
       "    </tr>\n",
       "    <tr>\n",
       "      <th>2020-09-03 23:45:45</th>\n",
       "      <td>0.401549</td>\n",
       "      <td>-0.835578</td>\n",
       "      <td>12702;376</td>\n",
       "      <td>0</td>\n",
       "      <td>0</td>\n",
       "      <td>1</td>\n",
       "    </tr>\n",
       "    <tr>\n",
       "      <th>2020-09-03 23:45:45</th>\n",
       "      <td>2.300775</td>\n",
       "      <td>-0.835578</td>\n",
       "      <td>12702;430</td>\n",
       "      <td>1</td>\n",
       "      <td>0</td>\n",
       "      <td>1</td>\n",
       "    </tr>\n",
       "  </tbody>\n",
       "</table>\n",
       "</div>"
      ],
      "text/plain": [
       "                     client_cum_sum_120  is_holiday         id  baseline  \\\n",
       "order_completed_at                                                         \n",
       "2020-09-03 23:45:45           -0.904170   -0.835578   12702;54         0   \n",
       "2020-09-03 23:45:45           -1.141573   -0.835578  12702;382         0   \n",
       "2020-09-03 23:45:45            2.182074   -0.835578   12702;24         1   \n",
       "2020-09-03 23:45:45            0.401549   -0.835578  12702;376         0   \n",
       "2020-09-03 23:45:45            2.300775   -0.835578  12702;430         1   \n",
       "\n",
       "                     target  rfc  \n",
       "order_completed_at                \n",
       "2020-09-03 23:45:45       0    0  \n",
       "2020-09-03 23:45:45       0    0  \n",
       "2020-09-03 23:45:45       0    1  \n",
       "2020-09-03 23:45:45       0    1  \n",
       "2020-09-03 23:45:45       0    1  "
      ]
     },
     "metadata": {},
     "output_type": "display_data"
    },
    {
     "data": {
      "text/plain": [
       "(140738, 123717, 178337)"
      ]
     },
     "execution_count": 32,
     "metadata": {},
     "output_type": "execute_result"
    }
   ],
   "source": [
    "X_test_pr['rfc'] = rfc_test_pred\n",
    "display(X_test_pr.tail())\n",
    "X_test_pr['baseline'].sum(), X_test_pr['target'].sum(), X_test_pr['rfc'].sum()"
   ]
  },
  {
   "cell_type": "markdown",
   "id": "3bbe86ce",
   "metadata": {
    "papermill": {
     "duration": 0.027659,
     "end_time": "2024-02-27T18:35:28.349043",
     "exception": false,
     "start_time": "2024-02-27T18:35:28.321384",
     "status": "completed"
    },
    "tags": []
   },
   "source": [
    "## Обучение на полном наборе данных и получение предсказаний покупок"
   ]
  },
  {
   "cell_type": "markdown",
   "id": "27d52519",
   "metadata": {
    "papermill": {
     "duration": 0.027918,
     "end_time": "2024-02-27T18:35:28.405090",
     "exception": false,
     "start_time": "2024-02-27T18:35:28.377172",
     "status": "completed"
    },
    "tags": []
   },
   "source": [
    "Добавление рандомной даты"
   ]
  },
  {
   "cell_type": "code",
   "execution_count": 33,
   "id": "624994ee",
   "metadata": {
    "execution": {
     "iopub.execute_input": "2024-02-27T18:35:28.464458Z",
     "iopub.status.busy": "2024-02-27T18:35:28.464037Z",
     "iopub.status.idle": "2024-02-27T18:35:28.498821Z",
     "shell.execute_reply": "2024-02-27T18:35:28.497730Z"
    },
    "papermill": {
     "duration": 0.068439,
     "end_time": "2024-02-27T18:35:28.501619",
     "exception": false,
     "start_time": "2024-02-27T18:35:28.433180",
     "status": "completed"
    },
    "tags": []
   },
   "outputs": [],
   "source": [
    "sample_sub['date'] = pd.to_datetime('2020-03-31')\n",
    "sample_sub.drop(['target'], axis=1, inplace=True)"
   ]
  },
  {
   "cell_type": "markdown",
   "id": "16a91132",
   "metadata": {
    "papermill": {
     "duration": 0.030185,
     "end_time": "2024-02-27T18:35:28.559890",
     "exception": false,
     "start_time": "2024-02-27T18:35:28.529705",
     "status": "completed"
    },
    "tags": []
   },
   "source": [
    "Добавление признака `is_holiday`"
   ]
  },
  {
   "cell_type": "code",
   "execution_count": 34,
   "id": "70a52ddf",
   "metadata": {
    "execution": {
     "iopub.execute_input": "2024-02-27T18:35:28.618183Z",
     "iopub.status.busy": "2024-02-27T18:35:28.617735Z",
     "iopub.status.idle": "2024-02-27T18:35:28.629129Z",
     "shell.execute_reply": "2024-02-27T18:35:28.628148Z"
    },
    "papermill": {
     "duration": 0.043834,
     "end_time": "2024-02-27T18:35:28.631787",
     "exception": false,
     "start_time": "2024-02-27T18:35:28.587953",
     "status": "completed"
    },
    "tags": []
   },
   "outputs": [],
   "source": [
    "sample_sub['is_holiday'] = sample_sub['date'].isin(holidays['date']).astype('int8')"
   ]
  },
  {
   "cell_type": "markdown",
   "id": "6708b118",
   "metadata": {
    "papermill": {
     "duration": 0.029336,
     "end_time": "2024-02-27T18:35:28.690387",
     "exception": false,
     "start_time": "2024-02-27T18:35:28.661051",
     "status": "completed"
    },
    "tags": []
   },
   "source": [
    "Удаление всех записей, кроме самых последних `id`"
   ]
  },
  {
   "cell_type": "code",
   "execution_count": 35,
   "id": "5a8df9fe",
   "metadata": {
    "execution": {
     "iopub.execute_input": "2024-02-27T18:35:28.751262Z",
     "iopub.status.busy": "2024-02-27T18:35:28.750558Z",
     "iopub.status.idle": "2024-02-27T18:35:30.972443Z",
     "shell.execute_reply": "2024-02-27T18:35:30.970941Z"
    },
    "papermill": {
     "duration": 2.255449,
     "end_time": "2024-02-27T18:35:30.975355",
     "exception": false,
     "start_time": "2024-02-27T18:35:28.719906",
     "status": "completed"
    },
    "tags": []
   },
   "outputs": [],
   "source": [
    "df_unique_last = X.drop_duplicates(subset='id', keep='last')\n",
    "sample_sub = sample_sub.merge(df_unique_last[['id', 'client_cum_sum_120']], how='left', on='id')\n",
    "sample_sub.set_index('date', inplace=True)\n",
    "sample_sub.sort_index(inplace=True)"
   ]
  },
  {
   "cell_type": "markdown",
   "id": "51e22b53",
   "metadata": {
    "papermill": {
     "duration": 0.02956,
     "end_time": "2024-02-27T18:35:31.037835",
     "exception": false,
     "start_time": "2024-02-27T18:35:31.008275",
     "status": "completed"
    },
    "tags": []
   },
   "source": [
    "Масштабирование данных"
   ]
  },
  {
   "cell_type": "code",
   "execution_count": 36,
   "id": "58a49ed4",
   "metadata": {
    "execution": {
     "iopub.execute_input": "2024-02-27T18:35:31.098325Z",
     "iopub.status.busy": "2024-02-27T18:35:31.097894Z",
     "iopub.status.idle": "2024-02-27T18:35:31.458476Z",
     "shell.execute_reply": "2024-02-27T18:35:31.457464Z"
    },
    "papermill": {
     "duration": 0.393121,
     "end_time": "2024-02-27T18:35:31.460764",
     "exception": false,
     "start_time": "2024-02-27T18:35:31.067643",
     "status": "completed"
    },
    "tags": []
   },
   "outputs": [
    {
     "data": {
      "text/plain": [
       "((3123064, 3), (790449, 3))"
      ]
     },
     "execution_count": 36,
     "metadata": {},
     "output_type": "execute_result"
    }
   ],
   "source": [
    "X_scl = (pd.DataFrame(scaler.fit_transform(X.drop(['id'], axis=1)),\n",
    "                      columns=X.drop(['id'], axis=1).columns,\n",
    "                      index=X.drop(['id'], axis=1).index))\n",
    "X_scl = pd.concat([X_scl, X['id']], axis=1)\n",
    "X_sub_scl = (pd.DataFrame(scaler.transform(sample_sub[['client_cum_sum_120', 'is_holiday']]),\n",
    "                          columns=sample_sub[['client_cum_sum_120', 'is_holiday']].columns,\n",
    "                          index=sample_sub[['client_cum_sum_120', 'is_holiday']].index))\n",
    "X_sub_scl = pd.concat([X_sub_scl, sample_sub['id']], axis=1)\n",
    "\n",
    "X_scl.shape, X_sub_scl.shape"
   ]
  },
  {
   "cell_type": "markdown",
   "id": "f3ee08d4",
   "metadata": {
    "papermill": {
     "duration": 0.02846,
     "end_time": "2024-02-27T18:35:31.517411",
     "exception": false,
     "start_time": "2024-02-27T18:35:31.488951",
     "status": "completed"
    },
    "tags": []
   },
   "source": [
    "Обучение модели"
   ]
  },
  {
   "cell_type": "code",
   "execution_count": 37,
   "id": "bb2b18c4",
   "metadata": {
    "execution": {
     "iopub.execute_input": "2024-02-27T18:35:31.576522Z",
     "iopub.status.busy": "2024-02-27T18:35:31.575815Z",
     "iopub.status.idle": "2024-02-27T18:41:16.735081Z",
     "shell.execute_reply": "2024-02-27T18:41:16.733650Z"
    },
    "papermill": {
     "duration": 345.220929,
     "end_time": "2024-02-27T18:41:16.766414",
     "exception": false,
     "start_time": "2024-02-27T18:35:31.545485",
     "status": "completed"
    },
    "tags": []
   },
   "outputs": [
    {
     "data": {
      "text/plain": [
       "0.5641479504889368"
      ]
     },
     "execution_count": 37,
     "metadata": {},
     "output_type": "execute_result"
    }
   ],
   "source": [
    "rfc = RandomForestClassifier(random_state=RANDOM_STATE, class_weight='balanced')\n",
    "rfc.fit(X_scl.drop(['id'], axis=1), y)\n",
    "rfc_pred_big = rfc.predict(X_scl.drop(['id'], axis=1))\n",
    "rfc_big_f1 = f1_score(y, rfc_pred_big)\n",
    "rfc_big_f1"
   ]
  },
  {
   "cell_type": "markdown",
   "id": "5807266c",
   "metadata": {
    "papermill": {
     "duration": 0.027993,
     "end_time": "2024-02-27T18:41:16.822715",
     "exception": false,
     "start_time": "2024-02-27T18:41:16.794722",
     "status": "completed"
    },
    "tags": []
   },
   "source": [
    "Предсказания для отправки"
   ]
  },
  {
   "cell_type": "code",
   "execution_count": 38,
   "id": "f57be075",
   "metadata": {
    "execution": {
     "iopub.execute_input": "2024-02-27T18:41:16.881747Z",
     "iopub.status.busy": "2024-02-27T18:41:16.881330Z",
     "iopub.status.idle": "2024-02-27T18:41:16.895792Z",
     "shell.execute_reply": "2024-02-27T18:41:16.894451Z"
    },
    "papermill": {
     "duration": 0.047534,
     "end_time": "2024-02-27T18:41:16.898651",
     "exception": false,
     "start_time": "2024-02-27T18:41:16.851117",
     "status": "completed"
    },
    "tags": []
   },
   "outputs": [
    {
     "data": {
      "text/html": [
       "<div>\n",
       "<style scoped>\n",
       "    .dataframe tbody tr th:only-of-type {\n",
       "        vertical-align: middle;\n",
       "    }\n",
       "\n",
       "    .dataframe tbody tr th {\n",
       "        vertical-align: top;\n",
       "    }\n",
       "\n",
       "    .dataframe thead th {\n",
       "        text-align: right;\n",
       "    }\n",
       "</style>\n",
       "<table border=\"1\" class=\"dataframe\">\n",
       "  <thead>\n",
       "    <tr style=\"text-align: right;\">\n",
       "      <th></th>\n",
       "      <th>client_cum_sum_120</th>\n",
       "      <th>is_holiday</th>\n",
       "      <th>id</th>\n",
       "    </tr>\n",
       "    <tr>\n",
       "      <th>date</th>\n",
       "      <th></th>\n",
       "      <th></th>\n",
       "      <th></th>\n",
       "    </tr>\n",
       "  </thead>\n",
       "  <tbody>\n",
       "    <tr>\n",
       "      <th>2020-03-31</th>\n",
       "      <td>-1.139846</td>\n",
       "      <td>1.264448</td>\n",
       "      <td>0;133</td>\n",
       "    </tr>\n",
       "    <tr>\n",
       "      <th>2020-03-31</th>\n",
       "      <td>-1.019773</td>\n",
       "      <td>1.264448</td>\n",
       "      <td>0;5</td>\n",
       "    </tr>\n",
       "    <tr>\n",
       "      <th>2020-03-31</th>\n",
       "      <td>-0.779627</td>\n",
       "      <td>1.264448</td>\n",
       "      <td>0;10</td>\n",
       "    </tr>\n",
       "    <tr>\n",
       "      <th>2020-03-31</th>\n",
       "      <td>1.381688</td>\n",
       "      <td>1.264448</td>\n",
       "      <td>0;396</td>\n",
       "    </tr>\n",
       "    <tr>\n",
       "      <th>2020-03-31</th>\n",
       "      <td>-0.539481</td>\n",
       "      <td>1.264448</td>\n",
       "      <td>0;14</td>\n",
       "    </tr>\n",
       "    <tr>\n",
       "      <th>...</th>\n",
       "      <td>...</td>\n",
       "      <td>...</td>\n",
       "      <td>...</td>\n",
       "    </tr>\n",
       "    <tr>\n",
       "      <th>2020-03-31</th>\n",
       "      <td>-0.419408</td>\n",
       "      <td>1.264448</td>\n",
       "      <td>19998;26</td>\n",
       "    </tr>\n",
       "    <tr>\n",
       "      <th>2020-03-31</th>\n",
       "      <td>-0.539481</td>\n",
       "      <td>1.264448</td>\n",
       "      <td>19998;31</td>\n",
       "    </tr>\n",
       "    <tr>\n",
       "      <th>2020-03-31</th>\n",
       "      <td>-0.299335</td>\n",
       "      <td>1.264448</td>\n",
       "      <td>19998;29</td>\n",
       "    </tr>\n",
       "    <tr>\n",
       "      <th>2020-03-31</th>\n",
       "      <td>-1.019773</td>\n",
       "      <td>1.264448</td>\n",
       "      <td>19998;798</td>\n",
       "    </tr>\n",
       "    <tr>\n",
       "      <th>2020-03-31</th>\n",
       "      <td>-0.659554</td>\n",
       "      <td>1.264448</td>\n",
       "      <td>19998;415</td>\n",
       "    </tr>\n",
       "  </tbody>\n",
       "</table>\n",
       "<p>790449 rows × 3 columns</p>\n",
       "</div>"
      ],
      "text/plain": [
       "            client_cum_sum_120  is_holiday         id\n",
       "date                                                 \n",
       "2020-03-31           -1.139846    1.264448      0;133\n",
       "2020-03-31           -1.019773    1.264448        0;5\n",
       "2020-03-31           -0.779627    1.264448       0;10\n",
       "2020-03-31            1.381688    1.264448      0;396\n",
       "2020-03-31           -0.539481    1.264448       0;14\n",
       "...                        ...         ...        ...\n",
       "2020-03-31           -0.419408    1.264448   19998;26\n",
       "2020-03-31           -0.539481    1.264448   19998;31\n",
       "2020-03-31           -0.299335    1.264448   19998;29\n",
       "2020-03-31           -1.019773    1.264448  19998;798\n",
       "2020-03-31           -0.659554    1.264448  19998;415\n",
       "\n",
       "[790449 rows x 3 columns]"
      ]
     },
     "execution_count": 38,
     "metadata": {},
     "output_type": "execute_result"
    }
   ],
   "source": [
    "X_sub_scl"
   ]
  },
  {
   "cell_type": "code",
   "execution_count": 39,
   "id": "28ace687",
   "metadata": {
    "execution": {
     "iopub.execute_input": "2024-02-27T18:41:16.958112Z",
     "iopub.status.busy": "2024-02-27T18:41:16.957625Z",
     "iopub.status.idle": "2024-02-27T18:41:23.873315Z",
     "shell.execute_reply": "2024-02-27T18:41:23.871868Z"
    },
    "papermill": {
     "duration": 6.94895,
     "end_time": "2024-02-27T18:41:23.876447",
     "exception": false,
     "start_time": "2024-02-27T18:41:16.927497",
     "status": "completed"
    },
    "tags": []
   },
   "outputs": [],
   "source": [
    "rfc_sub_pred = rfc.predict(X_sub_scl.drop(['id'], axis=1))\n",
    "submission = X_sub_scl.copy()\n",
    "submission['target'] = rfc_sub_pred"
   ]
  },
  {
   "cell_type": "code",
   "execution_count": 40,
   "id": "01118b88",
   "metadata": {
    "execution": {
     "iopub.execute_input": "2024-02-27T18:41:23.939158Z",
     "iopub.status.busy": "2024-02-27T18:41:23.938719Z",
     "iopub.status.idle": "2024-02-27T18:41:23.972711Z",
     "shell.execute_reply": "2024-02-27T18:41:23.971454Z"
    },
    "papermill": {
     "duration": 0.068528,
     "end_time": "2024-02-27T18:41:23.975502",
     "exception": false,
     "start_time": "2024-02-27T18:41:23.906974",
     "status": "completed"
    },
    "tags": []
   },
   "outputs": [
    {
     "data": {
      "text/html": [
       "<div>\n",
       "<style scoped>\n",
       "    .dataframe tbody tr th:only-of-type {\n",
       "        vertical-align: middle;\n",
       "    }\n",
       "\n",
       "    .dataframe tbody tr th {\n",
       "        vertical-align: top;\n",
       "    }\n",
       "\n",
       "    .dataframe thead th {\n",
       "        text-align: right;\n",
       "    }\n",
       "</style>\n",
       "<table border=\"1\" class=\"dataframe\">\n",
       "  <thead>\n",
       "    <tr style=\"text-align: right;\">\n",
       "      <th></th>\n",
       "      <th>id</th>\n",
       "      <th>target</th>\n",
       "    </tr>\n",
       "  </thead>\n",
       "  <tbody>\n",
       "    <tr>\n",
       "      <th>0</th>\n",
       "      <td>0;133</td>\n",
       "      <td>1</td>\n",
       "    </tr>\n",
       "    <tr>\n",
       "      <th>1</th>\n",
       "      <td>0;5</td>\n",
       "      <td>1</td>\n",
       "    </tr>\n",
       "    <tr>\n",
       "      <th>2</th>\n",
       "      <td>0;10</td>\n",
       "      <td>1</td>\n",
       "    </tr>\n",
       "    <tr>\n",
       "      <th>3</th>\n",
       "      <td>0;396</td>\n",
       "      <td>1</td>\n",
       "    </tr>\n",
       "    <tr>\n",
       "      <th>4</th>\n",
       "      <td>0;14</td>\n",
       "      <td>1</td>\n",
       "    </tr>\n",
       "  </tbody>\n",
       "</table>\n",
       "</div>"
      ],
      "text/plain": [
       "      id  target\n",
       "0  0;133       1\n",
       "1    0;5       1\n",
       "2   0;10       1\n",
       "3  0;396       1\n",
       "4   0;14       1"
      ]
     },
     "execution_count": 40,
     "metadata": {},
     "output_type": "execute_result"
    }
   ],
   "source": [
    "submission.drop(['client_cum_sum_120', 'is_holiday'], axis=1, inplace=True)\n",
    "submission.reset_index(drop=True, inplace=True)\n",
    "submission.head()"
   ]
  },
  {
   "cell_type": "code",
   "execution_count": 41,
   "id": "f0da65ef",
   "metadata": {
    "execution": {
     "iopub.execute_input": "2024-02-27T18:41:24.037965Z",
     "iopub.status.busy": "2024-02-27T18:41:24.037509Z",
     "iopub.status.idle": "2024-02-27T18:41:25.152308Z",
     "shell.execute_reply": "2024-02-27T18:41:25.150602Z"
    },
    "papermill": {
     "duration": 1.149403,
     "end_time": "2024-02-27T18:41:25.155164",
     "exception": false,
     "start_time": "2024-02-27T18:41:24.005761",
     "status": "completed"
    },
    "tags": []
   },
   "outputs": [
    {
     "name": "stdout",
     "output_type": "stream",
     "text": [
      "submission.csv сохранён\n"
     ]
    }
   ],
   "source": [
    "submission.to_csv('submission.csv', index=False)\n",
    "print('submission.csv сохранён')"
   ]
  }
 ],
 "metadata": {
  "kaggle": {
   "accelerator": "none",
   "dataSources": [
    {
     "databundleVersionId": 2344227,
     "sourceId": 29296,
     "sourceType": "competition"
    }
   ],
   "dockerImageVersionId": 30646,
   "isGpuEnabled": false,
   "isInternetEnabled": true,
   "language": "python",
   "sourceType": "notebook"
  },
  "kernelspec": {
   "display_name": "Python 3",
   "language": "python",
   "name": "python3"
  },
  "language_info": {
   "codemirror_mode": {
    "name": "ipython",
    "version": 3
   },
   "file_extension": ".py",
   "mimetype": "text/x-python",
   "name": "python",
   "nbconvert_exporter": "python",
   "pygments_lexer": "ipython3",
   "version": "3.10.13"
  },
  "papermill": {
   "default_parameters": {},
   "duration": 1496.470112,
   "end_time": "2024-02-27T18:41:27.914748",
   "environment_variables": {},
   "exception": null,
   "input_path": "__notebook__.ipynb",
   "output_path": "__notebook__.ipynb",
   "parameters": {},
   "start_time": "2024-02-27T18:16:31.444636",
   "version": "2.5.0"
  }
 },
 "nbformat": 4,
 "nbformat_minor": 5
}
